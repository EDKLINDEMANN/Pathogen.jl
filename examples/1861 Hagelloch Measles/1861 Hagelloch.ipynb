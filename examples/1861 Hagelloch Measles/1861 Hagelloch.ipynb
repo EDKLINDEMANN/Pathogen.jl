{
 "cells": [
  {
   "cell_type": "markdown",
   "metadata": {},
   "source": [
    "# 1861 Hagelloch Measles\n",
    "\n",
    "Data references:\n",
    "\n",
    "* Pfeilsticker, A. 1863. Beiträge zur Pathologie der Masern mit besonderer Berücksichtigung der statistischen Verhältnisse, M.D. Thesis, Eberhard-Karls-Universität Tübingen. Available as http://www.archive.org/details/beitrgezurpatho00pfeigoog.\n",
    "* Oesterle, H. 1992. Statistische Reanalyse einer Masernepidemie 1861 in Hagelloch, M.D. Thesis, Eberhard-Karls-Universitäat Tübingen.\n",
    "* Höhle M. 2007. surveillance: An R package for the monitoring of infectious diseases. Computational Statistics, 22:571-582."
   ]
  },
  {
   "cell_type": "code",
   "execution_count": 1,
   "metadata": {},
   "outputs": [],
   "source": [
    "using CSV, DelimitedFiles, Distances, Random, Pathogen, Plots, Plots.PlotMeasures, DataFrames;\n",
    "Random.seed!(4321);"
   ]
  },
  {
   "cell_type": "code",
   "execution_count": 2,
   "metadata": {},
   "outputs": [
    {
     "data": {
      "text/html": [
       "<table class=\"data-frame\"><thead><tr><th></th><th>age</th><th>gender</th><th>family_ID</th><th>class</th><th>x</th><th>y</th></tr><tr><th></th><th>Int64</th><th>String</th><th>Int64</th><th>Int64</th><th>Float64</th><th>Float64</th></tr></thead><tbody><p>188 rows × 6 columns</p><tr><th>1</th><td>7</td><td>f</td><td>41</td><td>1</td><td>142.5</td><td>100.0</td></tr><tr><th>2</th><td>6</td><td>f</td><td>41</td><td>1</td><td>142.5</td><td>100.0</td></tr><tr><th>3</th><td>4</td><td>f</td><td>41</td><td>0</td><td>142.5</td><td>100.0</td></tr><tr><th>4</th><td>13</td><td>m</td><td>61</td><td>2</td><td>165.0</td><td>102.5</td></tr><tr><th>5</th><td>8</td><td>f</td><td>42</td><td>1</td><td>145.0</td><td>120.0</td></tr><tr><th>6</th><td>12</td><td>m</td><td>42</td><td>2</td><td>145.0</td><td>120.0</td></tr><tr><th>7</th><td>6</td><td>m</td><td>26</td><td>0</td><td>272.5</td><td>147.5</td></tr><tr><th>8</th><td>10</td><td>m</td><td>44</td><td>1</td><td>97.5</td><td>155.0</td></tr><tr><th>9</th><td>13</td><td>m</td><td>44</td><td>2</td><td>97.5</td><td>155.0</td></tr><tr><th>10</th><td>7</td><td>f</td><td>29</td><td>1</td><td>240.0</td><td>75.0</td></tr><tr><th>11</th><td>11</td><td>f</td><td>27</td><td>2</td><td>270.0</td><td>135.0</td></tr><tr><th>12</th><td>7</td><td>f</td><td>32</td><td>1</td><td>195.0</td><td>27.5</td></tr><tr><th>13</th><td>13</td><td>m</td><td>32</td><td>2</td><td>195.0</td><td>27.5</td></tr><tr><th>14</th><td>13</td><td>f</td><td>22</td><td>2</td><td>227.5</td><td>185.0</td></tr><tr><th>15</th><td>8</td><td>m</td><td>22</td><td>1</td><td>227.5</td><td>185.0</td></tr><tr><th>16</th><td>15</td><td>f</td><td>43</td><td>2</td><td>172.5</td><td>172.5</td></tr><tr><th>17</th><td>10</td><td>f</td><td>43</td><td>2</td><td>172.5</td><td>172.5</td></tr><tr><th>18</th><td>2</td><td>f</td><td>43</td><td>0</td><td>172.5</td><td>172.5</td></tr><tr><th>19</th><td>11</td><td>m</td><td>11</td><td>2</td><td>167.5</td><td>5.0</td></tr><tr><th>20</th><td>10</td><td>m</td><td>11</td><td>2</td><td>167.5</td><td>5.0</td></tr><tr><th>21</th><td>13</td><td>f</td><td>11</td><td>2</td><td>167.5</td><td>5.0</td></tr><tr><th>22</th><td>10</td><td>f</td><td>35</td><td>1</td><td>167.5</td><td>5.0</td></tr><tr><th>23</th><td>7</td><td>f</td><td>35</td><td>1</td><td>167.5</td><td>5.0</td></tr><tr><th>24</th><td>4</td><td>m</td><td>35</td><td>0</td><td>167.5</td><td>5.0</td></tr><tr><th>25</th><td>12</td><td>f</td><td>35</td><td>2</td><td>167.5</td><td>5.0</td></tr><tr><th>26</th><td>7</td><td>m</td><td>67</td><td>1</td><td>7.5</td><td>37.5</td></tr><tr><th>27</th><td>5</td><td>m</td><td>29</td><td>0</td><td>240.0</td><td>75.0</td></tr><tr><th>28</th><td>10</td><td>f</td><td>65</td><td>2</td><td>15.0</td><td>47.5</td></tr><tr><th>29</th><td>13</td><td>m</td><td>15</td><td>2</td><td>125.0</td><td>187.5</td></tr><tr><th>30</th><td>11</td><td>f</td><td>15</td><td>2</td><td>125.0</td><td>187.5</td></tr><tr><th>&vellip;</th><td>&vellip;</td><td>&vellip;</td><td>&vellip;</td><td>&vellip;</td><td>&vellip;</td><td>&vellip;</td></tr></tbody></table>"
      ],
      "text/latex": [
       "\\begin{tabular}{r|cccccc}\n",
       "\t& age & gender & family\\_ID & class & x & y\\\\\n",
       "\t\\hline\n",
       "\t& Int64 & String & Int64 & Int64 & Float64 & Float64\\\\\n",
       "\t\\hline\n",
       "\t1 & 7 & f & 41 & 1 & 142.5 & 100.0 \\\\\n",
       "\t2 & 6 & f & 41 & 1 & 142.5 & 100.0 \\\\\n",
       "\t3 & 4 & f & 41 & 0 & 142.5 & 100.0 \\\\\n",
       "\t4 & 13 & m & 61 & 2 & 165.0 & 102.5 \\\\\n",
       "\t5 & 8 & f & 42 & 1 & 145.0 & 120.0 \\\\\n",
       "\t6 & 12 & m & 42 & 2 & 145.0 & 120.0 \\\\\n",
       "\t7 & 6 & m & 26 & 0 & 272.5 & 147.5 \\\\\n",
       "\t8 & 10 & m & 44 & 1 & 97.5 & 155.0 \\\\\n",
       "\t9 & 13 & m & 44 & 2 & 97.5 & 155.0 \\\\\n",
       "\t10 & 7 & f & 29 & 1 & 240.0 & 75.0 \\\\\n",
       "\t11 & 11 & f & 27 & 2 & 270.0 & 135.0 \\\\\n",
       "\t12 & 7 & f & 32 & 1 & 195.0 & 27.5 \\\\\n",
       "\t13 & 13 & m & 32 & 2 & 195.0 & 27.5 \\\\\n",
       "\t14 & 13 & f & 22 & 2 & 227.5 & 185.0 \\\\\n",
       "\t15 & 8 & m & 22 & 1 & 227.5 & 185.0 \\\\\n",
       "\t16 & 15 & f & 43 & 2 & 172.5 & 172.5 \\\\\n",
       "\t17 & 10 & f & 43 & 2 & 172.5 & 172.5 \\\\\n",
       "\t18 & 2 & f & 43 & 0 & 172.5 & 172.5 \\\\\n",
       "\t19 & 11 & m & 11 & 2 & 167.5 & 5.0 \\\\\n",
       "\t20 & 10 & m & 11 & 2 & 167.5 & 5.0 \\\\\n",
       "\t21 & 13 & f & 11 & 2 & 167.5 & 5.0 \\\\\n",
       "\t22 & 10 & f & 35 & 1 & 167.5 & 5.0 \\\\\n",
       "\t23 & 7 & f & 35 & 1 & 167.5 & 5.0 \\\\\n",
       "\t24 & 4 & m & 35 & 0 & 167.5 & 5.0 \\\\\n",
       "\t25 & 12 & f & 35 & 2 & 167.5 & 5.0 \\\\\n",
       "\t26 & 7 & m & 67 & 1 & 7.5 & 37.5 \\\\\n",
       "\t27 & 5 & m & 29 & 0 & 240.0 & 75.0 \\\\\n",
       "\t28 & 10 & f & 65 & 2 & 15.0 & 47.5 \\\\\n",
       "\t29 & 13 & m & 15 & 2 & 125.0 & 187.5 \\\\\n",
       "\t30 & 11 & f & 15 & 2 & 125.0 & 187.5 \\\\\n",
       "\t$\\dots$ & $\\dots$ & $\\dots$ & $\\dots$ & $\\dots$ & $\\dots$ & $\\dots$ \\\\\n",
       "\\end{tabular}\n"
      ],
      "text/plain": [
       "188×6 DataFrame\n",
       "│ Row │ age   │ gender │ family_ID │ class │ x       │ y       │\n",
       "│     │ \u001b[90mInt64\u001b[39m │ \u001b[90mString\u001b[39m │ \u001b[90mInt64\u001b[39m     │ \u001b[90mInt64\u001b[39m │ \u001b[90mFloat64\u001b[39m │ \u001b[90mFloat64\u001b[39m │\n",
       "├─────┼───────┼────────┼───────────┼───────┼─────────┼─────────┤\n",
       "│ 1   │ 7     │ f      │ 41        │ 1     │ 142.5   │ 100.0   │\n",
       "│ 2   │ 6     │ f      │ 41        │ 1     │ 142.5   │ 100.0   │\n",
       "│ 3   │ 4     │ f      │ 41        │ 0     │ 142.5   │ 100.0   │\n",
       "│ 4   │ 13    │ m      │ 61        │ 2     │ 165.0   │ 102.5   │\n",
       "│ 5   │ 8     │ f      │ 42        │ 1     │ 145.0   │ 120.0   │\n",
       "│ 6   │ 12    │ m      │ 42        │ 2     │ 145.0   │ 120.0   │\n",
       "│ 7   │ 6     │ m      │ 26        │ 0     │ 272.5   │ 147.5   │\n",
       "│ 8   │ 10    │ m      │ 44        │ 1     │ 97.5    │ 155.0   │\n",
       "│ 9   │ 13    │ m      │ 44        │ 2     │ 97.5    │ 155.0   │\n",
       "│ 10  │ 7     │ f      │ 29        │ 1     │ 240.0   │ 75.0    │\n",
       "⋮\n",
       "│ 178 │ 4     │ m      │ 17        │ 0     │ 182.5   │ 200.0   │\n",
       "│ 179 │ 1     │ f      │ 17        │ 1     │ 182.5   │ 200.0   │\n",
       "│ 180 │ 10    │ m      │ 17        │ 2     │ 182.5   │ 200.0   │\n",
       "│ 181 │ 10    │ f      │ 4         │ 2     │ 182.5   │ 200.0   │\n",
       "│ 182 │ 13    │ m      │ 4         │ 2     │ 182.5   │ 200.0   │\n",
       "│ 183 │ 4     │ m      │ 4         │ 0     │ 182.5   │ 200.0   │\n",
       "│ 184 │ 13    │ NA     │ 51        │ 2     │ 182.5   │ 200.0   │\n",
       "│ 185 │ 3     │ m      │ 21        │ 0     │ 205.0   │ 182.5   │\n",
       "│ 186 │ 6     │ NA     │ 57        │ 0     │ 212.5   │ 90.0    │\n",
       "│ 187 │ 0     │ m      │ 21        │ 0     │ 205.0   │ 182.5   │\n",
       "│ 188 │ 1     │ NA     │ 57        │ 0     │ 212.5   │ 90.0    │"
      ]
     },
     "execution_count": 2,
     "metadata": {},
     "output_type": "execute_result"
    }
   ],
   "source": [
    "# POPULATION INFOFORMATION\n",
    "# Use CSV.jl for DataFrames I/O\n",
    "risks = CSV.read(\"data/measles_hagelloch_1861_risk_factors.csv\")"
   ]
  },
  {
   "cell_type": "code",
   "execution_count": 3,
   "metadata": {},
   "outputs": [
    {
     "data": {
      "text/plain": [
       "Population object (n=188)"
      ]
     },
     "execution_count": 3,
     "metadata": {},
     "output_type": "execute_result"
    }
   ],
   "source": [
    "# Will precalculate distances\n",
    "distance = [euclidean([risks[i, :x]; risks[i, :y]], [risks[j, :x]; risks[j, :y]]) for i = 1:size(risks, 1), j = 1:size(risks, 1)]\n",
    "temp1 = [prod(risks[[i, j], :class]) for i = 1:size(risks, 1), j = 1:size(risks, 1)]\n",
    "sameclass = temp1 .∈ Ref([1, 4])\n",
    "samehousehold = distance .== 0.0\n",
    "distance[samehousehold] .= Inf\n",
    "dist = [(distance[i, j], sameclass[i, j], samehousehold[i, j]) for i = 1:size(risks, 1), j = 1:size(risks, 1)]\n",
    "\n",
    "pop = Population(risks, dist)"
   ]
  },
  {
   "cell_type": "code",
   "execution_count": 4,
   "metadata": {},
   "outputs": [
    {
     "data": {
      "text/plain": [
       "SEIR model risk functions"
      ]
     },
     "execution_count": 4,
     "metadata": {},
     "output_type": "execute_result"
    }
   ],
   "source": [
    "# Define risk functions/TN-ILM structure\n",
    "function _constant(params::Vector{Float64}, pop::Population, i::Int64)\n",
    "  return params[1]\n",
    "end\n",
    "\n",
    "function _one(params::Vector{Float64}, pop::Population, i::Int64)\n",
    "  return 1.0\n",
    "end\n",
    "\n",
    "function _powerlaw_plus(params::Vector{Float64}, pop::Population, i::Int64, k::Int64)\n",
    "  return params[1] * pop.distances[k, i][1]^(-params[2]) +\n",
    "         params[3] * pop.distances[k, i][2] +\n",
    "         params[4] * pop.distances[k, i][3]\n",
    "end\n",
    "\n",
    "rf = RiskFunctions{SEIR}(_constant, # sparks function\n",
    "                         _one, # susceptibility function\n",
    "                         _powerlaw_plus, # infectivity function\n",
    "                         _one, # transmissability function\n",
    "                         _constant, # latency function\n",
    "                         _constant) # removal function"
   ]
  },
  {
   "cell_type": "code",
   "execution_count": 5,
   "metadata": {},
   "outputs": [
    {
     "data": {
      "text/plain": [
       "SEIR model observations (n=188)"
      ]
     },
     "execution_count": 5,
     "metadata": {},
     "output_type": "execute_result"
    }
   ],
   "source": [
    "obsdata = CSV.read(\"data/measles_hagelloch_1861_observations.csv\")\n",
    "\n",
    "# Set the removal observation as minimum of (day that rash appears + 4.0) and death, in fatal cases.\n",
    "removed = [obsdata[i, :death] === NaN ? obsdata[i, :rash] + 4.0 : min(obsdata[i, :rash] + 4.0, obsdata[i, :death]) for i = 1:188]\n",
    "\n",
    "# Set prodrome within first 7 days of epidemic as initial conditions\n",
    "infected = obsdata[:, :prodrome]\n",
    "# starting_states = [i <= 10.0 ? State_I : State_S for i in infected]\n",
    "# infected[infected .<= 10.0] .= -Inf\n",
    "obs = EventObservations{SEIR}(infected, removed)"
   ]
  },
  {
   "cell_type": "code",
   "execution_count": 6,
   "metadata": {},
   "outputs": [
    {
     "data": {
      "text/plain": [
       "SEIR model event extents"
      ]
     },
     "execution_count": 6,
     "metadata": {},
     "output_type": "execute_result"
    }
   ],
   "source": [
    "# Specify some priors for the risk parameters of our various risk functions\n",
    "rpriors = RiskPriors{SEIR}([Uniform(0.0, 0.1)],\n",
    "                           UnivariateDistribution[],\n",
    "                           [Uniform(0.0, 7.0); Uniform(0.0, 7.0); Uniform(0.0, 1.0); Uniform(0.0, 1.0)],\n",
    "                           UnivariateDistribution[],\n",
    "                           [Uniform(0.0, 1.0)],\n",
    "                           [Uniform(0.0, 1.0)])\n",
    "\n",
    "# Using CDC measles information set some extents for event data augmentation\n",
    "# Exposure up to 2 weeks before infectiousness, with a minimum of 5 days between exposure and infectiousness\n",
    "# Infectious up to 3 days before prodrome\n",
    "# Removal time within 2-4 days after rash\n",
    "ee = EventExtents{SEIR}((5.0, 14.0), 3.0, 2.0)"
   ]
  },
  {
   "cell_type": "code",
   "execution_count": 7,
   "metadata": {},
   "outputs": [
    {
     "name": "stderr",
     "output_type": "stream",
     "text": [
      "\u001b[32mInitialization progress100%|████████████████████████████| Time: 0:14:35\u001b[39m:37\u001b[39m\n",
      "\u001b[32mMCMC progress100%|██████████████████████████████████████| Time: 3:52:59\u001b[39mm26\u001b[39mm\n"
     ]
    },
    {
     "data": {
      "text/plain": [
       "SEIR model MCMC with 1 chains"
      ]
     },
     "execution_count": 7,
     "metadata": {},
     "output_type": "execute_result"
    }
   ],
   "source": [
    "# Initialize MCMC\n",
    "mcmc = MCMC(obs, ee, pop, rf, rpriors)\n",
    "start!(mcmc, attempts=100000) # 1 chain, with 100k initialization attempts\n",
    "\n",
    "# Run MCMC\n",
    "iterate!(mcmc, 200000, 1.0, condition_on_network=true, event_batches=10)"
   ]
  },
  {
   "cell_type": "code",
   "execution_count": 7,
   "metadata": {},
   "outputs": [],
   "source": [
    "using JLD2;\n",
    "#@save \"mcmc.jld2\" mcmc;\n",
    "@load \"mcmc.jld2\" mcmc;"
   ]
  },
  {
   "cell_type": "code",
   "execution_count": 9,
   "metadata": {},
   "outputs": [],
   "source": [
    "gr(dpi=200); # GR backend with DPI=200"
   ]
  },
  {
   "cell_type": "code",
   "execution_count": 10,
   "metadata": {},
   "outputs": [],
   "source": [
    "# MCMC and posterior plots\n",
    "p1 = plot(1:20:200001, mcmc.markov_chains[1].risk_parameters, yscale=:log10, title=\"TN-ILM parameters\")\n",
    "png(p1, joinpath(@__DIR__, \"trace.png\"))"
   ]
  },
  {
   "cell_type": "markdown",
   "metadata": {},
   "source": [
    "![TN-ILM traceplot](trace.png)"
   ]
  },
  {
   "cell_type": "code",
   "execution_count": 11,
   "metadata": {},
   "outputs": [],
   "source": [
    "p2 = plot(mcmc.markov_chains[1].events[100000], State_S,\n",
    "          linealpha=0.01, title=\"S\", xguidefontsize=8, yguidefontsize=8,\n",
    "          xtickfontsize=7, ytickfontsize=7, titlefontsize=11)\n",
    "for i=100050:50:200000\n",
    "  plot!(p2, mcmc.markov_chains[1].events[i], State_S, linealpha=0.02)\n",
    "end\n",
    "\n",
    "p3 = plot(mcmc.markov_chains[1].events[100000], State_E,\n",
    "          linealpha=0.01, title=\"E\", xguidefontsize=8, yguidefontsize=8,\n",
    "          xtickfontsize=7, ytickfontsize=7, titlefontsize=11)\n",
    "for i=100050:50:200000\n",
    "  plot!(p3, mcmc.markov_chains[1].events[i], State_E, linealpha=0.02)\n",
    "end\n",
    "\n",
    "p4 = plot(mcmc.markov_chains[1].events[100000], State_I,\n",
    "          linealpha=0.01, title=\"I\", xguidefontsize=8, yguidefontsize=8, xtickfontsize=7, ytickfontsize=7, titlefontsize=11)\n",
    "for i=100050:50:200000\n",
    "  plot!(p4, mcmc.markov_chains[1].events[i], State_I, linealpha=0.02)\n",
    "end\n",
    "plot!(p4, obs, State_I, linecolor=:black, linewidth=1.5) # Show infection observations (day of prodrome)\n",
    "\n",
    "p5 = plot(mcmc.markov_chains[1].events[100000], State_R,\n",
    "          linealpha=0.01, title=\"R\", xguidefontsize=8, yguidefontsize=8, xtickfontsize=7, ytickfontsize=7, titlefontsize=11)\n",
    "for i=100050:50:200000\n",
    "  plot!(p5, mcmc.markov_chains[1].events[i], State_R, linealpha=0.02)\n",
    "end\n",
    "plot!(p5, obs, State_R, linecolor=:black, linewidth=1.5) # Show removal observations (day of appearance of rash + 4)\n",
    "\n",
    "l = @layout [a b c d]\n",
    "combinedplots1 = plot(p2, p3, p4, p5, layout=l, link=:y, size=(800,200))\n",
    "png(combinedplots1, joinpath(@__DIR__, \"posterior_epi_curves.png\"))"
   ]
  },
  {
   "cell_type": "markdown",
   "metadata": {},
   "source": [
    "![Epidemic Curve Posterior](posterior_epi_curves.png)"
   ]
  },
  {
   "cell_type": "code",
   "execution_count": 41,
   "metadata": {},
   "outputs": [
    {
     "data": {
      "text/plain": [
       "TransmissionNetworkDistribution Σexternal = 7.7036481759120425 Σinternal = 180.29635182408796"
      ]
     },
     "execution_count": 41,
     "metadata": {},
     "output_type": "execute_result"
    }
   ],
   "source": [
    "tnp = TransmissionNetworkPosterior(mcmc, burnin=100000, thin=50)"
   ]
  },
  {
   "cell_type": "code",
   "execution_count": 13,
   "metadata": {},
   "outputs": [
    {
     "data": {
      "text/plain": [
       "TransmissionNetwork Σexternal = 4 Σinternal = 184"
      ]
     },
     "execution_count": 13,
     "metadata": {},
     "output_type": "execute_result"
    }
   ],
   "source": [
    "tnoesterle = TransmissionNetwork(BitArray(readdlm(\"data/oesterle_tn_external.csv\")[:]), BitArray(readdlm(\"data/oesterle_tn_internal.csv\")))"
   ]
  },
  {
   "cell_type": "code",
   "execution_count": 14,
   "metadata": {},
   "outputs": [
    {
     "data": {
      "text/plain": [
       "Population object (n=188)"
      ]
     },
     "execution_count": 14,
     "metadata": {},
     "output_type": "execute_result"
    }
   ],
   "source": [
    "# As there are several individuals at single locations, jitter locations to better illustrate the \n",
    "# transmission network distribution\n",
    "xyjitter = select(risks, :x, :y)\n",
    "xyjitter[:, :x] = xyjitter[:, :x] + rand(Normal(0, 3), 188)\n",
    "xyjitter[:, :y] = xyjitter[:, :y] + rand(Normal(0, 3), 188)\n",
    "plotpop = Population(xyjitter)"
   ]
  },
  {
   "cell_type": "code",
   "execution_count": 15,
   "metadata": {},
   "outputs": [],
   "source": [
    "p6 = plot(tnp, plotpop, title=\"Transmission Network Posterior Distribution\", titlefontsize=11, framestyle=:box, markeralpha=0.5, size=(400, 400))\n",
    "\n",
    "png(p6, joinpath(@__DIR__, \"posterior_tn.png\"))"
   ]
  },
  {
   "cell_type": "code",
   "execution_count": 16,
   "metadata": {},
   "outputs": [],
   "source": [
    "p7 = plot(tnoesterle, plotpop, title=\"Oesterle (1992) Transmission Network\", titlefontsize=11, framestyle=:box, markeralpha=0.5, size=(400, 400))\n",
    "\n",
    "png(p7, joinpath(@__DIR__, \"Oesterle_tn.png\"))"
   ]
  },
  {
   "cell_type": "code",
   "execution_count": 17,
   "metadata": {},
   "outputs": [],
   "source": [
    "l = @layout [a b]\n",
    "combinedplots2 = plot(p6, p7, layout=l, size=(800, 400))\n",
    "png(combinedplots2, joinpath(@__DIR__, \"tn_side_by_side.png\"))"
   ]
  },
  {
   "cell_type": "markdown",
   "metadata": {},
   "source": [
    "![Transmission Posterior](tn_side_by_side.png)"
   ]
  },
  {
   "cell_type": "code",
   "execution_count": 18,
   "metadata": {},
   "outputs": [],
   "source": [
    "l = @layout [grid(1,2){0.6h}\n",
    "             grid(1,4)]\n",
    "combinedplots3 = plot(p6, p7, p2, p3, p4, p5, layout=l, size=(1000, 600))\n",
    "png(combinedplots3, joinpath(@__DIR__, \"overview.png\"))"
   ]
  },
  {
   "cell_type": "markdown",
   "metadata": {},
   "source": [
    "![Inference overview](overview.png)"
   ]
  },
  {
   "cell_type": "code",
   "execution_count": 20,
   "metadata": {},
   "outputs": [
    {
     "data": {
      "text/html": [
       "<table class=\"data-frame\"><thead><tr><th></th><th>parameter</th><th>mean</th><th>var</th><th>CI</th></tr><tr><th></th><th>String</th><th>Float64</th><th>Float64</th><th>Tuple…</th></tr></thead><tbody><p>7 rows × 4 columns</p><tr><th>1</th><td>ϵ₁</td><td>0.00126149</td><td>4.10697e-7</td><td>(0.000331872, 0.00284014)</td></tr><tr><th>2</th><td>κ₁</td><td>4.13757</td><td>3.37574</td><td>(0.600692, 6.87183)</td></tr><tr><th>3</th><td>κ₂</td><td>1.96294</td><td>0.0331777</td><td>(1.4777, 2.22672)</td></tr><tr><th>4</th><td>κ₃</td><td>0.0200552</td><td>1.14699e-5</td><td>(0.0139816, 0.0271123)</td></tr><tr><th>5</th><td>κ₄</td><td>0.195211</td><td>0.00117201</td><td>(0.13244, 0.269877)</td></tr><tr><th>6</th><td>Ωl₁</td><td>0.125853</td><td>8.73529e-5</td><td>(0.108376, 0.145191)</td></tr><tr><th>7</th><td>Ωr₁</td><td>0.120987</td><td>8.10217e-5</td><td>(0.103854, 0.139071)</td></tr></tbody></table>"
      ],
      "text/latex": [
       "\\begin{tabular}{r|cccc}\n",
       "\t& parameter & mean & var & CI\\\\\n",
       "\t\\hline\n",
       "\t& String & Float64 & Float64 & Tuple…\\\\\n",
       "\t\\hline\n",
       "\t1 & ϵ₁ & 0.00126149 & 4.10697e-7 & (0.000331872, 0.00284014) \\\\\n",
       "\t2 & κ₁ & 4.13757 & 3.37574 & (0.600692, 6.87183) \\\\\n",
       "\t3 & κ₂ & 1.96294 & 0.0331777 & (1.4777, 2.22672) \\\\\n",
       "\t4 & κ₃ & 0.0200552 & 1.14699e-5 & (0.0139816, 0.0271123) \\\\\n",
       "\t5 & κ₄ & 0.195211 & 0.00117201 & (0.13244, 0.269877) \\\\\n",
       "\t6 & Ωl₁ & 0.125853 & 8.73529e-5 & (0.108376, 0.145191) \\\\\n",
       "\t7 & Ωr₁ & 0.120987 & 8.10217e-5 & (0.103854, 0.139071) \\\\\n",
       "\\end{tabular}\n"
      ],
      "text/plain": [
       "7×4 DataFrame\n",
       "│ Row │ parameter │ mean       │ var        │ CI                        │\n",
       "│     │ \u001b[90mString\u001b[39m    │ \u001b[90mFloat64\u001b[39m    │ \u001b[90mFloat64\u001b[39m    │ \u001b[90mTuple{Float64,Float64}\u001b[39m    │\n",
       "├─────┼───────────┼────────────┼────────────┼───────────────────────────┤\n",
       "│ 1   │ ϵ₁        │ 0.00126149 │ 4.10697e-7 │ (0.000331872, 0.00284014) │\n",
       "│ 2   │ κ₁        │ 4.13757    │ 3.37574    │ (0.600692, 6.87183)       │\n",
       "│ 3   │ κ₂        │ 1.96294    │ 0.0331777  │ (1.4777, 2.22672)         │\n",
       "│ 4   │ κ₃        │ 0.0200552  │ 1.14699e-5 │ (0.0139816, 0.0271123)    │\n",
       "│ 5   │ κ₄        │ 0.195211   │ 0.00117201 │ (0.13244, 0.269877)       │\n",
       "│ 6   │ Ωl₁       │ 0.125853   │ 8.73529e-5 │ (0.108376, 0.145191)      │\n",
       "│ 7   │ Ωr₁       │ 0.120987   │ 8.10217e-5 │ (0.103854, 0.139071)      │"
      ]
     },
     "execution_count": 20,
     "metadata": {},
     "output_type": "execute_result"
    }
   ],
   "source": [
    "# Get a summary of TN-ILM parameters\n",
    "summary(mcmc, burnin=100000, thin=50)"
   ]
  },
  {
   "cell_type": "code",
   "execution_count": 19,
   "metadata": {},
   "outputs": [],
   "source": [
    "p8 = plot(tnp, size=(500,400), title=\"Transmission network posterior\\ndegree distribution\", titlefontsize=11)\n",
    "png(p8, joinpath(@__DIR__, \"outdegree.png\"))"
   ]
  },
  {
   "cell_type": "markdown",
   "metadata": {},
   "source": [
    "![Posterior transmission network out degree](outdegree.png)"
   ]
  },
  {
   "cell_type": "code",
   "execution_count": 21,
   "metadata": {},
   "outputs": [
    {
     "data": {
      "text/plain": [
       "30"
      ]
     },
     "execution_count": 21,
     "metadata": {},
     "output_type": "execute_result"
    }
   ],
   "source": [
    "Pathogen._outdegree(tnoesterle)[45]"
   ]
  },
  {
   "cell_type": "code",
   "execution_count": 22,
   "metadata": {},
   "outputs": [
    {
     "data": {
      "text/plain": [
       "11.114942528735638"
      ]
     },
     "execution_count": 22,
     "metadata": {},
     "output_type": "execute_result"
    }
   ],
   "source": [
    "Pathogen._outdegree(tnp)[45]"
   ]
  },
  {
   "cell_type": "code",
   "execution_count": 23,
   "metadata": {},
   "outputs": [
    {
     "data": {
      "text/plain": [
       "103"
      ]
     },
     "execution_count": 23,
     "metadata": {},
     "output_type": "execute_result"
    }
   ],
   "source": [
    "sum(mode(tnp).internal .* tnoesterle.internal) + sum(mode(tnp).external .* tnoesterle.external)"
   ]
  },
  {
   "cell_type": "code",
   "execution_count": 24,
   "metadata": {},
   "outputs": [
    {
     "data": {
      "text/plain": [
       "7.7036481759120425"
      ]
     },
     "execution_count": 24,
     "metadata": {},
     "output_type": "execute_result"
    }
   ],
   "source": [
    "sum(tnp.external)"
   ]
  },
  {
   "cell_type": "code",
   "execution_count": 23,
   "metadata": {},
   "outputs": [
    {
     "data": {
      "text/plain": [
       "SEIR model event times (n=188)"
      ]
     },
     "execution_count": 23,
     "metadata": {},
     "output_type": "execute_result"
    }
   ],
   "source": [
    "pm_events = mean(mcmc.markov_chains[1].events[100000:50:200000])"
   ]
  },
  {
   "cell_type": "code",
   "execution_count": 35,
   "metadata": {},
   "outputs": [
    {
     "data": {
      "image/svg+xml": [
       "<?xml version=\"1.0\" encoding=\"utf-8\"?>\n",
       "<svg xmlns=\"http://www.w3.org/2000/svg\" xmlns:xlink=\"http://www.w3.org/1999/xlink\" width=\"600\" height=\"400\" viewBox=\"0 0 2400 1600\">\n",
       "<defs>\n",
       "  <clipPath id=\"clip9500\">\n",
       "    <rect x=\"0\" y=\"0\" width=\"2400\" height=\"1600\"/>\n",
       "  </clipPath>\n",
       "</defs>\n",
       "<path clip-path=\"url(#clip9500)\" d=\"\n",
       "M0 1600 L2400 1600 L2400 0 L0 0  Z\n",
       "  \" fill=\"#ffffff\" fill-rule=\"evenodd\" fill-opacity=\"1\"/>\n",
       "<defs>\n",
       "  <clipPath id=\"clip9501\">\n",
       "    <rect x=\"480\" y=\"0\" width=\"1681\" height=\"1600\"/>\n",
       "  </clipPath>\n",
       "</defs>\n",
       "<path clip-path=\"url(#clip9500)\" d=\"\n",
       "M202.373 1425.62 L2352.76 1425.62 L2352.76 47.2441 L202.373 47.2441  Z\n",
       "  \" fill=\"#ffffff\" fill-rule=\"evenodd\" fill-opacity=\"1\"/>\n",
       "<defs>\n",
       "  <clipPath id=\"clip9502\">\n",
       "    <rect x=\"202\" y=\"47\" width=\"2151\" height=\"1379\"/>\n",
       "  </clipPath>\n",
       "</defs>\n",
       "<polyline clip-path=\"url(#clip9502)\" style=\"stroke:#000000; stroke-width:2; stroke-opacity:0.1; fill:none\" points=\"\n",
       "  320.648,1425.62 320.648,47.2441 \n",
       "  \"/>\n",
       "<polyline clip-path=\"url(#clip9502)\" style=\"stroke:#000000; stroke-width:2; stroke-opacity:0.1; fill:none\" points=\"\n",
       "  639.62,1425.62 639.62,47.2441 \n",
       "  \"/>\n",
       "<polyline clip-path=\"url(#clip9502)\" style=\"stroke:#000000; stroke-width:2; stroke-opacity:0.1; fill:none\" points=\"\n",
       "  958.592,1425.62 958.592,47.2441 \n",
       "  \"/>\n",
       "<polyline clip-path=\"url(#clip9502)\" style=\"stroke:#000000; stroke-width:2; stroke-opacity:0.1; fill:none\" points=\"\n",
       "  1277.56,1425.62 1277.56,47.2441 \n",
       "  \"/>\n",
       "<polyline clip-path=\"url(#clip9502)\" style=\"stroke:#000000; stroke-width:2; stroke-opacity:0.1; fill:none\" points=\"\n",
       "  1596.54,1425.62 1596.54,47.2441 \n",
       "  \"/>\n",
       "<polyline clip-path=\"url(#clip9502)\" style=\"stroke:#000000; stroke-width:2; stroke-opacity:0.1; fill:none\" points=\"\n",
       "  1915.51,1425.62 1915.51,47.2441 \n",
       "  \"/>\n",
       "<polyline clip-path=\"url(#clip9502)\" style=\"stroke:#000000; stroke-width:2; stroke-opacity:0.1; fill:none\" points=\"\n",
       "  2234.48,1425.62 2234.48,47.2441 \n",
       "  \"/>\n",
       "<polyline clip-path=\"url(#clip9502)\" style=\"stroke:#000000; stroke-width:2; stroke-opacity:0.1; fill:none\" points=\"\n",
       "  202.373,1386.61 2352.76,1386.61 \n",
       "  \"/>\n",
       "<polyline clip-path=\"url(#clip9502)\" style=\"stroke:#000000; stroke-width:2; stroke-opacity:0.1; fill:none\" points=\"\n",
       "  202.373,1091.07 2352.76,1091.07 \n",
       "  \"/>\n",
       "<polyline clip-path=\"url(#clip9502)\" style=\"stroke:#000000; stroke-width:2; stroke-opacity:0.1; fill:none\" points=\"\n",
       "  202.373,795.538 2352.76,795.538 \n",
       "  \"/>\n",
       "<polyline clip-path=\"url(#clip9502)\" style=\"stroke:#000000; stroke-width:2; stroke-opacity:0.1; fill:none\" points=\"\n",
       "  202.373,500.003 2352.76,500.003 \n",
       "  \"/>\n",
       "<polyline clip-path=\"url(#clip9502)\" style=\"stroke:#000000; stroke-width:2; stroke-opacity:0.1; fill:none\" points=\"\n",
       "  202.373,204.469 2352.76,204.469 \n",
       "  \"/>\n",
       "<polyline clip-path=\"url(#clip9500)\" style=\"stroke:#000000; stroke-width:4; stroke-opacity:1; fill:none\" points=\"\n",
       "  202.373,1425.62 2352.76,1425.62 \n",
       "  \"/>\n",
       "<polyline clip-path=\"url(#clip9500)\" style=\"stroke:#000000; stroke-width:4; stroke-opacity:1; fill:none\" points=\"\n",
       "  202.373,1425.62 202.373,47.2441 \n",
       "  \"/>\n",
       "<polyline clip-path=\"url(#clip9500)\" style=\"stroke:#000000; stroke-width:4; stroke-opacity:1; fill:none\" points=\"\n",
       "  320.648,1425.62 320.648,1409.08 \n",
       "  \"/>\n",
       "<polyline clip-path=\"url(#clip9500)\" style=\"stroke:#000000; stroke-width:4; stroke-opacity:1; fill:none\" points=\"\n",
       "  639.62,1425.62 639.62,1409.08 \n",
       "  \"/>\n",
       "<polyline clip-path=\"url(#clip9500)\" style=\"stroke:#000000; stroke-width:4; stroke-opacity:1; fill:none\" points=\"\n",
       "  958.592,1425.62 958.592,1409.08 \n",
       "  \"/>\n",
       "<polyline clip-path=\"url(#clip9500)\" style=\"stroke:#000000; stroke-width:4; stroke-opacity:1; fill:none\" points=\"\n",
       "  1277.56,1425.62 1277.56,1409.08 \n",
       "  \"/>\n",
       "<polyline clip-path=\"url(#clip9500)\" style=\"stroke:#000000; stroke-width:4; stroke-opacity:1; fill:none\" points=\"\n",
       "  1596.54,1425.62 1596.54,1409.08 \n",
       "  \"/>\n",
       "<polyline clip-path=\"url(#clip9500)\" style=\"stroke:#000000; stroke-width:4; stroke-opacity:1; fill:none\" points=\"\n",
       "  1915.51,1425.62 1915.51,1409.08 \n",
       "  \"/>\n",
       "<polyline clip-path=\"url(#clip9500)\" style=\"stroke:#000000; stroke-width:4; stroke-opacity:1; fill:none\" points=\"\n",
       "  2234.48,1425.62 2234.48,1409.08 \n",
       "  \"/>\n",
       "<polyline clip-path=\"url(#clip9500)\" style=\"stroke:#000000; stroke-width:4; stroke-opacity:1; fill:none\" points=\"\n",
       "  202.373,1386.61 228.178,1386.61 \n",
       "  \"/>\n",
       "<polyline clip-path=\"url(#clip9500)\" style=\"stroke:#000000; stroke-width:4; stroke-opacity:1; fill:none\" points=\"\n",
       "  202.373,1091.07 228.178,1091.07 \n",
       "  \"/>\n",
       "<polyline clip-path=\"url(#clip9500)\" style=\"stroke:#000000; stroke-width:4; stroke-opacity:1; fill:none\" points=\"\n",
       "  202.373,795.538 228.178,795.538 \n",
       "  \"/>\n",
       "<polyline clip-path=\"url(#clip9500)\" style=\"stroke:#000000; stroke-width:4; stroke-opacity:1; fill:none\" points=\"\n",
       "  202.373,500.003 228.178,500.003 \n",
       "  \"/>\n",
       "<polyline clip-path=\"url(#clip9500)\" style=\"stroke:#000000; stroke-width:4; stroke-opacity:1; fill:none\" points=\"\n",
       "  202.373,204.469 228.178,204.469 \n",
       "  \"/>\n",
       "<g clip-path=\"url(#clip9500)\">\n",
       "<text style=\"fill:#000000; fill-opacity:1; font-family:Arial,Helvetica Neue,Helvetica,sans-serif; font-size:48px; text-anchor:middle;\" transform=\"rotate(0, 320.648, 1479.62)\" x=\"320.648\" y=\"1479.62\">6</text>\n",
       "</g>\n",
       "<g clip-path=\"url(#clip9500)\">\n",
       "<text style=\"fill:#000000; fill-opacity:1; font-family:Arial,Helvetica Neue,Helvetica,sans-serif; font-size:48px; text-anchor:middle;\" transform=\"rotate(0, 639.62, 1479.62)\" x=\"639.62\" y=\"1479.62\">7</text>\n",
       "</g>\n",
       "<g clip-path=\"url(#clip9500)\">\n",
       "<text style=\"fill:#000000; fill-opacity:1; font-family:Arial,Helvetica Neue,Helvetica,sans-serif; font-size:48px; text-anchor:middle;\" transform=\"rotate(0, 958.592, 1479.62)\" x=\"958.592\" y=\"1479.62\">8</text>\n",
       "</g>\n",
       "<g clip-path=\"url(#clip9500)\">\n",
       "<text style=\"fill:#000000; fill-opacity:1; font-family:Arial,Helvetica Neue,Helvetica,sans-serif; font-size:48px; text-anchor:middle;\" transform=\"rotate(0, 1277.56, 1479.62)\" x=\"1277.56\" y=\"1479.62\">9</text>\n",
       "</g>\n",
       "<g clip-path=\"url(#clip9500)\">\n",
       "<text style=\"fill:#000000; fill-opacity:1; font-family:Arial,Helvetica Neue,Helvetica,sans-serif; font-size:48px; text-anchor:middle;\" transform=\"rotate(0, 1596.54, 1479.62)\" x=\"1596.54\" y=\"1479.62\">10</text>\n",
       "</g>\n",
       "<g clip-path=\"url(#clip9500)\">\n",
       "<text style=\"fill:#000000; fill-opacity:1; font-family:Arial,Helvetica Neue,Helvetica,sans-serif; font-size:48px; text-anchor:middle;\" transform=\"rotate(0, 1915.51, 1479.62)\" x=\"1915.51\" y=\"1479.62\">11</text>\n",
       "</g>\n",
       "<g clip-path=\"url(#clip9500)\">\n",
       "<text style=\"fill:#000000; fill-opacity:1; font-family:Arial,Helvetica Neue,Helvetica,sans-serif; font-size:48px; text-anchor:middle;\" transform=\"rotate(0, 2234.48, 1479.62)\" x=\"2234.48\" y=\"1479.62\">12</text>\n",
       "</g>\n",
       "<g clip-path=\"url(#clip9500)\">\n",
       "<text style=\"fill:#000000; fill-opacity:1; font-family:Arial,Helvetica Neue,Helvetica,sans-serif; font-size:48px; text-anchor:end;\" transform=\"rotate(0, 178.373, 1404.11)\" x=\"178.373\" y=\"1404.11\">0</text>\n",
       "</g>\n",
       "<g clip-path=\"url(#clip9500)\">\n",
       "<text style=\"fill:#000000; fill-opacity:1; font-family:Arial,Helvetica Neue,Helvetica,sans-serif; font-size:48px; text-anchor:end;\" transform=\"rotate(0, 178.373, 1108.57)\" x=\"178.373\" y=\"1108.57\">10</text>\n",
       "</g>\n",
       "<g clip-path=\"url(#clip9500)\">\n",
       "<text style=\"fill:#000000; fill-opacity:1; font-family:Arial,Helvetica Neue,Helvetica,sans-serif; font-size:48px; text-anchor:end;\" transform=\"rotate(0, 178.373, 813.038)\" x=\"178.373\" y=\"813.038\">20</text>\n",
       "</g>\n",
       "<g clip-path=\"url(#clip9500)\">\n",
       "<text style=\"fill:#000000; fill-opacity:1; font-family:Arial,Helvetica Neue,Helvetica,sans-serif; font-size:48px; text-anchor:end;\" transform=\"rotate(0, 178.373, 517.503)\" x=\"178.373\" y=\"517.503\">30</text>\n",
       "</g>\n",
       "<g clip-path=\"url(#clip9500)\">\n",
       "<text style=\"fill:#000000; fill-opacity:1; font-family:Arial,Helvetica Neue,Helvetica,sans-serif; font-size:48px; text-anchor:end;\" transform=\"rotate(0, 178.373, 221.969)\" x=\"178.373\" y=\"221.969\">40</text>\n",
       "</g>\n",
       "<g clip-path=\"url(#clip9500)\">\n",
       "<text style=\"fill:#000000; fill-opacity:1; font-family:Arial,Helvetica Neue,Helvetica,sans-serif; font-size:66px; text-anchor:middle;\" transform=\"rotate(0, 1277.56, 1559.48)\" x=\"1277.56\" y=\"1559.48\">Latent period</text>\n",
       "</g>\n",
       "<g clip-path=\"url(#clip9500)\">\n",
       "<text style=\"fill:#000000; fill-opacity:1; font-family:Arial,Helvetica Neue,Helvetica,sans-serif; font-size:66px; text-anchor:middle;\" transform=\"rotate(-90, 89.2861, 736.431)\" x=\"89.2861\" y=\"736.431\">Frequency</text>\n",
       "</g>\n",
       "<path clip-path=\"url(#clip9502)\" d=\"\n",
       "M320.648 1150.18 L320.648 1386.61 L480.134 1386.61 L480.134 1150.18 L320.648 1150.18 L320.648 1150.18  Z\n",
       "  \" fill=\"#009af9\" fill-rule=\"evenodd\" fill-opacity=\"1\"/>\n",
       "<polyline clip-path=\"url(#clip9502)\" style=\"stroke:#000000; stroke-width:4; stroke-opacity:1; fill:none\" points=\"\n",
       "  320.648,1150.18 320.648,1386.61 480.134,1386.61 480.134,1150.18 320.648,1150.18 \n",
       "  \"/>\n",
       "<path clip-path=\"url(#clip9502)\" d=\"\n",
       "M480.134 765.985 L480.134 1386.61 L639.62 1386.61 L639.62 765.985 L480.134 765.985 L480.134 765.985  Z\n",
       "  \" fill=\"#009af9\" fill-rule=\"evenodd\" fill-opacity=\"1\"/>\n",
       "<polyline clip-path=\"url(#clip9502)\" style=\"stroke:#000000; stroke-width:4; stroke-opacity:1; fill:none\" points=\"\n",
       "  480.134,765.985 480.134,1386.61 639.62,1386.61 639.62,765.985 480.134,765.985 \n",
       "  \"/>\n",
       "<path clip-path=\"url(#clip9502)\" d=\"\n",
       "M639.62 588.664 L639.62 1386.61 L799.106 1386.61 L799.106 588.664 L639.62 588.664 L639.62 588.664  Z\n",
       "  \" fill=\"#009af9\" fill-rule=\"evenodd\" fill-opacity=\"1\"/>\n",
       "<polyline clip-path=\"url(#clip9502)\" style=\"stroke:#000000; stroke-width:4; stroke-opacity:1; fill:none\" points=\"\n",
       "  639.62,588.664 639.62,1386.61 799.106,1386.61 799.106,588.664 639.62,588.664 \n",
       "  \"/>\n",
       "<path clip-path=\"url(#clip9502)\" d=\"\n",
       "M799.106 86.2547 L799.106 1386.61 L958.592 1386.61 L958.592 86.2547 L799.106 86.2547 L799.106 86.2547  Z\n",
       "  \" fill=\"#009af9\" fill-rule=\"evenodd\" fill-opacity=\"1\"/>\n",
       "<polyline clip-path=\"url(#clip9502)\" style=\"stroke:#000000; stroke-width:4; stroke-opacity:1; fill:none\" points=\"\n",
       "  799.106,86.2547 799.106,1386.61 958.592,1386.61 958.592,86.2547 799.106,86.2547 \n",
       "  \"/>\n",
       "<path clip-path=\"url(#clip9502)\" d=\"\n",
       "M958.592 293.129 L958.592 1386.61 L1118.08 1386.61 L1118.08 293.129 L958.592 293.129 L958.592 293.129  Z\n",
       "  \" fill=\"#009af9\" fill-rule=\"evenodd\" fill-opacity=\"1\"/>\n",
       "<polyline clip-path=\"url(#clip9502)\" style=\"stroke:#000000; stroke-width:4; stroke-opacity:1; fill:none\" points=\"\n",
       "  958.592,293.129 958.592,1386.61 1118.08,1386.61 1118.08,293.129 958.592,293.129 \n",
       "  \"/>\n",
       "<path clip-path=\"url(#clip9502)\" d=\"\n",
       "M1118.08 618.217 L1118.08 1386.61 L1277.56 1386.61 L1277.56 618.217 L1118.08 618.217 L1118.08 618.217  Z\n",
       "  \" fill=\"#009af9\" fill-rule=\"evenodd\" fill-opacity=\"1\"/>\n",
       "<polyline clip-path=\"url(#clip9502)\" style=\"stroke:#000000; stroke-width:4; stroke-opacity:1; fill:none\" points=\"\n",
       "  1118.08,618.217 1118.08,1386.61 1277.56,1386.61 1277.56,618.217 1118.08,618.217 \n",
       "  \"/>\n",
       "<path clip-path=\"url(#clip9502)\" d=\"\n",
       "M1277.56 943.306 L1277.56 1386.61 L1437.05 1386.61 L1437.05 943.306 L1277.56 943.306 L1277.56 943.306  Z\n",
       "  \" fill=\"#009af9\" fill-rule=\"evenodd\" fill-opacity=\"1\"/>\n",
       "<polyline clip-path=\"url(#clip9502)\" style=\"stroke:#000000; stroke-width:4; stroke-opacity:1; fill:none\" points=\"\n",
       "  1277.56,943.306 1277.56,1386.61 1437.05,1386.61 1437.05,943.306 1277.56,943.306 \n",
       "  \"/>\n",
       "<path clip-path=\"url(#clip9502)\" d=\"\n",
       "M1437.05 1209.29 L1437.05 1386.61 L1596.54 1386.61 L1596.54 1209.29 L1437.05 1209.29 L1437.05 1209.29  Z\n",
       "  \" fill=\"#009af9\" fill-rule=\"evenodd\" fill-opacity=\"1\"/>\n",
       "<polyline clip-path=\"url(#clip9502)\" style=\"stroke:#000000; stroke-width:4; stroke-opacity:1; fill:none\" points=\"\n",
       "  1437.05,1209.29 1437.05,1386.61 1596.54,1386.61 1596.54,1209.29 1437.05,1209.29 \n",
       "  \"/>\n",
       "<path clip-path=\"url(#clip9502)\" d=\"\n",
       "M1596.54 1327.5 L1596.54 1386.61 L1756.02 1386.61 L1756.02 1327.5 L1596.54 1327.5 L1596.54 1327.5  Z\n",
       "  \" fill=\"#009af9\" fill-rule=\"evenodd\" fill-opacity=\"1\"/>\n",
       "<polyline clip-path=\"url(#clip9502)\" style=\"stroke:#000000; stroke-width:4; stroke-opacity:1; fill:none\" points=\"\n",
       "  1596.54,1327.5 1596.54,1386.61 1756.02,1386.61 1756.02,1327.5 1596.54,1327.5 \n",
       "  \"/>\n",
       "<path clip-path=\"url(#clip9502)\" d=\"\n",
       "M1756.02 1357.05 L1756.02 1386.61 L1915.51 1386.61 L1915.51 1357.05 L1756.02 1357.05 L1756.02 1357.05  Z\n",
       "  \" fill=\"#009af9\" fill-rule=\"evenodd\" fill-opacity=\"1\"/>\n",
       "<polyline clip-path=\"url(#clip9502)\" style=\"stroke:#000000; stroke-width:4; stroke-opacity:1; fill:none\" points=\"\n",
       "  1756.02,1357.05 1756.02,1386.61 1915.51,1386.61 1915.51,1357.05 1756.02,1357.05 \n",
       "  \"/>\n",
       "<path clip-path=\"url(#clip9502)\" d=\"\n",
       "M1915.51 1386.61 L1915.51 1386.61 L2074.99 1386.61 L2074.99 1386.61 L1915.51 1386.61 L1915.51 1386.61  Z\n",
       "  \" fill=\"#009af9\" fill-rule=\"evenodd\" fill-opacity=\"1\"/>\n",
       "<polyline clip-path=\"url(#clip9502)\" style=\"stroke:#000000; stroke-width:4; stroke-opacity:1; fill:none\" points=\"\n",
       "  1915.51,1386.61 1915.51,1386.61 2074.99,1386.61 1915.51,1386.61 \n",
       "  \"/>\n",
       "<path clip-path=\"url(#clip9502)\" d=\"\n",
       "M2074.99 1357.05 L2074.99 1386.61 L2234.48 1386.61 L2234.48 1357.05 L2074.99 1357.05 L2074.99 1357.05  Z\n",
       "  \" fill=\"#009af9\" fill-rule=\"evenodd\" fill-opacity=\"1\"/>\n",
       "<polyline clip-path=\"url(#clip9502)\" style=\"stroke:#000000; stroke-width:4; stroke-opacity:1; fill:none\" points=\"\n",
       "  2074.99,1357.05 2074.99,1386.61 2234.48,1386.61 2234.48,1357.05 2074.99,1357.05 \n",
       "  \"/>\n",
       "</svg>\n"
      ]
     },
     "execution_count": 35,
     "metadata": {},
     "output_type": "execute_result"
    }
   ],
   "source": [
    "histogram(pm_events.infection .- pm_events.exposure, legend=:none, ylabel=\"Frequency\", xlabel=\"Latent period\")"
   ]
  },
  {
   "cell_type": "code",
   "execution_count": 29,
   "metadata": {},
   "outputs": [
    {
     "data": {
      "text/plain": [
       "7.980969853022001"
      ]
     },
     "execution_count": 29,
     "metadata": {},
     "output_type": "execute_result"
    }
   ],
   "source": [
    "mean(pm_events.infection .- pm_events.exposure)"
   ]
  },
  {
   "cell_type": "code",
   "execution_count": 34,
   "metadata": {},
   "outputs": [
    {
     "data": {
      "image/svg+xml": [
       "<?xml version=\"1.0\" encoding=\"utf-8\"?>\n",
       "<svg xmlns=\"http://www.w3.org/2000/svg\" xmlns:xlink=\"http://www.w3.org/1999/xlink\" width=\"600\" height=\"400\" viewBox=\"0 0 2400 1600\">\n",
       "<defs>\n",
       "  <clipPath id=\"clip9100\">\n",
       "    <rect x=\"0\" y=\"0\" width=\"2400\" height=\"1600\"/>\n",
       "  </clipPath>\n",
       "</defs>\n",
       "<path clip-path=\"url(#clip9100)\" d=\"\n",
       "M0 1600 L2400 1600 L2400 0 L0 0  Z\n",
       "  \" fill=\"#ffffff\" fill-rule=\"evenodd\" fill-opacity=\"1\"/>\n",
       "<defs>\n",
       "  <clipPath id=\"clip9101\">\n",
       "    <rect x=\"480\" y=\"0\" width=\"1681\" height=\"1600\"/>\n",
       "  </clipPath>\n",
       "</defs>\n",
       "<path clip-path=\"url(#clip9100)\" d=\"\n",
       "M202.373 1425.62 L2352.76 1425.62 L2352.76 47.2441 L202.373 47.2441  Z\n",
       "  \" fill=\"#ffffff\" fill-rule=\"evenodd\" fill-opacity=\"1\"/>\n",
       "<defs>\n",
       "  <clipPath id=\"clip9102\">\n",
       "    <rect x=\"202\" y=\"47\" width=\"2151\" height=\"1379\"/>\n",
       "  </clipPath>\n",
       "</defs>\n",
       "<polyline clip-path=\"url(#clip9102)\" style=\"stroke:#000000; stroke-width:2; stroke-opacity:0.1; fill:none\" points=\"\n",
       "  457.35,1425.62 457.35,47.2441 \n",
       "  \"/>\n",
       "<polyline clip-path=\"url(#clip9102)\" style=\"stroke:#000000; stroke-width:2; stroke-opacity:0.1; fill:none\" points=\"\n",
       "  730.755,1425.62 730.755,47.2441 \n",
       "  \"/>\n",
       "<polyline clip-path=\"url(#clip9102)\" style=\"stroke:#000000; stroke-width:2; stroke-opacity:0.1; fill:none\" points=\"\n",
       "  1004.16,1425.62 1004.16,47.2441 \n",
       "  \"/>\n",
       "<polyline clip-path=\"url(#clip9102)\" style=\"stroke:#000000; stroke-width:2; stroke-opacity:0.1; fill:none\" points=\"\n",
       "  1277.56,1425.62 1277.56,47.2441 \n",
       "  \"/>\n",
       "<polyline clip-path=\"url(#clip9102)\" style=\"stroke:#000000; stroke-width:2; stroke-opacity:0.1; fill:none\" points=\"\n",
       "  1550.97,1425.62 1550.97,47.2441 \n",
       "  \"/>\n",
       "<polyline clip-path=\"url(#clip9102)\" style=\"stroke:#000000; stroke-width:2; stroke-opacity:0.1; fill:none\" points=\"\n",
       "  1824.37,1425.62 1824.37,47.2441 \n",
       "  \"/>\n",
       "<polyline clip-path=\"url(#clip9102)\" style=\"stroke:#000000; stroke-width:2; stroke-opacity:0.1; fill:none\" points=\"\n",
       "  2097.78,1425.62 2097.78,47.2441 \n",
       "  \"/>\n",
       "<polyline clip-path=\"url(#clip9102)\" style=\"stroke:#000000; stroke-width:2; stroke-opacity:0.1; fill:none\" points=\"\n",
       "  202.373,1386.61 2352.76,1386.61 \n",
       "  \"/>\n",
       "<polyline clip-path=\"url(#clip9102)\" style=\"stroke:#000000; stroke-width:2; stroke-opacity:0.1; fill:none\" points=\"\n",
       "  202.373,1044.41 2352.76,1044.41 \n",
       "  \"/>\n",
       "<polyline clip-path=\"url(#clip9102)\" style=\"stroke:#000000; stroke-width:2; stroke-opacity:0.1; fill:none\" points=\"\n",
       "  202.373,702.212 2352.76,702.212 \n",
       "  \"/>\n",
       "<polyline clip-path=\"url(#clip9102)\" style=\"stroke:#000000; stroke-width:2; stroke-opacity:0.1; fill:none\" points=\"\n",
       "  202.373,360.013 2352.76,360.013 \n",
       "  \"/>\n",
       "<polyline clip-path=\"url(#clip9100)\" style=\"stroke:#000000; stroke-width:4; stroke-opacity:1; fill:none\" points=\"\n",
       "  202.373,1425.62 2352.76,1425.62 \n",
       "  \"/>\n",
       "<polyline clip-path=\"url(#clip9100)\" style=\"stroke:#000000; stroke-width:4; stroke-opacity:1; fill:none\" points=\"\n",
       "  202.373,1425.62 202.373,47.2441 \n",
       "  \"/>\n",
       "<polyline clip-path=\"url(#clip9100)\" style=\"stroke:#000000; stroke-width:4; stroke-opacity:1; fill:none\" points=\"\n",
       "  457.35,1425.62 457.35,1409.08 \n",
       "  \"/>\n",
       "<polyline clip-path=\"url(#clip9100)\" style=\"stroke:#000000; stroke-width:4; stroke-opacity:1; fill:none\" points=\"\n",
       "  730.755,1425.62 730.755,1409.08 \n",
       "  \"/>\n",
       "<polyline clip-path=\"url(#clip9100)\" style=\"stroke:#000000; stroke-width:4; stroke-opacity:1; fill:none\" points=\"\n",
       "  1004.16,1425.62 1004.16,1409.08 \n",
       "  \"/>\n",
       "<polyline clip-path=\"url(#clip9100)\" style=\"stroke:#000000; stroke-width:4; stroke-opacity:1; fill:none\" points=\"\n",
       "  1277.56,1425.62 1277.56,1409.08 \n",
       "  \"/>\n",
       "<polyline clip-path=\"url(#clip9100)\" style=\"stroke:#000000; stroke-width:4; stroke-opacity:1; fill:none\" points=\"\n",
       "  1550.97,1425.62 1550.97,1409.08 \n",
       "  \"/>\n",
       "<polyline clip-path=\"url(#clip9100)\" style=\"stroke:#000000; stroke-width:4; stroke-opacity:1; fill:none\" points=\"\n",
       "  1824.37,1425.62 1824.37,1409.08 \n",
       "  \"/>\n",
       "<polyline clip-path=\"url(#clip9100)\" style=\"stroke:#000000; stroke-width:4; stroke-opacity:1; fill:none\" points=\"\n",
       "  2097.78,1425.62 2097.78,1409.08 \n",
       "  \"/>\n",
       "<polyline clip-path=\"url(#clip9100)\" style=\"stroke:#000000; stroke-width:4; stroke-opacity:1; fill:none\" points=\"\n",
       "  202.373,1386.61 228.178,1386.61 \n",
       "  \"/>\n",
       "<polyline clip-path=\"url(#clip9100)\" style=\"stroke:#000000; stroke-width:4; stroke-opacity:1; fill:none\" points=\"\n",
       "  202.373,1044.41 228.178,1044.41 \n",
       "  \"/>\n",
       "<polyline clip-path=\"url(#clip9100)\" style=\"stroke:#000000; stroke-width:4; stroke-opacity:1; fill:none\" points=\"\n",
       "  202.373,702.212 228.178,702.212 \n",
       "  \"/>\n",
       "<polyline clip-path=\"url(#clip9100)\" style=\"stroke:#000000; stroke-width:4; stroke-opacity:1; fill:none\" points=\"\n",
       "  202.373,360.013 228.178,360.013 \n",
       "  \"/>\n",
       "<g clip-path=\"url(#clip9100)\">\n",
       "<text style=\"fill:#000000; fill-opacity:1; font-family:Arial,Helvetica Neue,Helvetica,sans-serif; font-size:48px; text-anchor:middle;\" transform=\"rotate(0, 457.35, 1479.62)\" x=\"457.35\" y=\"1479.62\">7</text>\n",
       "</g>\n",
       "<g clip-path=\"url(#clip9100)\">\n",
       "<text style=\"fill:#000000; fill-opacity:1; font-family:Arial,Helvetica Neue,Helvetica,sans-serif; font-size:48px; text-anchor:middle;\" transform=\"rotate(0, 730.755, 1479.62)\" x=\"730.755\" y=\"1479.62\">8</text>\n",
       "</g>\n",
       "<g clip-path=\"url(#clip9100)\">\n",
       "<text style=\"fill:#000000; fill-opacity:1; font-family:Arial,Helvetica Neue,Helvetica,sans-serif; font-size:48px; text-anchor:middle;\" transform=\"rotate(0, 1004.16, 1479.62)\" x=\"1004.16\" y=\"1479.62\">9</text>\n",
       "</g>\n",
       "<g clip-path=\"url(#clip9100)\">\n",
       "<text style=\"fill:#000000; fill-opacity:1; font-family:Arial,Helvetica Neue,Helvetica,sans-serif; font-size:48px; text-anchor:middle;\" transform=\"rotate(0, 1277.56, 1479.62)\" x=\"1277.56\" y=\"1479.62\">10</text>\n",
       "</g>\n",
       "<g clip-path=\"url(#clip9100)\">\n",
       "<text style=\"fill:#000000; fill-opacity:1; font-family:Arial,Helvetica Neue,Helvetica,sans-serif; font-size:48px; text-anchor:middle;\" transform=\"rotate(0, 1550.97, 1479.62)\" x=\"1550.97\" y=\"1479.62\">11</text>\n",
       "</g>\n",
       "<g clip-path=\"url(#clip9100)\">\n",
       "<text style=\"fill:#000000; fill-opacity:1; font-family:Arial,Helvetica Neue,Helvetica,sans-serif; font-size:48px; text-anchor:middle;\" transform=\"rotate(0, 1824.37, 1479.62)\" x=\"1824.37\" y=\"1479.62\">12</text>\n",
       "</g>\n",
       "<g clip-path=\"url(#clip9100)\">\n",
       "<text style=\"fill:#000000; fill-opacity:1; font-family:Arial,Helvetica Neue,Helvetica,sans-serif; font-size:48px; text-anchor:middle;\" transform=\"rotate(0, 2097.78, 1479.62)\" x=\"2097.78\" y=\"1479.62\">13</text>\n",
       "</g>\n",
       "<g clip-path=\"url(#clip9100)\">\n",
       "<text style=\"fill:#000000; fill-opacity:1; font-family:Arial,Helvetica Neue,Helvetica,sans-serif; font-size:48px; text-anchor:end;\" transform=\"rotate(0, 178.373, 1404.11)\" x=\"178.373\" y=\"1404.11\">0</text>\n",
       "</g>\n",
       "<g clip-path=\"url(#clip9100)\">\n",
       "<text style=\"fill:#000000; fill-opacity:1; font-family:Arial,Helvetica Neue,Helvetica,sans-serif; font-size:48px; text-anchor:end;\" transform=\"rotate(0, 178.373, 1061.91)\" x=\"178.373\" y=\"1061.91\">10</text>\n",
       "</g>\n",
       "<g clip-path=\"url(#clip9100)\">\n",
       "<text style=\"fill:#000000; fill-opacity:1; font-family:Arial,Helvetica Neue,Helvetica,sans-serif; font-size:48px; text-anchor:end;\" transform=\"rotate(0, 178.373, 719.712)\" x=\"178.373\" y=\"719.712\">20</text>\n",
       "</g>\n",
       "<g clip-path=\"url(#clip9100)\">\n",
       "<text style=\"fill:#000000; fill-opacity:1; font-family:Arial,Helvetica Neue,Helvetica,sans-serif; font-size:48px; text-anchor:end;\" transform=\"rotate(0, 178.373, 377.513)\" x=\"178.373\" y=\"377.513\">30</text>\n",
       "</g>\n",
       "<g clip-path=\"url(#clip9100)\">\n",
       "<text style=\"fill:#000000; fill-opacity:1; font-family:Arial,Helvetica Neue,Helvetica,sans-serif; font-size:66px; text-anchor:middle;\" transform=\"rotate(0, 1277.56, 1559.48)\" x=\"1277.56\" y=\"1559.48\">Incubation period</text>\n",
       "</g>\n",
       "<g clip-path=\"url(#clip9100)\">\n",
       "<text style=\"fill:#000000; fill-opacity:1; font-family:Arial,Helvetica Neue,Helvetica,sans-serif; font-size:66px; text-anchor:middle;\" transform=\"rotate(-90, 89.2861, 736.431)\" x=\"89.2861\" y=\"736.431\">Frequency</text>\n",
       "</g>\n",
       "<path clip-path=\"url(#clip9102)\" d=\"\n",
       "M320.648 1318.17 L320.648 1386.61 L457.35 1386.61 L457.35 1318.17 L320.648 1318.17 L320.648 1318.17  Z\n",
       "  \" fill=\"#009af9\" fill-rule=\"evenodd\" fill-opacity=\"1\"/>\n",
       "<polyline clip-path=\"url(#clip9102)\" style=\"stroke:#000000; stroke-width:4; stroke-opacity:1; fill:none\" points=\"\n",
       "  320.648,1318.17 320.648,1386.61 457.35,1386.61 457.35,1318.17 320.648,1318.17 \n",
       "  \"/>\n",
       "<path clip-path=\"url(#clip9102)\" d=\"\n",
       "M457.35 1249.73 L457.35 1386.61 L594.053 1386.61 L594.053 1249.73 L457.35 1249.73 L457.35 1249.73  Z\n",
       "  \" fill=\"#009af9\" fill-rule=\"evenodd\" fill-opacity=\"1\"/>\n",
       "<polyline clip-path=\"url(#clip9102)\" style=\"stroke:#000000; stroke-width:4; stroke-opacity:1; fill:none\" points=\"\n",
       "  457.35,1249.73 457.35,1386.61 594.053,1386.61 594.053,1249.73 457.35,1249.73 \n",
       "  \"/>\n",
       "<path clip-path=\"url(#clip9102)\" d=\"\n",
       "M594.053 1112.85 L594.053 1386.61 L730.755 1386.61 L730.755 1112.85 L594.053 1112.85 L594.053 1112.85  Z\n",
       "  \" fill=\"#009af9\" fill-rule=\"evenodd\" fill-opacity=\"1\"/>\n",
       "<polyline clip-path=\"url(#clip9102)\" style=\"stroke:#000000; stroke-width:4; stroke-opacity:1; fill:none\" points=\"\n",
       "  594.053,1112.85 594.053,1386.61 730.755,1386.61 730.755,1112.85 594.053,1112.85 \n",
       "  \"/>\n",
       "<path clip-path=\"url(#clip9102)\" d=\"\n",
       "M730.755 667.992 L730.755 1386.61 L867.457 1386.61 L867.457 667.992 L730.755 667.992 L730.755 667.992  Z\n",
       "  \" fill=\"#009af9\" fill-rule=\"evenodd\" fill-opacity=\"1\"/>\n",
       "<polyline clip-path=\"url(#clip9102)\" style=\"stroke:#000000; stroke-width:4; stroke-opacity:1; fill:none\" points=\"\n",
       "  730.755,667.992 730.755,1386.61 867.457,1386.61 867.457,667.992 730.755,667.992 \n",
       "  \"/>\n",
       "<path clip-path=\"url(#clip9102)\" d=\"\n",
       "M867.457 325.793 L867.457 1386.61 L1004.16 1386.61 L1004.16 325.793 L867.457 325.793 L867.457 325.793  Z\n",
       "  \" fill=\"#009af9\" fill-rule=\"evenodd\" fill-opacity=\"1\"/>\n",
       "<polyline clip-path=\"url(#clip9102)\" style=\"stroke:#000000; stroke-width:4; stroke-opacity:1; fill:none\" points=\"\n",
       "  867.457,325.793 867.457,1386.61 1004.16,1386.61 1004.16,325.793 867.457,325.793 \n",
       "  \"/>\n",
       "<path clip-path=\"url(#clip9102)\" d=\"\n",
       "M1004.16 86.2547 L1004.16 1386.61 L1140.86 1386.61 L1140.86 86.2547 L1004.16 86.2547 L1004.16 86.2547  Z\n",
       "  \" fill=\"#009af9\" fill-rule=\"evenodd\" fill-opacity=\"1\"/>\n",
       "<polyline clip-path=\"url(#clip9102)\" style=\"stroke:#000000; stroke-width:4; stroke-opacity:1; fill:none\" points=\"\n",
       "  1004.16,86.2547 1004.16,1386.61 1140.86,1386.61 1140.86,86.2547 1004.16,86.2547 \n",
       "  \"/>\n",
       "<path clip-path=\"url(#clip9102)\" d=\"\n",
       "M1140.86 360.013 L1140.86 1386.61 L1277.56 1386.61 L1277.56 360.013 L1140.86 360.013 L1140.86 360.013  Z\n",
       "  \" fill=\"#009af9\" fill-rule=\"evenodd\" fill-opacity=\"1\"/>\n",
       "<polyline clip-path=\"url(#clip9102)\" style=\"stroke:#000000; stroke-width:4; stroke-opacity:1; fill:none\" points=\"\n",
       "  1140.86,360.013 1140.86,1386.61 1277.56,1386.61 1277.56,360.013 1140.86,360.013 \n",
       "  \"/>\n",
       "<path clip-path=\"url(#clip9102)\" d=\"\n",
       "M1277.56 462.673 L1277.56 1386.61 L1414.27 1386.61 L1414.27 462.673 L1277.56 462.673 L1277.56 462.673  Z\n",
       "  \" fill=\"#009af9\" fill-rule=\"evenodd\" fill-opacity=\"1\"/>\n",
       "<polyline clip-path=\"url(#clip9102)\" style=\"stroke:#000000; stroke-width:4; stroke-opacity:1; fill:none\" points=\"\n",
       "  1277.56,462.673 1277.56,1386.61 1414.27,1386.61 1414.27,462.673 1277.56,462.673 \n",
       "  \"/>\n",
       "<path clip-path=\"url(#clip9102)\" d=\"\n",
       "M1414.27 873.311 L1414.27 1386.61 L1550.97 1386.61 L1550.97 873.311 L1414.27 873.311 L1414.27 873.311  Z\n",
       "  \" fill=\"#009af9\" fill-rule=\"evenodd\" fill-opacity=\"1\"/>\n",
       "<polyline clip-path=\"url(#clip9102)\" style=\"stroke:#000000; stroke-width:4; stroke-opacity:1; fill:none\" points=\"\n",
       "  1414.27,873.311 1414.27,1386.61 1550.97,1386.61 1550.97,873.311 1414.27,873.311 \n",
       "  \"/>\n",
       "<path clip-path=\"url(#clip9102)\" d=\"\n",
       "M1550.97 1181.29 L1550.97 1386.61 L1687.67 1386.61 L1687.67 1181.29 L1550.97 1181.29 L1550.97 1181.29  Z\n",
       "  \" fill=\"#009af9\" fill-rule=\"evenodd\" fill-opacity=\"1\"/>\n",
       "<polyline clip-path=\"url(#clip9102)\" style=\"stroke:#000000; stroke-width:4; stroke-opacity:1; fill:none\" points=\"\n",
       "  1550.97,1181.29 1550.97,1386.61 1687.67,1386.61 1687.67,1181.29 1550.97,1181.29 \n",
       "  \"/>\n",
       "<path clip-path=\"url(#clip9102)\" d=\"\n",
       "M1687.67 1249.73 L1687.67 1386.61 L1824.37 1386.61 L1824.37 1249.73 L1687.67 1249.73 L1687.67 1249.73  Z\n",
       "  \" fill=\"#009af9\" fill-rule=\"evenodd\" fill-opacity=\"1\"/>\n",
       "<polyline clip-path=\"url(#clip9102)\" style=\"stroke:#000000; stroke-width:4; stroke-opacity:1; fill:none\" points=\"\n",
       "  1687.67,1249.73 1687.67,1386.61 1824.37,1386.61 1824.37,1249.73 1687.67,1249.73 \n",
       "  \"/>\n",
       "<path clip-path=\"url(#clip9102)\" d=\"\n",
       "M1824.37 1352.39 L1824.37 1386.61 L1961.08 1386.61 L1961.08 1352.39 L1824.37 1352.39 L1824.37 1352.39  Z\n",
       "  \" fill=\"#009af9\" fill-rule=\"evenodd\" fill-opacity=\"1\"/>\n",
       "<polyline clip-path=\"url(#clip9102)\" style=\"stroke:#000000; stroke-width:4; stroke-opacity:1; fill:none\" points=\"\n",
       "  1824.37,1352.39 1824.37,1386.61 1961.08,1386.61 1961.08,1352.39 1824.37,1352.39 \n",
       "  \"/>\n",
       "<path clip-path=\"url(#clip9102)\" d=\"\n",
       "M1961.08 1386.61 L1961.08 1386.61 L2097.78 1386.61 L2097.78 1386.61 L1961.08 1386.61 L1961.08 1386.61  Z\n",
       "  \" fill=\"#009af9\" fill-rule=\"evenodd\" fill-opacity=\"1\"/>\n",
       "<polyline clip-path=\"url(#clip9102)\" style=\"stroke:#000000; stroke-width:4; stroke-opacity:1; fill:none\" points=\"\n",
       "  1961.08,1386.61 1961.08,1386.61 2097.78,1386.61 1961.08,1386.61 \n",
       "  \"/>\n",
       "<path clip-path=\"url(#clip9102)\" d=\"\n",
       "M2097.78 1352.39 L2097.78 1386.61 L2234.48 1386.61 L2234.48 1352.39 L2097.78 1352.39 L2097.78 1352.39  Z\n",
       "  \" fill=\"#009af9\" fill-rule=\"evenodd\" fill-opacity=\"1\"/>\n",
       "<polyline clip-path=\"url(#clip9102)\" style=\"stroke:#000000; stroke-width:4; stroke-opacity:1; fill:none\" points=\"\n",
       "  2097.78,1352.39 2097.78,1386.61 2234.48,1386.61 2234.48,1352.39 2097.78,1352.39 \n",
       "  \"/>\n",
       "</svg>\n"
      ]
     },
     "execution_count": 34,
     "metadata": {},
     "output_type": "execute_result"
    }
   ],
   "source": [
    "histogram(obs.infection .- pm_events.exposure, legend=:none, ylabel=\"Frequency\", xlabel=\"Incubation period\")"
   ]
  },
  {
   "cell_type": "code",
   "execution_count": 30,
   "metadata": {},
   "outputs": [
    {
     "data": {
      "text/plain": [
       "9.418605077939166"
      ]
     },
     "execution_count": 30,
     "metadata": {},
     "output_type": "execute_result"
    }
   ],
   "source": [
    "mean(obs.infection .- pm_events.exposure)"
   ]
  },
  {
   "cell_type": "code",
   "execution_count": 39,
   "metadata": {},
   "outputs": [
    {
     "data": {
      "text/plain": [
       "141"
      ]
     },
     "execution_count": 39,
     "metadata": {},
     "output_type": "execute_result"
    }
   ],
   "source": [
    "argmax(obs.infection)"
   ]
  },
  {
   "cell_type": "code",
   "execution_count": 43,
   "metadata": {},
   "outputs": [
    {
     "data": {
      "text/plain": [
       "188-element Array{Float64,1}:\n",
       "  0.0\n",
       "  2.0\n",
       "  8.0\n",
       "  8.0\n",
       "  9.0\n",
       " 12.0\n",
       " 12.0\n",
       " 13.0\n",
       " 14.0\n",
       " 16.0\n",
       " 16.0\n",
       " 18.0\n",
       " 19.0\n",
       "  ⋮\n",
       " 42.0\n",
       " 42.0\n",
       " 43.0\n",
       " 43.0\n",
       " 43.0\n",
       " 44.0\n",
       " 44.0\n",
       " 44.0\n",
       " 45.0\n",
       " 46.0\n",
       " 46.0\n",
       " 86.0"
      ]
     },
     "execution_count": 43,
     "metadata": {},
     "output_type": "execute_result"
    }
   ],
   "source": [
    "sort(obs.infection)"
   ]
  },
  {
   "cell_type": "code",
   "execution_count": 42,
   "metadata": {},
   "outputs": [
    {
     "data": {
      "text/plain": [
       "1.0"
      ]
     },
     "execution_count": 42,
     "metadata": {},
     "output_type": "execute_result"
    }
   ],
   "source": [
    "tnp.external[141]"
   ]
  },
  {
   "cell_type": "code",
   "execution_count": null,
   "metadata": {},
   "outputs": [],
   "source": []
  }
 ],
 "metadata": {
  "@webio": {
   "lastCommId": null,
   "lastKernelId": null
  },
  "kernelspec": {
   "display_name": "Julia 1.4.1",
   "language": "julia",
   "name": "julia-1.4"
  },
  "language_info": {
   "file_extension": ".jl",
   "mimetype": "application/julia",
   "name": "julia",
   "version": "1.4.1"
  }
 },
 "nbformat": 4,
 "nbformat_minor": 4
}
