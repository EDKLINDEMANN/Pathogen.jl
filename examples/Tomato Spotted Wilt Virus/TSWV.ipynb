{
 "cells": [
  {
   "cell_type": "markdown",
   "metadata": {},
   "source": [
    "# Tomato Spotted Wilt Virus\n",
    "\n",
    "## Description\n",
    "The Tomato Spotted Wilt Virus data comes from an experimental greenhouse epidemic conducted by Hughes et. al. This data was processed and made available through the EpiILM R package.\n",
    "\n",
    "The experiment consisted of 520 individual tomato uniformly spaced in a 10 x 26m greenhouse. Every 2 weeks it was determined if an individual plant was infected or not. Our analysis follows from day 42 onward.\n",
    "\n",
    "## Data references\n",
    "Hughes, G., McRoberts, N., Madden, L.V., Nelson, S.C., 1997. Validating math-ematical models of plant-disease progress in space and time.  MathematicalMedicine and Biology:  A Journal of the IMA 14, 85–112.\n",
    "\n",
    "Warriyar K.V., V., Deardon, R., 2018. EpiILM: Spatial and Network Based Individual Level Models for Epidemics. URL: https://CRAN.R-project.org/package=EpiILM. R package version 1.4.2."
   ]
  },
  {
   "cell_type": "code",
   "execution_count": 1,
   "metadata": {},
   "outputs": [
    {
     "data": {
      "text/plain": [
       "Population object (n=520)"
      ]
     },
     "execution_count": 1,
     "metadata": {},
     "output_type": "execute_result"
    }
   ],
   "source": [
    "using CSV, DelimitedFiles, Distances, Random, Pathogen, Plots\n",
    "Random.seed!(5432)\n",
    "\n",
    "# POPULATION INFOFORMATION\n",
    "# Use CSV.jl for DataFrames I/O\n",
    "# We know the types of the columns, so we'll manually specify those.\n",
    "# * Individual IDs are `Int64`\n",
    "# * X,Y coordinates are `Float64`s\n",
    "risks = CSV.read(joinpath(@__DIR__, \"plant_locations.csv\"), types=[Int64; Float64; Float64])\n",
    "\n",
    "# Will precalculate distances\n",
    "distances = [euclidean([risks[i, :x]; risks[i, :y]], [risks[j, :x]; risks[j, :y]]) for i = 1:size(risks, 1), j = 1:size(risks, 1)]\n",
    "\n",
    "pop = Population(risks, distances)"
   ]
  },
  {
   "cell_type": "code",
   "execution_count": 2,
   "metadata": {},
   "outputs": [
    {
     "data": {
      "text/plain": [
       "SI model observations (n=520)"
      ]
     },
     "execution_count": 2,
     "metadata": {},
     "output_type": "execute_result"
    }
   ],
   "source": [
    "# OBSERVATIONS\n",
    "# Use julia's included CSV interface for simple vector of observation times\n",
    "raw_observations = readdlm(joinpath(@__DIR__, \"infection_observations.csv\"))[:]\n",
    "\n",
    "# Create an `EventObservations` object with `Pathogen.jl`\n",
    "obs = EventObservations{SI}(raw_observations)\n",
    "\n",
    "# For performing inference we are going to set everything at or before t = 42 as being the starting state.\n",
    "starting_states = [obs.infection[i] <= 42.0 ? State_I : State_S for i=1:obs.individuals]\n",
    "\n",
    "# We will also set these observation times to -Inf\n",
    "obs.infection[obs.infection .<= 42.0] .= -Inf\n",
    "\n",
    "obs"
   ]
  },
  {
   "cell_type": "code",
   "execution_count": 3,
   "metadata": {},
   "outputs": [
    {
     "data": {
      "text/plain": [
       "SI model risk functions"
      ]
     },
     "execution_count": 3,
     "metadata": {},
     "output_type": "execute_result"
    }
   ],
   "source": [
    "# RISK FUNCTIONS\n",
    "function _zero(params::Vector{Float64}, pop::Pathogen.Population, i::Int64)\n",
    "  return 0.0\n",
    "end\n",
    "\n",
    "function _one(params::Vector{Float64}, pop::Pathogen.Population, i::Int64)\n",
    "  return 1.0\n",
    "end\n",
    "\n",
    "function _powerlaw(params::Vector{Float64}, pop::Pathogen.Population, i::Int64, k::Int64)\n",
    "  α = params[1]\n",
    "  β = params[2]\n",
    "  d = pop.distances[k, i]\n",
    "  return α * (d^(-β))\n",
    "end\n",
    "\n",
    "rf = RiskFunctions{SI}(_zero, # sparks function - we will assume no exogenous transmissions and set this to zero\n",
    "                       _one, # susceptibility function - we do not have individual level risk factor information to explore here, so will set to a constant 1\n",
    "                       _powerlaw, # transmissability function - we will use a powerlaw (with intercept) kernel. This provides a spatial and non-spatial component to infection transmissions. This has 3 parameters.\n",
    "                       _one) # infectivity function - we do not have individual level risk factor information to explore here, so will set to a constant 1"
   ]
  },
  {
   "cell_type": "code",
   "execution_count": 4,
   "metadata": {},
   "outputs": [
    {
     "name": "stderr",
     "output_type": "stream",
     "text": [
      "\u001b[32mInitialization progress100%|████████████████████████████| Time: 0:09:32\u001b[39mm17\u001b[39m\n",
      "\u001b[32mMCMC progress100%|██████████████████████████████████████| Time: 17:50:52\u001b[39m53\u001b[39mm\n"
     ]
    },
    {
     "data": {
      "text/plain": [
       "SI model MCMC with 1 chains"
      ]
     },
     "execution_count": 4,
     "metadata": {},
     "output_type": "execute_result"
    }
   ],
   "source": [
    "rpriors = RiskPriors{SI}(UnivariateDistribution[], # empty `UnivariateDistribution` vector for all parameter-less functions\n",
    "                         UnivariateDistribution[],\n",
    "                         [Gamma(1.0, 0.5); Gamma(1.0, 1.0)], # Relatively uninformative priors with appropriate support\n",
    "                         UnivariateDistribution[])\n",
    "\n",
    "ee = EventExtents{SI}(14.0)\n",
    "\n",
    "mcmc = MCMC(obs, ee, pop, starting_states, rf, rpriors)\n",
    "start!(mcmc, attempts = 50000)\n",
    "iterate!(mcmc, 50000, 2.0, event_batches = 20)"
   ]
  },
  {
   "cell_type": "code",
   "execution_count": 5,
   "metadata": {},
   "outputs": [],
   "source": [
    "#using JLD2\n",
    "#@save \"mcmc.jld2\" mcmc\n",
    "#@load \"mcmc.jld2\" mcmc"
   ]
  },
  {
   "cell_type": "code",
   "execution_count": 20,
   "metadata": {},
   "outputs": [
    {
     "data": {
      "text/plain": [
       "Plots.GRBackend()"
      ]
     },
     "execution_count": 20,
     "metadata": {},
     "output_type": "execute_result"
    }
   ],
   "source": [
    "gr(dpi=200)"
   ]
  },
  {
   "cell_type": "code",
   "execution_count": 21,
   "metadata": {},
   "outputs": [],
   "source": [
    "p1 = plot(1:20:50001, mcmc.markov_chains[1].risk_parameters, yscale=:log10, size=(400,300))\n",
    "png(p1, joinpath(@__DIR__, \"trace.png\"))"
   ]
  },
  {
   "cell_type": "markdown",
   "metadata": {},
   "source": [
    "![Trace plots](trace.png)"
   ]
  },
  {
   "cell_type": "code",
   "execution_count": 24,
   "metadata": {},
   "outputs": [
    {
     "data": {
      "text/html": [
       "<table class=\"data-frame\"><thead><tr><th></th><th>parameter</th><th>mean</th><th>var</th><th>CI</th></tr><tr><th></th><th>String</th><th>Float64</th><th>Float64</th><th>Tuple…</th></tr></thead><tbody><p>2 rows × 4 columns</p><tr><th>1</th><td>κ₁</td><td>0.00265338</td><td>6.19118e-8</td><td>(0.00217468, 0.00313057)</td></tr><tr><th>2</th><td>κ₂</td><td>2.13986</td><td>0.0178767</td><td>(1.87603, 2.39948)</td></tr></tbody></table>"
      ],
      "text/latex": [
       "\\begin{tabular}{r|cccc}\n",
       "\t& parameter & mean & var & CI\\\\\n",
       "\t\\hline\n",
       "\t& String & Float64 & Float64 & Tuple…\\\\\n",
       "\t\\hline\n",
       "\t1 & κ₁ & 0.00265338 & 6.19118e-8 & (0.00217468, 0.00313057) \\\\\n",
       "\t2 & κ₂ & 2.13986 & 0.0178767 & (1.87603, 2.39948) \\\\\n",
       "\\end{tabular}\n"
      ],
      "text/plain": [
       "2×4 DataFrame\n",
       "│ Row │ parameter │ mean       │ var        │ CI                       │\n",
       "│     │ \u001b[90mString\u001b[39m    │ \u001b[90mFloat64\u001b[39m    │ \u001b[90mFloat64\u001b[39m    │ \u001b[90mTuple{Float64,Float64}\u001b[39m   │\n",
       "├─────┼───────────┼────────────┼────────────┼──────────────────────────┤\n",
       "│ 1   │ κ₁        │ 0.00265338 │ 6.19118e-8 │ (0.00217468, 0.00313057) │\n",
       "│ 2   │ κ₂        │ 2.13986    │ 0.0178767  │ (1.87603, 2.39948)       │"
      ]
     },
     "execution_count": 24,
     "metadata": {},
     "output_type": "execute_result"
    }
   ],
   "source": [
    "summary(mcmc, burnin=10000, thin=20)"
   ]
  },
  {
   "cell_type": "code",
   "execution_count": 8,
   "metadata": {},
   "outputs": [
    {
     "data": {
      "text/plain": [
       "TransmissionNetworkDistribution Σexternal = 13.0 Σinternal = 314.0"
      ]
     },
     "execution_count": 8,
     "metadata": {},
     "output_type": "execute_result"
    }
   ],
   "source": [
    "tnd = TNDistribution(mcmc, burnin=10000, thin=20)"
   ]
  },
  {
   "cell_type": "code",
   "execution_count": 27,
   "metadata": {},
   "outputs": [],
   "source": [
    "p2 = plot(tnd, size=(400,300))\n",
    "png(p2, joinpath(@__DIR__, \"posterior_outdegree.png\"))"
   ]
  },
  {
   "cell_type": "markdown",
   "metadata": {},
   "source": [
    "![Posterior Outdegree](posterior_outdegree.png)"
   ]
  },
  {
   "cell_type": "code",
   "execution_count": 28,
   "metadata": {},
   "outputs": [],
   "source": [
    "p3 = plot(tnd, pop, size=(500,250));"
   ]
  },
  {
   "cell_type": "code",
   "execution_count": 29,
   "metadata": {},
   "outputs": [],
   "source": [
    "png(p3, joinpath(@__DIR__, \"posterior_tn.png\"))"
   ]
  },
  {
   "cell_type": "markdown",
   "metadata": {},
   "source": [
    "![Posterior TN](posterior_tn.png)"
   ]
  },
  {
   "cell_type": "code",
   "execution_count": 30,
   "metadata": {},
   "outputs": [],
   "source": [
    "p4 = plot(mcmc.markov_chains[1].events[10000], State_S,\n",
    "          linealpha=0.01, title=\"S\", xguidefontsize=8, yguidefontsize=8,\n",
    "          xtickfontsize=7, ytickfontsize=7, titlefontsize=11)\n",
    "for i=10050:20:50000\n",
    "  plot!(p4, mcmc.markov_chains[1].events[i], State_S, linealpha=0.02)\n",
    "end\n",
    "\n",
    "p5 = plot(mcmc.markov_chains[1].events[10000], State_I,\n",
    "          linealpha=0.01, title=\"I\", xguidefontsize=8, yguidefontsize=8, xtickfontsize=7, ytickfontsize=7, titlefontsize=11)\n",
    "for i=10050:20:50000\n",
    "  plot!(p5, mcmc.markov_chains[1].events[i], State_I, linealpha=0.02)\n",
    "end\n",
    "plot!(p5, obs, State_I, linecolor=:black, linewidth=1.5) # Show infection observations (day of prodrome)\n",
    "\n",
    "l = @layout [a b]\n",
    "combinedplots1 = plot(p4, p5, layout=l, link=:y, size=(800,400))\n",
    "png(combinedplots1, joinpath(@__DIR__, \"posterior_epi_curves.png\"))"
   ]
  },
  {
   "cell_type": "markdown",
   "metadata": {},
   "source": [
    "![Posterior epidemic curves](posterior_epi_curves.png)"
   ]
  }
 ],
 "metadata": {
  "kernelspec": {
   "display_name": "Julia 1.4.1",
   "language": "julia",
   "name": "julia-1.4"
  },
  "language_info": {
   "file_extension": ".jl",
   "mimetype": "application/julia",
   "name": "julia",
   "version": "1.4.1"
  }
 },
 "nbformat": 4,
 "nbformat_minor": 4
}
