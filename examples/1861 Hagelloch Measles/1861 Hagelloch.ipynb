{
 "cells": [
  {
   "cell_type": "markdown",
   "metadata": {},
   "source": [
    "# 1861 Hagelloch Measles\n",
    "\n",
    "Data references:\n",
    "\n",
    "* Pfeilsticker, A. 1863. Beiträge zur Pathologie der Masern mit besonderer Berücksichtigung der statistischen Verhältnisse, M.D. Thesis, Eberhard-Karls-Universität Tübingen. Available as http://www.archive.org/details/beitrgezurpatho00pfeigoog.\n",
    "* Oesterle, H. 1992. Statistische Reanalyse einer Masernepidemie 1861 in Hagelloch, M.D. Thesis, Eberhard-Karls-Universitäat Tübingen.\n",
    "* Höhle M. 2007. surveillance: An R package for the monitoring of infectious diseases. Computational Statistics, 22:571-582."
   ]
  },
  {
   "cell_type": "code",
   "execution_count": null,
   "metadata": {},
   "outputs": [],
   "source": [
    "using CSV, DelimitedFiles, Distances, Random, Pathogen, Plots, Plots.PlotMeasures, DataFrames\n",
    "Random.seed!(4321)"
   ]
  },
  {
   "cell_type": "code",
   "execution_count": 2,
   "metadata": {},
   "outputs": [
    {
     "data": {
      "text/html": [
       "<table class=\"data-frame\"><thead><tr><th></th><th>age</th><th>gender</th><th>family_ID</th><th>class</th><th>x</th><th>y</th></tr><tr><th></th><th>Int64</th><th>String</th><th>Int64</th><th>Int64</th><th>Float64</th><th>Float64</th></tr></thead><tbody><p>188 rows × 6 columns</p><tr><th>1</th><td>7</td><td>f</td><td>41</td><td>1</td><td>142.5</td><td>100.0</td></tr><tr><th>2</th><td>6</td><td>f</td><td>41</td><td>1</td><td>142.5</td><td>100.0</td></tr><tr><th>3</th><td>4</td><td>f</td><td>41</td><td>0</td><td>142.5</td><td>100.0</td></tr><tr><th>4</th><td>13</td><td>m</td><td>61</td><td>2</td><td>165.0</td><td>102.5</td></tr><tr><th>5</th><td>8</td><td>f</td><td>42</td><td>1</td><td>145.0</td><td>120.0</td></tr><tr><th>6</th><td>12</td><td>m</td><td>42</td><td>2</td><td>145.0</td><td>120.0</td></tr><tr><th>7</th><td>6</td><td>m</td><td>26</td><td>0</td><td>272.5</td><td>147.5</td></tr><tr><th>8</th><td>10</td><td>m</td><td>44</td><td>1</td><td>97.5</td><td>155.0</td></tr><tr><th>9</th><td>13</td><td>m</td><td>44</td><td>2</td><td>97.5</td><td>155.0</td></tr><tr><th>10</th><td>7</td><td>f</td><td>29</td><td>1</td><td>240.0</td><td>75.0</td></tr><tr><th>11</th><td>11</td><td>f</td><td>27</td><td>2</td><td>270.0</td><td>135.0</td></tr><tr><th>12</th><td>7</td><td>f</td><td>32</td><td>1</td><td>195.0</td><td>27.5</td></tr><tr><th>13</th><td>13</td><td>m</td><td>32</td><td>2</td><td>195.0</td><td>27.5</td></tr><tr><th>14</th><td>13</td><td>f</td><td>22</td><td>2</td><td>227.5</td><td>185.0</td></tr><tr><th>15</th><td>8</td><td>m</td><td>22</td><td>1</td><td>227.5</td><td>185.0</td></tr><tr><th>16</th><td>15</td><td>f</td><td>43</td><td>2</td><td>172.5</td><td>172.5</td></tr><tr><th>17</th><td>10</td><td>f</td><td>43</td><td>2</td><td>172.5</td><td>172.5</td></tr><tr><th>18</th><td>2</td><td>f</td><td>43</td><td>0</td><td>172.5</td><td>172.5</td></tr><tr><th>19</th><td>11</td><td>m</td><td>11</td><td>2</td><td>167.5</td><td>5.0</td></tr><tr><th>20</th><td>10</td><td>m</td><td>11</td><td>2</td><td>167.5</td><td>5.0</td></tr><tr><th>21</th><td>13</td><td>f</td><td>11</td><td>2</td><td>167.5</td><td>5.0</td></tr><tr><th>22</th><td>10</td><td>f</td><td>35</td><td>1</td><td>167.5</td><td>5.0</td></tr><tr><th>23</th><td>7</td><td>f</td><td>35</td><td>1</td><td>167.5</td><td>5.0</td></tr><tr><th>24</th><td>4</td><td>m</td><td>35</td><td>0</td><td>167.5</td><td>5.0</td></tr><tr><th>25</th><td>12</td><td>f</td><td>35</td><td>2</td><td>167.5</td><td>5.0</td></tr><tr><th>26</th><td>7</td><td>m</td><td>67</td><td>1</td><td>7.5</td><td>37.5</td></tr><tr><th>27</th><td>5</td><td>m</td><td>29</td><td>0</td><td>240.0</td><td>75.0</td></tr><tr><th>28</th><td>10</td><td>f</td><td>65</td><td>2</td><td>15.0</td><td>47.5</td></tr><tr><th>29</th><td>13</td><td>m</td><td>15</td><td>2</td><td>125.0</td><td>187.5</td></tr><tr><th>30</th><td>11</td><td>f</td><td>15</td><td>2</td><td>125.0</td><td>187.5</td></tr><tr><th>&vellip;</th><td>&vellip;</td><td>&vellip;</td><td>&vellip;</td><td>&vellip;</td><td>&vellip;</td><td>&vellip;</td></tr></tbody></table>"
      ],
      "text/latex": [
       "\\begin{tabular}{r|cccccc}\n",
       "\t& age & gender & family\\_ID & class & x & y\\\\\n",
       "\t\\hline\n",
       "\t& Int64 & String & Int64 & Int64 & Float64 & Float64\\\\\n",
       "\t\\hline\n",
       "\t1 & 7 & f & 41 & 1 & 142.5 & 100.0 \\\\\n",
       "\t2 & 6 & f & 41 & 1 & 142.5 & 100.0 \\\\\n",
       "\t3 & 4 & f & 41 & 0 & 142.5 & 100.0 \\\\\n",
       "\t4 & 13 & m & 61 & 2 & 165.0 & 102.5 \\\\\n",
       "\t5 & 8 & f & 42 & 1 & 145.0 & 120.0 \\\\\n",
       "\t6 & 12 & m & 42 & 2 & 145.0 & 120.0 \\\\\n",
       "\t7 & 6 & m & 26 & 0 & 272.5 & 147.5 \\\\\n",
       "\t8 & 10 & m & 44 & 1 & 97.5 & 155.0 \\\\\n",
       "\t9 & 13 & m & 44 & 2 & 97.5 & 155.0 \\\\\n",
       "\t10 & 7 & f & 29 & 1 & 240.0 & 75.0 \\\\\n",
       "\t11 & 11 & f & 27 & 2 & 270.0 & 135.0 \\\\\n",
       "\t12 & 7 & f & 32 & 1 & 195.0 & 27.5 \\\\\n",
       "\t13 & 13 & m & 32 & 2 & 195.0 & 27.5 \\\\\n",
       "\t14 & 13 & f & 22 & 2 & 227.5 & 185.0 \\\\\n",
       "\t15 & 8 & m & 22 & 1 & 227.5 & 185.0 \\\\\n",
       "\t16 & 15 & f & 43 & 2 & 172.5 & 172.5 \\\\\n",
       "\t17 & 10 & f & 43 & 2 & 172.5 & 172.5 \\\\\n",
       "\t18 & 2 & f & 43 & 0 & 172.5 & 172.5 \\\\\n",
       "\t19 & 11 & m & 11 & 2 & 167.5 & 5.0 \\\\\n",
       "\t20 & 10 & m & 11 & 2 & 167.5 & 5.0 \\\\\n",
       "\t21 & 13 & f & 11 & 2 & 167.5 & 5.0 \\\\\n",
       "\t22 & 10 & f & 35 & 1 & 167.5 & 5.0 \\\\\n",
       "\t23 & 7 & f & 35 & 1 & 167.5 & 5.0 \\\\\n",
       "\t24 & 4 & m & 35 & 0 & 167.5 & 5.0 \\\\\n",
       "\t25 & 12 & f & 35 & 2 & 167.5 & 5.0 \\\\\n",
       "\t26 & 7 & m & 67 & 1 & 7.5 & 37.5 \\\\\n",
       "\t27 & 5 & m & 29 & 0 & 240.0 & 75.0 \\\\\n",
       "\t28 & 10 & f & 65 & 2 & 15.0 & 47.5 \\\\\n",
       "\t29 & 13 & m & 15 & 2 & 125.0 & 187.5 \\\\\n",
       "\t30 & 11 & f & 15 & 2 & 125.0 & 187.5 \\\\\n",
       "\t$\\dots$ & $\\dots$ & $\\dots$ & $\\dots$ & $\\dots$ & $\\dots$ & $\\dots$ \\\\\n",
       "\\end{tabular}\n"
      ],
      "text/plain": [
       "188×6 DataFrame\n",
       "│ Row │ age   │ gender │ family_ID │ class │ x       │ y       │\n",
       "│     │ \u001b[90mInt64\u001b[39m │ \u001b[90mString\u001b[39m │ \u001b[90mInt64\u001b[39m     │ \u001b[90mInt64\u001b[39m │ \u001b[90mFloat64\u001b[39m │ \u001b[90mFloat64\u001b[39m │\n",
       "├─────┼───────┼────────┼───────────┼───────┼─────────┼─────────┤\n",
       "│ 1   │ 7     │ f      │ 41        │ 1     │ 142.5   │ 100.0   │\n",
       "│ 2   │ 6     │ f      │ 41        │ 1     │ 142.5   │ 100.0   │\n",
       "│ 3   │ 4     │ f      │ 41        │ 0     │ 142.5   │ 100.0   │\n",
       "│ 4   │ 13    │ m      │ 61        │ 2     │ 165.0   │ 102.5   │\n",
       "│ 5   │ 8     │ f      │ 42        │ 1     │ 145.0   │ 120.0   │\n",
       "│ 6   │ 12    │ m      │ 42        │ 2     │ 145.0   │ 120.0   │\n",
       "│ 7   │ 6     │ m      │ 26        │ 0     │ 272.5   │ 147.5   │\n",
       "│ 8   │ 10    │ m      │ 44        │ 1     │ 97.5    │ 155.0   │\n",
       "│ 9   │ 13    │ m      │ 44        │ 2     │ 97.5    │ 155.0   │\n",
       "│ 10  │ 7     │ f      │ 29        │ 1     │ 240.0   │ 75.0    │\n",
       "⋮\n",
       "│ 178 │ 4     │ m      │ 17        │ 0     │ 182.5   │ 200.0   │\n",
       "│ 179 │ 1     │ f      │ 17        │ 1     │ 182.5   │ 200.0   │\n",
       "│ 180 │ 10    │ m      │ 17        │ 2     │ 182.5   │ 200.0   │\n",
       "│ 181 │ 10    │ f      │ 4         │ 2     │ 182.5   │ 200.0   │\n",
       "│ 182 │ 13    │ m      │ 4         │ 2     │ 182.5   │ 200.0   │\n",
       "│ 183 │ 4     │ m      │ 4         │ 0     │ 182.5   │ 200.0   │\n",
       "│ 184 │ 13    │ NA     │ 51        │ 2     │ 182.5   │ 200.0   │\n",
       "│ 185 │ 3     │ m      │ 21        │ 0     │ 205.0   │ 182.5   │\n",
       "│ 186 │ 6     │ NA     │ 57        │ 0     │ 212.5   │ 90.0    │\n",
       "│ 187 │ 0     │ m      │ 21        │ 0     │ 205.0   │ 182.5   │\n",
       "│ 188 │ 1     │ NA     │ 57        │ 0     │ 212.5   │ 90.0    │"
      ]
     },
     "execution_count": 2,
     "metadata": {},
     "output_type": "execute_result"
    }
   ],
   "source": [
    "# POPULATION INFOFORMATION\n",
    "# Use CSV.jl for DataFrames I/O\n",
    "risks = CSV.read(joinpath(@__DIR__, \"data/measles_hagelloch_1861_risk_factors.csv\"))"
   ]
  },
  {
   "cell_type": "code",
   "execution_count": 3,
   "metadata": {},
   "outputs": [
    {
     "data": {
      "text/plain": [
       "Population object (n=188)"
      ]
     },
     "execution_count": 3,
     "metadata": {},
     "output_type": "execute_result"
    }
   ],
   "source": [
    "# Will precalculate distances\n",
    "distances = [euclidean([risks[i, :x]; risks[i, :y]], [risks[j, :x]; risks[j, :y]]) for i = 1:size(risks, 1), j = 1:size(risks, 1)]\n",
    "\n",
    "pop = Population(risks, distances)"
   ]
  },
  {
   "cell_type": "code",
   "execution_count": 3,
   "metadata": {},
   "outputs": [
    {
     "data": {
      "text/plain": [
       "SEIR model risk functions"
      ]
     },
     "execution_count": 3,
     "metadata": {},
     "output_type": "execute_result"
    }
   ],
   "source": [
    "# Define risk functions/TN-ILM structure\n",
    "function _constant(params::Vector{Float64}, pop::Population, i::Int64)\n",
    "  return params[1]\n",
    "end\n",
    "\n",
    "function _one(params::Vector{Float64}, pop::Population, i::Int64)\n",
    "  return 1.0\n",
    "end\n",
    "\n",
    "function _powerlaw_plus(params::Vector{Float64}, pop::Population, i::Int64, k::Int64)    \n",
    "  return distances[k,i] > 0.0 * params[1] * pop.distances[k, i]^(-params[2]) +\n",
    "         params[3]*(pop.risks[i, :family_ID] == pop.risks[k, :family_ID]) +\n",
    "         params[4]*(pop.risks[i, :class] == pop.risks[k, :class])\n",
    "end\n",
    "\n",
    "rf = RiskFunctions{SEIR}(_constant, # sparks function\n",
    "                         _one, # susceptibility function\n",
    "                         _powerlaw_plus, # infectivity function\n",
    "                         _one, # transmissability function\n",
    "                         _constant, # latency function\n",
    "                         _constant) # removal function"
   ]
  },
  {
   "cell_type": "code",
   "execution_count": 6,
   "metadata": {},
   "outputs": [
    {
     "data": {
      "text/plain": [
       "SEIR model observations (n=188)"
      ]
     },
     "execution_count": 6,
     "metadata": {},
     "output_type": "execute_result"
    }
   ],
   "source": [
    "obsdata = CSV.read(joinpath(@__DIR__, \"data/measles_hagelloch_1861_observations.csv\"))\n",
    "\n",
    "# Set the removal observation as minimum of (day that rash appears + 4.0) and death, in fatal cases.\n",
    "removed = [obsdata[i, :death] === NaN ? obsdata[i, :rash] + 4.0 : min(obsdata[i, :rash] + 4.0, obsdata[i, :death]) for i = 1:188]\n",
    "\n",
    "# Set prodrome within first 7 days of epidemic as initial conditions\n",
    "infected = obsdata[:, :prodrome]\n",
    "# starting_states = [i <= 10.0 ? State_I : State_S for i in infected]\n",
    "# infected[infected .<= 10.0] .= -Inf\n",
    "obs = EventObservations{SEIR}(infected, removed)"
   ]
  },
  {
   "cell_type": "code",
   "execution_count": 6,
   "metadata": {},
   "outputs": [
    {
     "data": {
      "text/plain": [
       "SEIR model event extents"
      ]
     },
     "execution_count": 6,
     "metadata": {},
     "output_type": "execute_result"
    }
   ],
   "source": [
    "# Specify some priors for the risk parameters of our various risk functions\n",
    "rpriors = RiskPriors{SEIR}([Uniform(0.0, 1.0)],\n",
    "                           UnivariateDistribution[],\n",
    "                           [Uniform(1.0, 7.0); Uniform(1.0, 7.0); Uniform(0.0, 2.0); Uniform(0.0, 2.0)],\n",
    "                           UnivariateDistribution[],\n",
    "                           [Uniform(0.0, 1.0)],\n",
    "                           [Uniform(0.0, 1.0)])\n",
    "\n",
    "# Using CDC measles information set some extents for event data augmentation\n",
    "# Exposure up to 2 weeks before infectiousness\n",
    "# Infectious up to 3 days before prodrome\n",
    "# Removal time within 2-4 days after rash\n",
    "ee = EventExtents{SEIR}(14.0, 3.0, 2.0)"
   ]
  },
  {
   "cell_type": "code",
   "execution_count": 8,
   "metadata": {},
   "outputs": [
    {
     "name": "stderr",
     "output_type": "stream",
     "text": [
      "\u001b[32mInitialization progress100%|████████████████████████████| Time: 0:09:19\u001b[39mm\n",
      "\u001b[32mMCMC progress100%|██████████████████████████████████████| Time: 0:58:31\u001b[39mm\n"
     ]
    },
    {
     "data": {
      "text/plain": [
       "SEIR model MCMC with 1 chains"
      ]
     },
     "execution_count": 8,
     "metadata": {},
     "output_type": "execute_result"
    }
   ],
   "source": [
    "# Initialize MCMC\n",
    "mcmc = MCMC(obs, ee, pop, rf, rpriors)\n",
    "start!(mcmc, attempts=50000) # 1 chain, with 50k initialization attempts\n",
    "\n",
    "# Run MCMC\n",
    "iterate!(mcmc, 100000, 1.0, condition_on_network=true, event_batches=5)"
   ]
  },
  {
   "cell_type": "code",
   "execution_count": 22,
   "metadata": {},
   "outputs": [],
   "source": [
    "# using JLD2\n",
    "# @save \"mcmc.jld2\" mcmc\n",
    "# @load \"mcmc.jld2\" mcmc"
   ]
  },
  {
   "cell_type": "code",
   "execution_count": 12,
   "metadata": {},
   "outputs": [],
   "source": [
    "# MCMC and posterior plots\n",
    "p1 = plot(1:20:100001, mcmc.markov_chains[1].risk_parameters, yscale=:log10, title=\"TN-ILM parameters\")\n",
    "png(p1, joinpath(@__DIR__, \"trace.png\"))"
   ]
  },
  {
   "cell_type": "markdown",
   "metadata": {},
   "source": [
    "![TN-ILM traceplot](trace.png)"
   ]
  },
  {
   "cell_type": "code",
   "execution_count": 8,
   "metadata": {},
   "outputs": [],
   "source": [
    "gr(dpi=200)\n",
    "\n",
    "p1 = plot(mcmc.markov_chains[1].events[50000], State_S,\n",
    "          linealpha=0.01, title=\"S\", xguidefontsize=8, yguidefontsize=8,\n",
    "          xtickfontsize=7, ytickfontsize=7, titlefontsize=11)\n",
    "for i=50050:50:100000\n",
    "  plot!(p1, mcmc.markov_chains[1].events[i], State_S, linealpha=0.02)\n",
    "end\n",
    "\n",
    "p2 = plot(mcmc.markov_chains[1].events[50000], State_E,\n",
    "          linealpha=0.01, title=\"E\", xguidefontsize=8, yguidefontsize=8,\n",
    "          xtickfontsize=7, ytickfontsize=7, titlefontsize=11)\n",
    "for i=50050:50:100000\n",
    "  plot!(p2, mcmc.markov_chains[1].events[i], State_E, linealpha=0.02)\n",
    "end\n",
    "\n",
    "p3 = plot(mcmc.markov_chains[1].events[50000], State_I,\n",
    "          linealpha=0.01, title=\"I\", xguidefontsize=8, yguidefontsize=8, xtickfontsize=7, ytickfontsize=7, titlefontsize=11)\n",
    "for i=50050:50:100000\n",
    "  plot!(p3, mcmc.markov_chains[1].events[i], State_I, linealpha=0.02)\n",
    "end\n",
    "plot!(p3, obs, State_I, linecolor=:black, linewidth=1.5) # Show infection observations (day of prodrome)\n",
    "\n",
    "p4 = plot(mcmc.markov_chains[1].events[50000], State_R,\n",
    "          linealpha=0.01, title=\"R\", xguidefontsize=8, yguidefontsize=8, xtickfontsize=7, ytickfontsize=7, titlefontsize=11)\n",
    "for i=50050:50:100000\n",
    "  plot!(p4, mcmc.markov_chains[1].events[i], State_R, linealpha=0.02)\n",
    "end\n",
    "plot!(p4, obs, State_R, linecolor=:black, linewidth=1.5) # Show removal observations (day of appearance of rash + 4)\n",
    "\n",
    "l = @layout [a b; c d]\n",
    "combinedplots2 = plot(p1, p2, p3, p4, layout=l)\n",
    "png(combinedplots2, joinpath(@__DIR__, \"posterior_epi_curves.png\"))"
   ]
  },
  {
   "cell_type": "markdown",
   "metadata": {},
   "source": [
    "![Epidemic Curve Posterior](posterior_epi_curves.png)"
   ]
  },
  {
   "cell_type": "code",
   "execution_count": 16,
   "metadata": {},
   "outputs": [],
   "source": [
    "tnp = TransmissionNetworkPosterior(mcmc.markov_chains[1].transmission_network[50000:50:100000])\n",
    "p1 = plot(tnp, mcmc.population, title=\"Transmission Network\\nPosterior Distribution\", titlefontsize=11, framestyle=:box)\n",
    "\n",
    "png(p1, joinpath(@__DIR__, \"posterior_tn.png\"))"
   ]
  },
  {
   "cell_type": "code",
   "execution_count": 17,
   "metadata": {},
   "outputs": [
    {
     "data": {
      "text/plain": [
       "Population object (n=188)"
      ]
     },
     "execution_count": 17,
     "metadata": {},
     "output_type": "execute_result"
    }
   ],
   "source": [
    "# As there are several individuals at single locations, jitter locations to better illustrate the \n",
    "# transmission network distribution\n",
    "xyjitter = select(risks, :x, :y)\n",
    "xyjitter[:, :x] = xyjitter[:, :x] + rand(Normal(0, 5), 188)\n",
    "xyjitter[:, :y] = xyjitter[:, :y] + rand(Normal(0, 5), 188)\n",
    "plotpop = Population(xyjitter)"
   ]
  },
  {
   "cell_type": "code",
   "execution_count": 18,
   "metadata": {},
   "outputs": [],
   "source": [
    "p1 = plot(tnp, plotpop, title=\"Transmission Network\\nPosterior Distribution\", titlefontsize=11, framestyle=:box, markeralpha=0.5)\n",
    "\n",
    "png(p1, joinpath(@__DIR__, \"posterior_tn2.png\"))"
   ]
  },
  {
   "cell_type": "code",
   "execution_count": 32,
   "metadata": {},
   "outputs": [],
   "source": [
    "tntrue = TransmissionNetwork(BitArray(readdlm(\"data/measles_hagelloch_1861_oesterle_tn_external.csv\")[:]), BitArray(readdlm(\"data/measles_hagelloch_1861_oesterle_tn_internal.csv\")))\n",
    "p2 = plot(tntrue, plotpop, title=\"Oesterle (1992) Transmission Network\", titlefontsize=11, framestyle=:box, markeralpha=0.5)\n",
    "\n",
    "png(p2, joinpath(@__DIR__, \"Oesterle_tn.png\"))"
   ]
  },
  {
   "cell_type": "code",
   "execution_count": 33,
   "metadata": {},
   "outputs": [],
   "source": [
    "l = @layout [a b]\n",
    "plot(p1, p2, layout=l, dpi=200)\n",
    "png(joinpath(@__DIR__, \"tn_side_by_side.png\"))"
   ]
  },
  {
   "cell_type": "markdown",
   "metadata": {},
   "source": [
    "![Transmission Posterior](tn_side_by_side.png)"
   ]
  },
  {
   "cell_type": "code",
   "execution_count": 29,
   "metadata": {},
   "outputs": [
    {
     "data": {
      "text/html": [
       "<table class=\"data-frame\"><thead><tr><th></th><th>parameter</th><th>mean</th><th>var</th><th>credible99</th><th>credible95</th></tr><tr><th></th><th>String</th><th>Float64</th><th>Float64</th><th>Tuple…</th><th>Tuple…</th></tr></thead><tbody><p>7 rows × 6 columns (omitted printing of 1 columns)</p><tr><th>1</th><td>ϵ₁</td><td>0.000804488</td><td>1.40838e-7</td><td>(0.000131699, 0.0019919)</td><td>(0.000220164, 0.00166633)</td></tr><tr><th>2</th><td>κ₁</td><td>3.93305</td><td>2.92993</td><td>(1.05857, 6.95224)</td><td>(1.15176, 6.79946)</td></tr><tr><th>3</th><td>κ₂</td><td>4.17346</td><td>3.12885</td><td>(1.06592, 6.9752)</td><td>(1.22787, 6.90885)</td></tr><tr><th>4</th><td>κ₃</td><td>0.9891</td><td>0.350459</td><td>(0.0229848, 1.99359)</td><td>(0.0586367, 1.96378)</td></tr><tr><th>5</th><td>κ₄</td><td>0.963179</td><td>0.311274</td><td>(0.0172885, 1.97019)</td><td>(0.0780161, 1.92117)</td></tr><tr><th>6</th><td>Ωl₁</td><td>0.103978</td><td>5.59082e-5</td><td>(0.0861229, 0.122839)</td><td>(0.0896032, 0.11895)</td></tr><tr><th>7</th><td>Ωr₁</td><td>0.122385</td><td>7.00205e-5</td><td>(0.102961, 0.142458)</td><td>(0.10609, 0.140014)</td></tr></tbody></table>"
      ],
      "text/latex": [
       "\\begin{tabular}{r|cccccc}\n",
       "\t& parameter & mean & var & credible99 & credible95 & \\\\\n",
       "\t\\hline\n",
       "\t& String & Float64 & Float64 & Tuple… & Tuple… & \\\\\n",
       "\t\\hline\n",
       "\t1 & ϵ₁ & 0.000804488 & 1.40838e-7 & (0.000131699, 0.0019919) & (0.000220164, 0.00166633) & $\\dots$ \\\\\n",
       "\t2 & κ₁ & 3.93305 & 2.92993 & (1.05857, 6.95224) & (1.15176, 6.79946) & $\\dots$ \\\\\n",
       "\t3 & κ₂ & 4.17346 & 3.12885 & (1.06592, 6.9752) & (1.22787, 6.90885) & $\\dots$ \\\\\n",
       "\t4 & κ₃ & 0.9891 & 0.350459 & (0.0229848, 1.99359) & (0.0586367, 1.96378) & $\\dots$ \\\\\n",
       "\t5 & κ₄ & 0.963179 & 0.311274 & (0.0172885, 1.97019) & (0.0780161, 1.92117) & $\\dots$ \\\\\n",
       "\t6 & Ωl₁ & 0.103978 & 5.59082e-5 & (0.0861229, 0.122839) & (0.0896032, 0.11895) & $\\dots$ \\\\\n",
       "\t7 & Ωr₁ & 0.122385 & 7.00205e-5 & (0.102961, 0.142458) & (0.10609, 0.140014) & $\\dots$ \\\\\n",
       "\\end{tabular}\n"
      ],
      "text/plain": [
       "7×6 DataFrame. Omitted printing of 2 columns\n",
       "│ Row │ parameter │ mean        │ var        │ credible99               │\n",
       "│     │ \u001b[90mString\u001b[39m    │ \u001b[90mFloat64\u001b[39m     │ \u001b[90mFloat64\u001b[39m    │ \u001b[90mTuple{Float64,Float64}\u001b[39m   │\n",
       "├─────┼───────────┼─────────────┼────────────┼──────────────────────────┤\n",
       "│ 1   │ ϵ₁        │ 0.000804488 │ 1.40838e-7 │ (0.000131699, 0.0019919) │\n",
       "│ 2   │ κ₁        │ 3.93305     │ 2.92993    │ (1.05857, 6.95224)       │\n",
       "│ 3   │ κ₂        │ 4.17346     │ 3.12885    │ (1.06592, 6.9752)        │\n",
       "│ 4   │ κ₃        │ 0.9891      │ 0.350459   │ (0.0229848, 1.99359)     │\n",
       "│ 5   │ κ₄        │ 0.963179    │ 0.311274   │ (0.0172885, 1.97019)     │\n",
       "│ 6   │ Ωl₁       │ 0.103978    │ 5.59082e-5 │ (0.0861229, 0.122839)    │\n",
       "│ 7   │ Ωr₁       │ 0.122385    │ 7.00205e-5 │ (0.102961, 0.142458)     │"
      ]
     },
     "execution_count": 29,
     "metadata": {},
     "output_type": "execute_result"
    }
   ],
   "source": [
    "# Get a summary of TN-ILM parameters\n",
    "summary(mcmc, burnin=50000, thin=50)"
   ]
  }
 ],
 "metadata": {
  "@webio": {
   "lastCommId": null,
   "lastKernelId": null
  },
  "kernelspec": {
   "display_name": "Julia 1.4.1",
   "language": "julia",
   "name": "julia-1.4"
  },
  "language_info": {
   "file_extension": ".jl",
   "mimetype": "application/julia",
   "name": "julia",
   "version": "1.4.1"
  }
 },
 "nbformat": 4,
 "nbformat_minor": 4
}
