{
 "cells": [
  {
   "cell_type": "markdown",
   "metadata": {},
   "source": [
    "# Introduction to Pathogen.jl"
   ]
  },
  {
   "cell_type": "markdown",
   "metadata": {},
   "source": [
    "## Initialization"
   ]
  },
  {
   "cell_type": "markdown",
   "metadata": {},
   "source": [
    "We start by loading Pathogen.jl in julia"
   ]
  },
  {
   "cell_type": "code",
   "execution_count": 1,
   "metadata": {},
   "outputs": [],
   "source": [
    "using Pathogen"
   ]
  },
  {
   "cell_type": "markdown",
   "metadata": {},
   "source": [
    "Additionally we'll use: \n",
    "* DataFrames.jl for individual level information\n",
    "* Distributions.jl for random generation of individual level information\n",
    "* Plot.jl for visualization (using whichever visualization backend your prefer)"
   ]
  },
  {
   "cell_type": "code",
   "execution_count": 2,
   "metadata": {},
   "outputs": [],
   "source": [
    "using DataFrames, Distributions, Plots"
   ]
  },
  {
   "cell_type": "markdown",
   "metadata": {},
   "source": [
    "## Simulation\n",
    "We'll set the seed for random number generation such that our results here are reproducible:"
   ]
  },
  {
   "cell_type": "code",
   "execution_count": 3,
   "metadata": {},
   "outputs": [
    {
     "data": {
      "text/plain": [
       "MersenneTwister(UInt32[0x00001538], Base.dSFMT.DSFMT_state(Int32[-1744756614, 1072761743, -2028083806, 1073624598, -581637934, 1073626379, 327696063, 1073382742, 738168642, 1073600735  …  -595993142, 1072726157, 913087430, 1073114622, 2001550298, -624279679, 872770575, 1763491762, 382, 0]), [1.63776, 1.73172, 1.18556, 1.33645, 1.17948, 1.86669, 1.57172, 1.55745, 1.76821, 1.48793  …  1.77676, 1.55126, 1.97279, 1.27443, 1.27899, 1.7781, 1.52741, 1.91565, 1.47632, 1.36497], 382)"
      ]
     },
     "execution_count": 3,
     "metadata": {},
     "output_type": "execute_result"
    }
   ],
   "source": [
    "srand(5432)"
   ]
  },
  {
   "cell_type": "markdown",
   "metadata": {},
   "source": [
    "We'll define a population consisting of *n* individuals, uniformaly distributed over a 10x10 unit area. For our population we'll assume to have information on a single risk factor, which we'll distribute following a Gamma(1,1) distribution."
   ]
  },
  {
   "cell_type": "code",
   "execution_count": 4,
   "metadata": {},
   "outputs": [
    {
     "data": {
      "text/plain": [
       "250-element Array{Float64,1}:\n",
       " 0.316139 \n",
       " 1.58715  \n",
       " 2.01711  \n",
       " 0.769778 \n",
       " 4.86302  \n",
       " 0.513204 \n",
       " 2.00259  \n",
       " 1.28672  \n",
       " 0.617716 \n",
       " 1.06868  \n",
       " 1.11697  \n",
       " 4.37915  \n",
       " 1.79654  \n",
       " ⋮        \n",
       " 0.11919  \n",
       " 0.614955 \n",
       " 2.6781   \n",
       " 0.0718771\n",
       " 0.288097 \n",
       " 0.572776 \n",
       " 0.176569 \n",
       " 1.39745  \n",
       " 2.77806  \n",
       " 0.998993 \n",
       " 0.154508 \n",
       " 0.403527 "
      ]
     },
     "execution_count": 4,
     "metadata": {},
     "output_type": "execute_result"
    }
   ],
   "source": [
    "n = 250\n",
    "x_coordinates = rand(Uniform(0, 10), n)\n",
    "y_coordinates = rand(Uniform(0, 10), n)\n",
    "riskfactor1 = rand(Gamma(), n)"
   ]
  },
  {
   "cell_type": "markdown",
   "metadata": {},
   "source": [
    "With Pathogen.jl, `DataFrame`s are used for individual information. We'll organize location and risk factor information into one before proceeding with epidemic simulation. The row number in this dataframe is the individual's ID."
   ]
  },
  {
   "cell_type": "code",
   "execution_count": 5,
   "metadata": {},
   "outputs": [
    {
     "data": {
      "text/html": [
       "<table class=\"data-frame\"><thead><tr><th></th><th>x</th><th>y</th><th>riskfactor1</th></tr></thead><tbody><tr><th>1</th><td>0.457796</td><td>7.70517</td><td>0.316139</td></tr><tr><th>2</th><td>1.58149</td><td>1.31192</td><td>1.58715</td></tr><tr><th>3</th><td>2.77421</td><td>9.65545</td><td>2.01711</td></tr><tr><th>4</th><td>2.8265</td><td>6.48518</td><td>0.769778</td></tr><tr><th>5</th><td>9.30925</td><td>7.64767</td><td>4.86302</td></tr><tr><th>6</th><td>0.745385</td><td>1.31865</td><td>0.513204</td></tr><tr><th>7</th><td>5.51862</td><td>3.38113</td><td>2.00259</td></tr><tr><th>8</th><td>6.65555</td><td>8.77079</td><td>1.28672</td></tr><tr><th>9</th><td>3.8933</td><td>8.53216</td><td>0.617716</td></tr><tr><th>10</th><td>4.97396</td><td>5.80774</td><td>1.06868</td></tr><tr><th>11</th><td>7.92295</td><td>6.99372</td><td>1.11697</td></tr><tr><th>12</th><td>1.15704</td><td>9.62129</td><td>4.37915</td></tr><tr><th>13</th><td>4.62409</td><td>9.7039</td><td>1.79654</td></tr><tr><th>14</th><td>6.04457</td><td>1.05998</td><td>1.37716</td></tr><tr><th>15</th><td>3.47661</td><td>0.210772</td><td>3.46564</td></tr><tr><th>16</th><td>0.510731</td><td>9.55875</td><td>1.09926</td></tr><tr><th>17</th><td>2.76739</td><td>8.41171</td><td>1.25921</td></tr><tr><th>18</th><td>0.245348</td><td>6.49595</td><td>0.807774</td></tr><tr><th>19</th><td>1.77793</td><td>4.30735</td><td>2.28733</td></tr><tr><th>20</th><td>7.92286</td><td>4.29639</td><td>0.168772</td></tr><tr><th>21</th><td>2.619</td><td>9.57772</td><td>0.986405</td></tr><tr><th>22</th><td>2.90728</td><td>5.84836</td><td>1.68435</td></tr><tr><th>23</th><td>9.34873</td><td>4.64129</td><td>1.16885</td></tr><tr><th>24</th><td>8.96076</td><td>3.42708</td><td>3.18388</td></tr><tr><th>25</th><td>8.03622</td><td>4.37278</td><td>3.07247</td></tr><tr><th>26</th><td>3.0715</td><td>3.40105</td><td>0.743411</td></tr><tr><th>27</th><td>0.445839</td><td>1.48907</td><td>1.20293</td></tr><tr><th>28</th><td>3.46895</td><td>9.2543</td><td>0.694186</td></tr><tr><th>29</th><td>7.99173</td><td>8.83951</td><td>1.03059</td></tr><tr><th>30</th><td>1.53526</td><td>1.03447</td><td>1.96821</td></tr><tr><th>&vellip;</th><td>&vellip;</td><td>&vellip;</td><td>&vellip;</td></tr></tbody></table>"
      ],
      "text/plain": [
       "250×3 DataFrames.DataFrame\n",
       "│ Row │ x        │ y       │ riskfactor1 │\n",
       "├─────┼──────────┼─────────┼─────────────┤\n",
       "│ 1   │ 0.457796 │ 7.70517 │ 0.316139    │\n",
       "│ 2   │ 1.58149  │ 1.31192 │ 1.58715     │\n",
       "│ 3   │ 2.77421  │ 9.65545 │ 2.01711     │\n",
       "│ 4   │ 2.8265   │ 6.48518 │ 0.769778    │\n",
       "│ 5   │ 9.30925  │ 7.64767 │ 4.86302     │\n",
       "│ 6   │ 0.745385 │ 1.31865 │ 0.513204    │\n",
       "│ 7   │ 5.51862  │ 3.38113 │ 2.00259     │\n",
       "│ 8   │ 6.65555  │ 8.77079 │ 1.28672     │\n",
       "│ 9   │ 3.8933   │ 8.53216 │ 0.617716    │\n",
       "│ 10  │ 4.97396  │ 5.80774 │ 1.06868     │\n",
       "│ 11  │ 7.92295  │ 6.99372 │ 1.11697     │\n",
       "⋮\n",
       "│ 239 │ 6.71937  │ 0.71781 │ 0.11919     │\n",
       "│ 240 │ 3.31195  │ 5.00324 │ 0.614955    │\n",
       "│ 241 │ 6.47489  │ 1.21015 │ 2.6781      │\n",
       "│ 242 │ 8.64379  │ 8.45115 │ 0.0718771   │\n",
       "│ 243 │ 2.46181  │ 3.86811 │ 0.288097    │\n",
       "│ 244 │ 6.96766  │ 7.58439 │ 0.572776    │\n",
       "│ 245 │ 2.28163  │ 5.83381 │ 0.176569    │\n",
       "│ 246 │ 5.87731  │ 2.68674 │ 1.39745     │\n",
       "│ 247 │ 6.07869  │ 3.83427 │ 2.77806     │\n",
       "│ 248 │ 8.40249  │ 4.65883 │ 0.998993    │\n",
       "│ 249 │ 1.05411  │ 3.75054 │ 0.154508    │\n",
       "│ 250 │ 0.577812 │ 9.31955 │ 0.403527    │"
      ]
     },
     "execution_count": 5,
     "metadata": {},
     "output_type": "execute_result"
    }
   ],
   "source": [
    "pop = DataFrame(x = x_coordinates,\n",
    "                y = y_coordinates,\n",
    "                riskfactor1 = riskfactor1)"
   ]
  },
  {
   "cell_type": "markdown",
   "metadata": {},
   "source": [
    "Pathogen.jl supports SEIR, SEI, SIR, and SI individual level models. Within each of those model types, the user has full control over the functions describing individual specific transition rates between disease states (*i.e.* form of, and relevant risk factors to, susceptibility, infectivity, transmissability, latency, removal, and sparks functions when applicable). For ease of use, some common forms of these functions are provided in `examples/risk_functions.jl` which can either be loaded and used directly, or serve as examples to help the user construct their own. For this example we will use some of these functions directly in an SEIR individual level model. "
   ]
  },
  {
   "cell_type": "code",
   "execution_count": 6,
   "metadata": {},
   "outputs": [
    {
     "data": {
      "text/plain": [
       "Pathogen.SEIR model risk functions"
      ]
     },
     "execution_count": 6,
     "metadata": {},
     "output_type": "execute_result"
    }
   ],
   "source": [
    "include(Pkg.dir(\"Pathogen\")*\"/examples/risk_functions.jl\")\n",
    "\n",
    "rf = RiskFunctions{SEIR}(_constant, # sparks function\n",
    "                         _coefficient, # susceptibility function\n",
    "                         _powerlaw, # transmissability function\n",
    "                         _one, # infectivity function\n",
    "                         _constant, # latency function\n",
    "                         _constant) # removal function"
   ]
  },
  {
   "cell_type": "markdown",
   "metadata": {},
   "source": [
    "Each of these functions is parameterized by a `Vector{Float64}`..."
   ]
  },
  {
   "cell_type": "code",
   "execution_count": 7,
   "metadata": {},
   "outputs": [
    {
     "data": {
      "text/plain": [
       "Pathogen.SEIR model risk function parameters"
      ]
     },
     "execution_count": 7,
     "metadata": {},
     "output_type": "execute_result"
    }
   ],
   "source": [
    "rparams = RiskParameters{SEIR}([0.001], # sparks function parameter(s)\n",
    "                               [1.0], # susceptibility function parameter(s)\n",
    "                               [1.0, 6.0], # transmissibility function parameter(s)\n",
    "                               Float64[], # infectivity function parameter(s)\n",
    "                               [0.1], # latency function parameter(s)\n",
    "                               [0.05]) # removal function parameter(s)"
   ]
  },
  {
   "cell_type": "markdown",
   "metadata": {},
   "source": [
    "We initialize an Epidemic `Simulation` object by supplying the population `DataFrame` with our individual level model risk functions and their associated parametrizations."
   ]
  },
  {
   "cell_type": "code",
   "execution_count": 8,
   "metadata": {},
   "outputs": [
    {
     "data": {
      "text/plain": [
       "Pathogen.Simulation{Pathogen.SEIR}(0.0, 0, 250×3 DataFrames.DataFrame\n",
       "│ Row │ x        │ y       │ riskfactor1 │\n",
       "├─────┼──────────┼─────────┼─────────────┤\n",
       "│ 1   │ 0.457796 │ 7.70517 │ 0.316139    │\n",
       "│ 2   │ 1.58149  │ 1.31192 │ 1.58715     │\n",
       "│ 3   │ 2.77421  │ 9.65545 │ 2.01711     │\n",
       "│ 4   │ 2.8265   │ 6.48518 │ 0.769778    │\n",
       "│ 5   │ 9.30925  │ 7.64767 │ 4.86302     │\n",
       "│ 6   │ 0.745385 │ 1.31865 │ 0.513204    │\n",
       "│ 7   │ 5.51862  │ 3.38113 │ 2.00259     │\n",
       "│ 8   │ 6.65555  │ 8.77079 │ 1.28672     │\n",
       "│ 9   │ 3.8933   │ 8.53216 │ 0.617716    │\n",
       "│ 10  │ 4.97396  │ 5.80774 │ 1.06868     │\n",
       "│ 11  │ 7.92295  │ 6.99372 │ 1.11697     │\n",
       "⋮\n",
       "│ 239 │ 6.71937  │ 0.71781 │ 0.11919     │\n",
       "│ 240 │ 3.31195  │ 5.00324 │ 0.614955    │\n",
       "│ 241 │ 6.47489  │ 1.21015 │ 2.6781      │\n",
       "│ 242 │ 8.64379  │ 8.45115 │ 0.0718771   │\n",
       "│ 243 │ 2.46181  │ 3.86811 │ 0.288097    │\n",
       "│ 244 │ 6.96766  │ 7.58439 │ 0.572776    │\n",
       "│ 245 │ 2.28163  │ 5.83381 │ 0.176569    │\n",
       "│ 246 │ 5.87731  │ 2.68674 │ 1.39745     │\n",
       "│ 247 │ 6.07869  │ 3.83427 │ 2.77806     │\n",
       "│ 248 │ 8.40249  │ 4.65883 │ 0.998993    │\n",
       "│ 249 │ 1.05411  │ 3.75054 │ 0.154508    │\n",
       "│ 250 │ 0.577812 │ 9.31955 │ 0.403527    │, Pathogen.SEIR model risk functions, Pathogen.SEIR model risk function parameters, Pathogen.DiseaseState[S, S, S, S, S, S, S, S, S, S  …  S, S, S, S, S, S, S, S, S, S], Pathogen.TransmissionRates([0.001, 0.001, 0.001, 0.001, 0.001, 0.001, 0.001, 0.001, 0.001, 0.001  …  0.001, 0.001, 0.001, 0.001, 0.001, 0.001, 0.001, 0.001, 0.001, 0.001], [0.0 0.0 … 0.0 0.0; 0.0 0.0 … 0.0 0.0; … ; 0.0 0.0 … 0.0 0.0; 0.0 0.0 … 0.0 0.0]), Pathogen.EventRates{Pathogen.SEIR}([0.001, 0.001, 0.001, 0.001, 0.001, 0.001, 0.001, 0.001, 0.001, 0.001  …  0.001, 0.001, 0.001, 0.001, 0.001, 0.001, 0.001, 0.001, 0.001, 0.001], [0.0, 0.0, 0.0, 0.0, 0.0, 0.0, 0.0, 0.0, 0.0, 0.0  …  0.0, 0.0, 0.0, 0.0, 0.0, 0.0, 0.0, 0.0, 0.0, 0.0], [0.0, 0.0, 0.0, 0.0, 0.0, 0.0, 0.0, 0.0, 0.0, 0.0  …  0.0, 0.0, 0.0, 0.0, 0.0, 0.0, 0.0, 0.0, 0.0, 0.0], 250), Pathogen.SEIR model event times (n=250), Transmission network with 0 external, and 0 internal transmission(s))"
      ]
     },
     "execution_count": 8,
     "metadata": {},
     "output_type": "execute_result"
    }
   ],
   "source": [
    "sim = Simulation(pop, rf, rparams)"
   ]
  },
  {
   "cell_type": "markdown",
   "metadata": {},
   "source": [
    "This simulation can now be ran until either a specified stop condition is met (computation time, simulation time, or a maximum number of iterations), or until there are no further possible events."
   ]
  },
  {
   "cell_type": "code",
   "execution_count": 9,
   "metadata": {},
   "outputs": [
    {
     "name": "stdout",
     "output_type": "stream",
     "text": [
      "Simulating until: \n",
      "* a simulation time maximum of 100.0,\n",
      "* an iteration maximum of 1000, or,\n",
      "* a processing time maximum of Inf seconds.\n",
      "\n",
      "Simulation stopped: simulation time maximum reached\n"
     ]
    },
    {
     "data": {
      "text/plain": [
       "Pathogen.Simulation{Pathogen.SEIR}(100.62263966976397, 741, 250×3 DataFrames.DataFrame\n",
       "│ Row │ x        │ y       │ riskfactor1 │\n",
       "├─────┼──────────┼─────────┼─────────────┤\n",
       "│ 1   │ 0.457796 │ 7.70517 │ 0.316139    │\n",
       "│ 2   │ 1.58149  │ 1.31192 │ 1.58715     │\n",
       "│ 3   │ 2.77421  │ 9.65545 │ 2.01711     │\n",
       "│ 4   │ 2.8265   │ 6.48518 │ 0.769778    │\n",
       "│ 5   │ 9.30925  │ 7.64767 │ 4.86302     │\n",
       "│ 6   │ 0.745385 │ 1.31865 │ 0.513204    │\n",
       "│ 7   │ 5.51862  │ 3.38113 │ 2.00259     │\n",
       "│ 8   │ 6.65555  │ 8.77079 │ 1.28672     │\n",
       "│ 9   │ 3.8933   │ 8.53216 │ 0.617716    │\n",
       "│ 10  │ 4.97396  │ 5.80774 │ 1.06868     │\n",
       "│ 11  │ 7.92295  │ 6.99372 │ 1.11697     │\n",
       "⋮\n",
       "│ 239 │ 6.71937  │ 0.71781 │ 0.11919     │\n",
       "│ 240 │ 3.31195  │ 5.00324 │ 0.614955    │\n",
       "│ 241 │ 6.47489  │ 1.21015 │ 2.6781      │\n",
       "│ 242 │ 8.64379  │ 8.45115 │ 0.0718771   │\n",
       "│ 243 │ 2.46181  │ 3.86811 │ 0.288097    │\n",
       "│ 244 │ 6.96766  │ 7.58439 │ 0.572776    │\n",
       "│ 245 │ 2.28163  │ 5.83381 │ 0.176569    │\n",
       "│ 246 │ 5.87731  │ 2.68674 │ 1.39745     │\n",
       "│ 247 │ 6.07869  │ 3.83427 │ 2.77806     │\n",
       "│ 248 │ 8.40249  │ 4.65883 │ 0.998993    │\n",
       "│ 249 │ 1.05411  │ 3.75054 │ 0.154508    │\n",
       "│ 250 │ 0.577812 │ 9.31955 │ 0.403527    │, Pathogen.SEIR model risk functions, Pathogen.SEIR model risk function parameters, Pathogen.DiseaseState[R, R, R, R, R, R, R, R, R, I  …  R, R, R, R, R, R, R, R, R, R], Pathogen.TransmissionRates([0.0, 0.0, 0.0, 0.0, 0.0, 0.0, 0.0, 0.0, 0.0, 0.0  …  0.0, 0.0, 0.0, 0.0, 0.0, 0.0, 0.0, 0.0, 0.0, 0.0], [0.0 0.0 … 0.0 0.0; 0.0 0.0 … 0.0 0.0; … ; 0.0 0.0 … 0.0 0.0; 0.0 0.0 … 0.0 0.0]), Pathogen.EventRates{Pathogen.SEIR}([0.0, 0.0, 0.0, 0.0, 0.0, 0.0, 0.0, 0.0, 0.0, 0.0  …  0.0, 0.0, 0.0, 0.0, 0.0, 0.0, 0.0, 0.0, 0.0, 0.0], [0.0, 0.0, 0.0, 0.0, 0.0, 0.0, 0.0, 0.0, 0.0, 0.0  …  0.0, 0.0, 0.0, 0.0, 0.0, 0.0, 0.0, 0.0, 0.0, 0.0], [0.0, 0.0, 0.0, 0.0, 0.0, 0.0, 0.0, 0.0, 0.0, 0.05  …  0.0, 0.0, 0.0, 0.0, 0.0, 0.0, 0.0, 0.0, 0.0, 0.0], 250), Pathogen.SEIR model event times (n=250), Transmission network with 2 external, and 248 internal transmission(s))"
      ]
     },
     "execution_count": 9,
     "metadata": {},
     "output_type": "execute_result"
    }
   ],
   "source": [
    "simulate!(sim, tmax=100.0)"
   ]
  },
  {
   "cell_type": "markdown",
   "metadata": {},
   "source": [
    "### Visualization\n",
    "Using our preferred plotting backend we can produce several informative plots for a simulated epidemic..."
   ]
  },
  {
   "cell_type": "code",
   "execution_count": 10,
   "metadata": {},
   "outputs": [
    {
     "data": {
      "text/plain": [
       "Plots.GRBackend()"
      ]
     },
     "execution_count": 10,
     "metadata": {},
     "output_type": "execute_result"
    }
   ],
   "source": [
    "gr()"
   ]
  },
  {
   "cell_type": "markdown",
   "metadata": {},
   "source": [
    "a `plot()` method is provided for `Events` objects - such as those generated within a simulation. This will create an epidemic plot."
   ]
  },
  {
   "cell_type": "code",
   "execution_count": 11,
   "metadata": {},
   "outputs": [
    {
     "data": {
      "image/svg+xml": [
       "<?xml version=\"1.0\" encoding=\"utf-8\"?>\n",
       "<svg xmlns=\"http://www.w3.org/2000/svg\" xmlns:xlink=\"http://www.w3.org/1999/xlink\" width=\"600\" height=\"400\" viewBox=\"0 0 600 400\">\n",
       "<defs>\n",
       "  <clipPath id=\"clip2100\">\n",
       "    <rect x=\"0\" y=\"0\" width=\"600\" height=\"400\"/>\n",
       "  </clipPath>\n",
       "</defs>\n",
       "<polygon clip-path=\"url(#clip2100)\" points=\"\n",
       "0,400 600,400 600,0 0,0 \n",
       "  \" fill=\"#ffffff\" fill-opacity=\"1\"/>\n",
       "<defs>\n",
       "  <clipPath id=\"clip2101\">\n",
       "    <rect x=\"120\" y=\"0\" width=\"421\" height=\"400\"/>\n",
       "  </clipPath>\n",
       "</defs>\n",
       "<polygon clip-path=\"url(#clip2100)\" points=\"\n",
       "59.4418,360.121 580.315,360.121 580.315,11.811 59.4418,11.811 \n",
       "  \" fill=\"#ffffff\" fill-opacity=\"1\"/>\n",
       "<defs>\n",
       "  <clipPath id=\"clip2102\">\n",
       "    <rect x=\"59\" y=\"11\" width=\"522\" height=\"349\"/>\n",
       "  </clipPath>\n",
       "</defs>\n",
       "<polyline clip-path=\"url(#clip2102)\" style=\"stroke:#000000; stroke-width:0.5; stroke-opacity:0.1; fill:none\" points=\"\n",
       "  111.967,360.121 111.967,11.811 \n",
       "  \"/>\n",
       "<polyline clip-path=\"url(#clip2102)\" style=\"stroke:#000000; stroke-width:0.5; stroke-opacity:0.1; fill:none\" points=\"\n",
       "  226.726,360.121 226.726,11.811 \n",
       "  \"/>\n",
       "<polyline clip-path=\"url(#clip2102)\" style=\"stroke:#000000; stroke-width:0.5; stroke-opacity:0.1; fill:none\" points=\"\n",
       "  341.485,360.121 341.485,11.811 \n",
       "  \"/>\n",
       "<polyline clip-path=\"url(#clip2102)\" style=\"stroke:#000000; stroke-width:0.5; stroke-opacity:0.1; fill:none\" points=\"\n",
       "  456.245,360.121 456.245,11.811 \n",
       "  \"/>\n",
       "<polyline clip-path=\"url(#clip2102)\" style=\"stroke:#000000; stroke-width:0.5; stroke-opacity:0.1; fill:none\" points=\"\n",
       "  571.004,360.121 571.004,11.811 \n",
       "  \"/>\n",
       "<polyline clip-path=\"url(#clip2102)\" style=\"stroke:#000000; stroke-width:0.5; stroke-opacity:0.1; fill:none\" points=\"\n",
       "  59.4418,350.263 580.315,350.263 \n",
       "  \"/>\n",
       "<polyline clip-path=\"url(#clip2102)\" style=\"stroke:#000000; stroke-width:0.5; stroke-opacity:0.1; fill:none\" points=\"\n",
       "  59.4418,284.28 580.315,284.28 \n",
       "  \"/>\n",
       "<polyline clip-path=\"url(#clip2102)\" style=\"stroke:#000000; stroke-width:0.5; stroke-opacity:0.1; fill:none\" points=\"\n",
       "  59.4418,218.297 580.315,218.297 \n",
       "  \"/>\n",
       "<polyline clip-path=\"url(#clip2102)\" style=\"stroke:#000000; stroke-width:0.5; stroke-opacity:0.1; fill:none\" points=\"\n",
       "  59.4418,152.315 580.315,152.315 \n",
       "  \"/>\n",
       "<polyline clip-path=\"url(#clip2102)\" style=\"stroke:#000000; stroke-width:0.5; stroke-opacity:0.1; fill:none\" points=\"\n",
       "  59.4418,86.3319 580.315,86.3319 \n",
       "  \"/>\n",
       "<polyline clip-path=\"url(#clip2102)\" style=\"stroke:#000000; stroke-width:0.5; stroke-opacity:0.1; fill:none\" points=\"\n",
       "  59.4418,20.3492 580.315,20.3492 \n",
       "  \"/>\n",
       "<polyline clip-path=\"url(#clip2100)\" style=\"stroke:#000000; stroke-width:1; stroke-opacity:1; fill:none\" points=\"\n",
       "  59.4418,360.121 580.315,360.121 \n",
       "  \"/>\n",
       "<polyline clip-path=\"url(#clip2100)\" style=\"stroke:#000000; stroke-width:1; stroke-opacity:1; fill:none\" points=\"\n",
       "  59.4418,360.121 59.4418,11.811 \n",
       "  \"/>\n",
       "<polyline clip-path=\"url(#clip2100)\" style=\"stroke:#000000; stroke-width:1; stroke-opacity:1; fill:none\" points=\"\n",
       "  111.967,360.121 111.967,354.896 \n",
       "  \"/>\n",
       "<polyline clip-path=\"url(#clip2100)\" style=\"stroke:#000000; stroke-width:1; stroke-opacity:1; fill:none\" points=\"\n",
       "  226.726,360.121 226.726,354.896 \n",
       "  \"/>\n",
       "<polyline clip-path=\"url(#clip2100)\" style=\"stroke:#000000; stroke-width:1; stroke-opacity:1; fill:none\" points=\"\n",
       "  341.485,360.121 341.485,354.896 \n",
       "  \"/>\n",
       "<polyline clip-path=\"url(#clip2100)\" style=\"stroke:#000000; stroke-width:1; stroke-opacity:1; fill:none\" points=\"\n",
       "  456.245,360.121 456.245,354.896 \n",
       "  \"/>\n",
       "<polyline clip-path=\"url(#clip2100)\" style=\"stroke:#000000; stroke-width:1; stroke-opacity:1; fill:none\" points=\"\n",
       "  571.004,360.121 571.004,354.896 \n",
       "  \"/>\n",
       "<polyline clip-path=\"url(#clip2100)\" style=\"stroke:#000000; stroke-width:1; stroke-opacity:1; fill:none\" points=\"\n",
       "  59.4418,350.263 67.2549,350.263 \n",
       "  \"/>\n",
       "<polyline clip-path=\"url(#clip2100)\" style=\"stroke:#000000; stroke-width:1; stroke-opacity:1; fill:none\" points=\"\n",
       "  59.4418,284.28 67.2549,284.28 \n",
       "  \"/>\n",
       "<polyline clip-path=\"url(#clip2100)\" style=\"stroke:#000000; stroke-width:1; stroke-opacity:1; fill:none\" points=\"\n",
       "  59.4418,218.297 67.2549,218.297 \n",
       "  \"/>\n",
       "<polyline clip-path=\"url(#clip2100)\" style=\"stroke:#000000; stroke-width:1; stroke-opacity:1; fill:none\" points=\"\n",
       "  59.4418,152.315 67.2549,152.315 \n",
       "  \"/>\n",
       "<polyline clip-path=\"url(#clip2100)\" style=\"stroke:#000000; stroke-width:1; stroke-opacity:1; fill:none\" points=\"\n",
       "  59.4418,86.3319 67.2549,86.3319 \n",
       "  \"/>\n",
       "<polyline clip-path=\"url(#clip2100)\" style=\"stroke:#000000; stroke-width:1; stroke-opacity:1; fill:none\" points=\"\n",
       "  59.4418,20.3492 67.2549,20.3492 \n",
       "  \"/>\n",
       "<g clip-path=\"url(#clip2100)\">\n",
       "<text style=\"fill:#000000; fill-opacity:1; font-family:Arial,Helvetica Neue,Helvetica,sans-serif; font-size:12; text-anchor:middle;\" transform=\"rotate(0, 111.967, 373.921)\" x=\"111.967\" y=\"373.921\">20</text>\n",
       "</g>\n",
       "<g clip-path=\"url(#clip2100)\">\n",
       "<text style=\"fill:#000000; fill-opacity:1; font-family:Arial,Helvetica Neue,Helvetica,sans-serif; font-size:12; text-anchor:middle;\" transform=\"rotate(0, 226.726, 373.921)\" x=\"226.726\" y=\"373.921\">40</text>\n",
       "</g>\n",
       "<g clip-path=\"url(#clip2100)\">\n",
       "<text style=\"fill:#000000; fill-opacity:1; font-family:Arial,Helvetica Neue,Helvetica,sans-serif; font-size:12; text-anchor:middle;\" transform=\"rotate(0, 341.485, 373.921)\" x=\"341.485\" y=\"373.921\">60</text>\n",
       "</g>\n",
       "<g clip-path=\"url(#clip2100)\">\n",
       "<text style=\"fill:#000000; fill-opacity:1; font-family:Arial,Helvetica Neue,Helvetica,sans-serif; font-size:12; text-anchor:middle;\" transform=\"rotate(0, 456.245, 373.921)\" x=\"456.245\" y=\"373.921\">80</text>\n",
       "</g>\n",
       "<g clip-path=\"url(#clip2100)\">\n",
       "<text style=\"fill:#000000; fill-opacity:1; font-family:Arial,Helvetica Neue,Helvetica,sans-serif; font-size:12; text-anchor:middle;\" transform=\"rotate(0, 571.004, 373.921)\" x=\"571.004\" y=\"373.921\">100</text>\n",
       "</g>\n",
       "<g clip-path=\"url(#clip2100)\">\n",
       "<text style=\"fill:#000000; fill-opacity:1; font-family:Arial,Helvetica Neue,Helvetica,sans-serif; font-size:12; text-anchor:end;\" transform=\"rotate(0, 53.4418, 354.763)\" x=\"53.4418\" y=\"354.763\">0</text>\n",
       "</g>\n",
       "<g clip-path=\"url(#clip2100)\">\n",
       "<text style=\"fill:#000000; fill-opacity:1; font-family:Arial,Helvetica Neue,Helvetica,sans-serif; font-size:12; text-anchor:end;\" transform=\"rotate(0, 53.4418, 288.78)\" x=\"53.4418\" y=\"288.78\">50</text>\n",
       "</g>\n",
       "<g clip-path=\"url(#clip2100)\">\n",
       "<text style=\"fill:#000000; fill-opacity:1; font-family:Arial,Helvetica Neue,Helvetica,sans-serif; font-size:12; text-anchor:end;\" transform=\"rotate(0, 53.4418, 222.797)\" x=\"53.4418\" y=\"222.797\">100</text>\n",
       "</g>\n",
       "<g clip-path=\"url(#clip2100)\">\n",
       "<text style=\"fill:#000000; fill-opacity:1; font-family:Arial,Helvetica Neue,Helvetica,sans-serif; font-size:12; text-anchor:end;\" transform=\"rotate(0, 53.4418, 156.815)\" x=\"53.4418\" y=\"156.815\">150</text>\n",
       "</g>\n",
       "<g clip-path=\"url(#clip2100)\">\n",
       "<text style=\"fill:#000000; fill-opacity:1; font-family:Arial,Helvetica Neue,Helvetica,sans-serif; font-size:12; text-anchor:end;\" transform=\"rotate(0, 53.4418, 90.8319)\" x=\"53.4418\" y=\"90.8319\">200</text>\n",
       "</g>\n",
       "<g clip-path=\"url(#clip2100)\">\n",
       "<text style=\"fill:#000000; fill-opacity:1; font-family:Arial,Helvetica Neue,Helvetica,sans-serif; font-size:12; text-anchor:end;\" transform=\"rotate(0, 53.4418, 24.8492)\" x=\"53.4418\" y=\"24.8492\">250</text>\n",
       "</g>\n",
       "<g clip-path=\"url(#clip2100)\">\n",
       "<text style=\"fill:#000000; fill-opacity:1; font-family:Arial,Helvetica Neue,Helvetica,sans-serif; font-size:16; text-anchor:middle;\" transform=\"rotate(0, 319.878, 397.6)\" x=\"319.878\" y=\"397.6\">Time</text>\n",
       "</g>\n",
       "<g clip-path=\"url(#clip2100)\">\n",
       "<text style=\"fill:#000000; fill-opacity:1; font-family:Arial,Helvetica Neue,Helvetica,sans-serif; font-size:16; text-anchor:middle;\" transform=\"rotate(-90, 14.4, 185.966)\" x=\"14.4\" y=\"185.966\">N</text>\n",
       "</g>\n",
       "<polyline clip-path=\"url(#clip2102)\" style=\"stroke:#800080; stroke-width:1; stroke-opacity:1; fill:none\" points=\"\n",
       "  65.1798,21.6688 65.8644,21.6688 65.8644,22.9885 65.9781,22.9885 65.9781,24.3082 66.201,24.3082 66.201,25.6278 66.8738,25.6278 66.8738,26.9475 66.8814,26.9475 \n",
       "  66.8814,28.2671 66.9421,28.2671 66.9421,29.5868 67.0538,29.5868 67.0538,30.9064 67.8513,30.9064 67.8513,32.2261 67.9923,32.2261 67.9923,33.5457 68.199,33.5457 \n",
       "  68.199,34.8654 68.2898,34.8654 68.2898,36.185 68.5947,36.185 68.5947,37.5047 69.5887,37.5047 69.5887,38.8244 70.9172,38.8244 70.9172,40.144 71.9994,40.144 \n",
       "  71.9994,41.4637 73.4996,41.4637 73.4996,42.7833 73.6508,42.7833 73.6508,44.103 74.1228,44.103 74.1228,45.4226 76.2486,45.4226 76.2486,46.7423 78.4274,46.7423 \n",
       "  78.4274,48.0619 78.4778,48.0619 78.4778,49.3816 78.582,49.3816 78.582,50.7012 79.1203,50.7012 79.1203,52.0209 79.6199,52.0209 79.6199,53.3406 79.7011,53.3406 \n",
       "  79.7011,54.6602 80.0194,54.6602 80.0194,55.9799 81.248,55.9799 81.248,57.2995 81.2483,57.2995 81.2483,58.6192 81.2491,58.6192 81.2491,59.9388 81.2497,59.9388 \n",
       "  81.2497,61.2585 81.2526,61.2585 81.2526,62.5781 81.2529,62.5781 81.2529,63.8978 81.2587,63.8978 81.2587,65.2174 81.2589,65.2174 81.2589,66.5371 81.2597,66.5371 \n",
       "  81.2597,67.8568 81.2642,67.8568 81.2642,69.1764 81.2726,69.1764 81.2726,70.4961 81.2743,70.4961 81.2743,71.8157 81.2751,71.8157 81.2751,73.1354 81.2751,73.1354 \n",
       "  81.2751,74.455 81.2756,74.455 81.2756,75.7747 81.2993,75.7747 81.2993,77.0943 81.3544,77.0943 81.3544,78.414 81.3589,78.414 81.3589,79.7336 81.3772,79.7336 \n",
       "  81.3772,81.0533 81.3838,81.0533 81.3838,82.373 81.4137,82.373 81.4137,83.6926 81.4224,83.6926 81.4224,85.0123 81.4934,85.0123 81.4934,86.3319 81.5338,86.3319 \n",
       "  81.5338,87.6516 81.8544,87.6516 81.8544,88.9712 81.918,88.9712 81.918,90.2909 81.925,90.2909 81.925,91.6105 82.2221,91.6105 82.2221,92.9302 82.2449,92.9302 \n",
       "  82.2449,94.2498 82.3257,94.2498 82.3257,95.5695 82.3484,95.5695 82.3484,96.8892 82.4571,96.8892 82.4571,98.2088 82.7115,98.2088 82.7115,99.5285 82.7254,99.5285 \n",
       "  82.7254,100.848 83.2696,100.848 83.2696,102.168 85.7118,102.168 85.7118,103.487 86.208,103.487 86.208,104.807 86.3856,104.807 86.3856,106.127 87.841,106.127 \n",
       "  87.841,107.446 87.8867,107.446 87.8867,108.766 87.9027,108.766 87.9027,110.086 88.5181,110.086 88.5181,111.405 88.9259,111.405 88.9259,112.725 89.0524,112.725 \n",
       "  89.0524,114.045 89.121,114.045 89.121,115.364 91.0588,115.364 91.0588,116.684 92.5606,116.684 92.5606,118.004 92.8727,118.004 92.8727,119.323 93.208,119.323 \n",
       "  93.208,120.643 93.3204,120.643 93.3204,121.963 93.9803,121.963 93.9803,123.282 94.0997,123.282 94.0997,124.602 94.7299,124.602 94.7299,125.922 94.7338,125.922 \n",
       "  94.7338,127.241 95.9318,127.241 95.9318,128.561 96.4601,128.561 96.4601,129.881 96.5659,129.881 96.5659,131.2 96.5912,131.2 96.5912,132.52 96.6255,132.52 \n",
       "  96.6255,133.839 97.7763,133.839 97.7763,135.159 97.9421,135.159 97.9421,136.479 97.9443,136.479 97.9443,137.798 98.0548,137.798 98.0548,139.118 98.2461,139.118 \n",
       "  98.2461,140.438 98.61,140.438 98.61,141.757 100.035,141.757 100.035,143.077 100.599,143.077 100.599,144.397 101.312,144.397 101.312,145.716 101.446,145.716 \n",
       "  101.446,147.036 102.721,147.036 102.721,148.356 103.433,148.356 103.433,149.675 103.72,149.675 103.72,150.995 105.15,150.995 105.15,152.315 106.59,152.315 \n",
       "  106.59,153.634 106.85,153.634 106.85,154.954 107.37,154.954 107.37,156.274 107.37,156.274 107.37,157.593 107.37,157.593 107.37,158.913 107.37,158.913 \n",
       "  107.37,160.233 107.37,160.233 107.37,161.552 107.37,161.552 107.37,162.872 107.37,162.872 107.37,164.192 107.37,164.192 107.37,165.511 107.371,165.511 \n",
       "  107.371,166.831 107.373,166.831 107.373,168.151 107.378,168.151 107.378,169.47 107.38,169.47 107.38,170.79 107.382,170.79 107.382,172.109 107.385,172.109 \n",
       "  107.385,173.429 107.385,173.429 107.385,174.749 107.386,174.749 107.386,176.068 107.387,176.068 107.387,177.388 107.388,177.388 107.388,178.708 107.397,178.708 \n",
       "  107.397,180.027 107.4,180.027 107.4,181.347 107.405,181.347 107.405,182.667 107.406,182.667 107.406,183.986 107.409,183.986 107.409,185.306 107.409,185.306 \n",
       "  107.409,186.626 107.428,186.626 107.428,187.945 107.428,187.945 107.428,189.265 107.447,189.265 107.447,190.585 107.483,190.585 107.483,191.904 107.525,191.904 \n",
       "  107.525,193.224 107.528,193.224 107.528,194.544 107.538,194.544 107.538,195.863 107.541,195.863 107.541,197.183 107.543,197.183 107.543,198.503 107.595,198.503 \n",
       "  107.595,199.822 107.647,199.822 107.647,201.142 107.678,201.142 107.678,202.462 107.701,202.462 107.701,203.781 107.705,203.781 107.705,205.101 107.724,205.101 \n",
       "  107.724,206.42 107.734,206.42 107.734,207.74 107.739,207.74 107.739,209.06 107.745,209.06 107.745,210.379 107.747,210.379 107.747,211.699 107.887,211.699 \n",
       "  107.887,213.019 107.981,213.019 107.981,214.338 107.985,214.338 107.985,215.658 108.059,215.658 108.059,216.978 108.194,216.978 108.194,218.297 108.228,218.297 \n",
       "  108.228,219.617 108.268,219.617 108.268,220.937 108.278,220.937 108.278,222.256 108.282,222.256 108.282,223.576 108.294,223.576 108.294,224.896 108.316,224.896 \n",
       "  108.316,226.215 108.376,226.215 108.376,227.535 108.412,227.535 108.412,228.855 108.456,228.855 108.456,230.174 108.456,230.174 108.456,231.494 108.526,231.494 \n",
       "  108.526,232.814 108.873,232.814 108.873,234.133 108.932,234.133 108.932,235.453 108.983,235.453 108.983,236.773 108.986,236.773 108.986,238.092 109.125,238.092 \n",
       "  109.125,239.412 109.325,239.412 109.325,240.732 109.359,240.732 109.359,242.051 109.464,242.051 109.464,243.371 109.473,243.371 109.473,244.69 109.576,244.69 \n",
       "  109.576,246.01 109.702,246.01 109.702,247.33 109.827,247.33 109.827,248.649 110.105,248.649 110.105,249.969 110.366,249.969 110.366,251.289 110.58,251.289 \n",
       "  110.58,252.608 110.862,252.608 110.862,253.928 110.956,253.928 110.956,255.248 111.008,255.248 111.008,256.567 111.028,256.567 111.028,257.887 111.428,257.887 \n",
       "  111.428,259.207 111.685,259.207 111.685,260.526 112.175,260.526 112.175,261.846 112.252,261.846 112.252,263.166 112.367,263.166 112.367,264.485 112.525,264.485 \n",
       "  112.525,265.805 112.8,265.805 112.8,267.125 113.281,267.125 113.281,268.444 113.423,268.444 113.423,269.764 113.809,269.764 113.809,271.084 114.274,271.084 \n",
       "  114.274,272.403 114.583,272.403 114.583,273.723 115.215,273.723 115.215,275.043 115.215,275.043 115.215,276.362 115.215,276.362 115.215,277.682 115.215,277.682 \n",
       "  115.215,279.001 115.216,279.001 115.216,280.321 115.217,280.321 115.217,281.641 115.217,281.641 115.217,282.96 115.218,282.96 115.218,284.28 115.224,284.28 \n",
       "  115.224,285.6 115.234,285.6 115.234,286.919 115.238,286.919 115.238,288.239 115.247,288.239 115.247,289.559 115.255,289.559 115.255,290.878 115.259,290.878 \n",
       "  115.259,292.198 115.464,292.198 115.464,293.518 115.472,293.518 115.472,294.837 115.499,294.837 115.499,296.157 115.539,296.157 115.539,297.477 115.655,297.477 \n",
       "  115.655,298.796 115.874,298.796 115.874,300.116 115.886,300.116 115.886,301.436 116.127,301.436 116.127,302.755 116.174,302.755 116.174,304.075 116.224,304.075 \n",
       "  116.224,305.395 116.243,305.395 116.243,306.714 116.339,306.714 116.339,308.034 116.339,308.034 116.339,309.354 116.339,309.354 116.339,310.673 116.34,310.673 \n",
       "  116.34,311.993 116.343,311.993 116.343,313.313 116.344,313.313 116.344,314.632 116.349,314.632 116.349,315.952 116.354,315.952 116.354,317.271 116.359,317.271 \n",
       "  116.359,318.591 116.414,318.591 116.414,319.911 116.439,319.911 116.439,321.23 116.452,321.23 116.452,322.55 116.462,322.55 116.462,323.87 116.476,323.87 \n",
       "  116.476,325.189 116.597,325.189 116.597,326.509 116.639,326.509 116.639,327.829 116.93,327.829 116.93,329.148 117.624,329.148 117.624,330.468 117.64,330.468 \n",
       "  117.64,331.788 118.027,331.788 118.027,333.107 118.377,333.107 118.377,334.427 118.387,334.427 118.387,335.747 119.001,335.747 119.001,337.066 119.192,337.066 \n",
       "  119.192,338.386 119.824,338.386 119.824,339.706 119.841,339.706 119.841,341.025 119.851,341.025 119.851,342.345 119.886,342.345 119.886,343.665 119.897,343.665 \n",
       "  119.897,344.984 120.123,344.984 120.123,346.304 121.335,346.304 121.335,347.624 121.347,347.624 121.347,348.943 141.903,348.943 141.903,350.263 574.577,350.263 \n",
       "  \n",
       "  \"/>\n",
       "<polyline clip-path=\"url(#clip2102)\" style=\"stroke:#68838b; stroke-width:1; stroke-opacity:1; fill:none\" points=\"\n",
       "  65.1798,348.943 65.8644,348.943 65.8644,350.263 65.8644,350.263 65.8644,348.943 65.9781,348.943 65.9781,347.624 66.201,347.624 66.201,346.304 66.8738,346.304 \n",
       "  66.8738,344.984 66.8814,344.984 66.8814,343.665 66.9421,343.665 66.9421,342.345 67.0538,342.345 67.0538,341.025 67.8169,341.025 67.8169,342.345 67.8513,342.345 \n",
       "  67.8513,341.025 67.9923,341.025 67.9923,339.706 68.199,339.706 68.199,338.386 68.2898,338.386 68.2898,337.066 68.5555,337.066 68.5555,338.386 68.5947,338.386 \n",
       "  68.5947,337.066 69.5887,337.066 69.5887,335.747 70.9172,335.747 70.9172,334.427 71.9994,334.427 71.9994,333.107 73.4996,333.107 73.4996,331.788 73.6508,331.788 \n",
       "  73.6508,330.468 74.1228,330.468 74.1228,329.148 75.0519,329.148 75.0519,330.468 76.2486,330.468 76.2486,329.148 78.3675,329.148 78.3675,330.468 78.4274,330.468 \n",
       "  78.4274,329.148 78.4778,329.148 78.4778,327.829 78.582,327.829 78.582,326.509 79.1203,326.509 79.1203,325.189 79.6199,325.189 79.6199,323.87 79.7011,323.87 \n",
       "  79.7011,322.55 80.0194,322.55 80.0194,321.23 80.2398,321.23 80.2398,322.55 81.1248,322.55 81.1248,323.87 81.248,323.87 81.248,322.55 81.2483,322.55 \n",
       "  81.2483,321.23 81.2491,321.23 81.2491,319.911 81.2497,319.911 81.2497,318.591 81.2526,318.591 81.2526,317.271 81.2529,317.271 81.2529,315.952 81.2587,315.952 \n",
       "  81.2587,314.632 81.2589,314.632 81.2589,313.313 81.2597,313.313 81.2597,311.993 81.2642,311.993 81.2642,310.673 81.2726,310.673 81.2726,309.354 81.2743,309.354 \n",
       "  81.2743,308.034 81.2751,308.034 81.2751,306.714 81.2751,306.714 81.2751,305.395 81.2756,305.395 81.2756,304.075 81.2993,304.075 81.2993,302.755 81.3544,302.755 \n",
       "  81.3544,301.436 81.3589,301.436 81.3589,300.116 81.3772,300.116 81.3772,298.796 81.3838,298.796 81.3838,297.477 81.4137,297.477 81.4137,296.157 81.4224,296.157 \n",
       "  81.4224,294.837 81.4934,294.837 81.4934,293.518 81.5338,293.518 81.5338,292.198 81.8544,292.198 81.8544,290.878 81.918,290.878 81.918,289.559 81.925,289.559 \n",
       "  81.925,288.239 82.1113,288.239 82.1113,289.559 82.2221,289.559 82.2221,288.239 82.2449,288.239 82.2449,286.919 82.3257,286.919 82.3257,285.6 82.3484,285.6 \n",
       "  82.3484,284.28 82.4571,284.28 82.4571,282.96 82.7115,282.96 82.7115,281.641 82.7254,281.641 82.7254,280.321 83.2696,280.321 83.2696,279.001 85.7118,279.001 \n",
       "  85.7118,277.682 86.208,277.682 86.208,276.362 86.3856,276.362 86.3856,275.043 86.6413,275.043 86.6413,276.362 87.841,276.362 87.841,275.043 87.8867,275.043 \n",
       "  87.8867,273.723 87.9027,273.723 87.9027,272.403 88.4117,272.403 88.4117,273.723 88.5181,273.723 88.5181,272.403 88.7633,272.403 88.7633,273.723 88.9259,273.723 \n",
       "  88.9259,272.403 89.0524,272.403 89.0524,271.084 89.121,271.084 89.121,269.764 90.6669,269.764 90.6669,271.084 91.0588,271.084 91.0588,269.764 91.2343,269.764 \n",
       "  91.2343,271.084 91.7791,271.084 91.7791,272.403 92.3834,272.403 92.3834,273.723 92.5606,273.723 92.5606,272.403 92.8727,272.403 92.8727,271.084 93.208,271.084 \n",
       "  93.208,269.764 93.3204,269.764 93.3204,268.444 93.501,268.444 93.501,269.764 93.9121,269.764 93.9121,271.084 93.9803,271.084 93.9803,269.764 94.0997,269.764 \n",
       "  94.0997,268.444 94.7298,268.444 94.7298,269.764 94.7299,269.764 94.7299,268.444 94.7338,268.444 94.7338,267.125 95.9318,267.125 95.9318,265.805 96.4601,265.805 \n",
       "  96.4601,264.485 96.5659,264.485 96.5659,263.166 96.5912,263.166 96.5912,261.846 96.6255,261.846 96.6255,260.526 96.856,260.526 96.856,261.846 96.8792,261.846 \n",
       "  96.8792,263.166 97.0009,263.166 97.0009,264.485 97.7763,264.485 97.7763,263.166 97.9421,263.166 97.9421,261.846 97.9443,261.846 97.9443,260.526 98.0548,260.526 \n",
       "  98.0548,259.207 98.1129,259.207 98.1129,260.526 98.2461,260.526 98.2461,259.207 98.61,259.207 98.61,257.887 99.0591,257.887 99.0591,259.207 99.3029,259.207 \n",
       "  99.3029,260.526 100.035,260.526 100.035,259.207 100.599,259.207 100.599,257.887 101.069,257.887 101.069,259.207 101.312,259.207 101.312,257.887 101.446,257.887 \n",
       "  101.446,256.567 101.873,256.567 101.873,257.887 102.721,257.887 102.721,256.567 102.958,256.567 102.958,257.887 103.433,257.887 103.433,256.567 103.72,256.567 \n",
       "  103.72,255.248 104.433,255.248 104.433,256.567 105.15,256.567 105.15,255.248 105.32,255.248 105.32,256.567 105.876,256.567 105.876,257.887 106.59,257.887 \n",
       "  106.59,256.567 106.85,256.567 106.85,255.248 107.37,255.248 107.37,253.928 107.37,253.928 107.37,252.608 107.37,252.608 107.37,251.289 107.37,251.289 \n",
       "  107.37,249.969 107.37,249.969 107.37,248.649 107.37,248.649 107.37,247.33 107.37,247.33 107.37,246.01 107.37,246.01 107.37,244.69 107.371,244.69 \n",
       "  107.371,243.371 107.373,243.371 107.373,242.051 107.378,242.051 107.378,240.732 107.38,240.732 107.38,239.412 107.382,239.412 107.382,238.092 107.385,238.092 \n",
       "  107.385,236.773 107.385,236.773 107.385,235.453 107.386,235.453 107.386,234.133 107.387,234.133 107.387,232.814 107.388,232.814 107.388,231.494 107.397,231.494 \n",
       "  107.397,230.174 107.4,230.174 107.4,228.855 107.405,228.855 107.405,227.535 107.406,227.535 107.406,226.215 107.409,226.215 107.409,224.896 107.409,224.896 \n",
       "  107.409,223.576 107.428,223.576 107.428,222.256 107.428,222.256 107.428,220.937 107.447,220.937 107.447,219.617 107.483,219.617 107.483,218.297 107.525,218.297 \n",
       "  107.525,216.978 107.528,216.978 107.528,215.658 107.538,215.658 107.538,214.338 107.541,214.338 107.541,213.019 107.543,213.019 107.543,211.699 107.595,211.699 \n",
       "  107.595,210.379 107.647,210.379 107.647,209.06 107.678,209.06 107.678,207.74 107.701,207.74 107.701,206.42 107.705,206.42 107.705,205.101 107.724,205.101 \n",
       "  107.724,203.781 107.734,203.781 107.734,202.462 107.739,202.462 107.739,201.142 107.745,201.142 107.745,199.822 107.747,199.822 107.747,198.503 107.887,198.503 \n",
       "  107.887,197.183 107.935,197.183 107.935,198.503 107.981,198.503 107.981,197.183 107.985,197.183 107.985,195.863 108.059,195.863 108.059,194.544 108.184,194.544 \n",
       "  108.184,195.863 108.194,195.863 108.194,194.544 108.228,194.544 108.228,193.224 108.242,193.224 108.242,194.544 108.268,194.544 108.268,193.224 108.278,193.224 \n",
       "  108.278,191.904 108.282,191.904 108.282,190.585 108.294,190.585 108.294,189.265 108.295,189.265 108.295,190.585 108.298,190.585 108.298,191.904 108.316,191.904 \n",
       "  108.316,190.585 108.317,190.585 108.317,191.904 108.376,191.904 108.376,190.585 108.402,190.585 108.402,191.904 108.412,191.904 108.412,190.585 108.456,190.585 \n",
       "  108.456,189.265 108.456,189.265 108.456,187.945 108.477,187.945 108.477,189.265 108.526,189.265 108.526,187.945 108.749,187.945 108.749,189.265 108.796,189.265 \n",
       "  108.796,190.585 108.873,190.585 108.873,189.265 108.921,189.265 108.921,190.585 108.932,190.585 108.932,189.265 108.983,189.265 108.983,187.945 108.986,187.945 \n",
       "  108.986,186.626 109.125,186.626 109.125,185.306 109.178,185.306 109.178,186.626 109.325,186.626 109.325,185.306 109.359,185.306 109.359,183.986 109.464,183.986 \n",
       "  109.464,182.667 109.473,182.667 109.473,181.347 109.576,181.347 109.576,180.027 109.702,180.027 109.702,178.708 109.827,178.708 109.827,177.388 109.856,177.388 \n",
       "  109.856,178.708 110.105,178.708 110.105,177.388 110.366,177.388 110.366,176.068 110.58,176.068 110.58,174.749 110.846,174.749 110.846,176.068 110.862,176.068 \n",
       "  110.862,174.749 110.956,174.749 110.956,173.429 111.008,173.429 111.008,172.109 111.028,172.109 111.028,170.79 111.428,170.79 111.428,169.47 111.669,169.47 \n",
       "  111.669,170.79 111.685,170.79 111.685,169.47 112.137,169.47 112.137,170.79 112.175,170.79 112.175,169.47 112.252,169.47 112.252,168.151 112.367,168.151 \n",
       "  112.367,166.831 112.525,166.831 112.525,165.511 112.611,165.511 112.611,166.831 112.694,166.831 112.694,168.151 112.734,168.151 112.734,169.47 112.8,169.47 \n",
       "  112.8,168.151 113.281,168.151 113.281,166.831 113.423,166.831 113.423,165.511 113.809,165.511 113.809,164.192 113.897,164.192 113.897,165.511 113.932,165.511 \n",
       "  113.932,166.831 114.274,166.831 114.274,165.511 114.583,165.511 114.583,164.192 115.183,164.192 115.183,165.511 115.215,165.511 115.215,164.192 115.215,164.192 \n",
       "  115.215,162.872 115.215,162.872 115.215,161.552 115.215,161.552 115.215,160.233 115.216,160.233 115.216,158.913 115.217,158.913 115.217,157.593 115.217,157.593 \n",
       "  115.217,156.274 115.218,156.274 115.218,154.954 115.224,154.954 115.224,153.634 115.234,153.634 115.234,152.315 115.238,152.315 115.238,150.995 115.247,150.995 \n",
       "  115.247,149.675 115.255,149.675 115.255,148.356 115.259,148.356 115.259,147.036 115.464,147.036 115.464,145.716 115.472,145.716 115.472,144.397 115.499,144.397 \n",
       "  115.499,143.077 115.539,143.077 115.539,141.757 115.655,141.757 115.655,140.438 115.874,140.438 115.874,139.118 115.886,139.118 115.886,137.798 115.922,137.798 \n",
       "  115.922,139.118 116.127,139.118 116.127,137.798 116.174,137.798 116.174,136.479 116.224,136.479 116.224,135.159 116.243,135.159 116.243,133.839 116.318,133.839 \n",
       "  116.318,135.159 116.339,135.159 116.339,133.839 116.339,133.839 116.339,132.52 116.339,132.52 116.339,131.2 116.34,131.2 116.34,129.881 116.343,129.881 \n",
       "  116.343,128.561 116.344,128.561 116.344,127.241 116.349,127.241 116.349,125.922 116.354,125.922 116.354,124.602 116.359,124.602 116.359,123.282 116.414,123.282 \n",
       "  116.414,121.963 116.439,121.963 116.439,120.643 116.452,120.643 116.452,119.323 116.462,119.323 116.462,118.004 116.476,118.004 116.476,116.684 116.502,116.684 \n",
       "  116.502,118.004 116.597,118.004 116.597,116.684 116.606,116.684 116.606,118.004 116.639,118.004 116.639,116.684 116.783,116.684 116.783,118.004 116.93,118.004 \n",
       "  116.93,116.684 117.26,116.684 117.26,118.004 117.309,118.004 117.309,119.323 117.624,119.323 117.624,118.004 117.64,118.004 117.64,116.684 117.969,116.684 \n",
       "  117.969,118.004 117.987,118.004 117.987,119.323 118.027,119.323 118.027,118.004 118.377,118.004 118.377,116.684 118.387,116.684 118.387,115.364 118.509,115.364 \n",
       "  118.509,116.684 118.709,116.684 118.709,118.004 119.001,118.004 119.001,116.684 119.178,116.684 119.178,118.004 119.178,118.004 119.178,119.323 119.192,119.323 \n",
       "  119.192,118.004 119.824,118.004 119.824,116.684 119.841,116.684 119.841,115.364 119.851,115.364 119.851,114.045 119.886,114.045 119.886,112.725 119.897,112.725 \n",
       "  119.897,111.405 120.123,111.405 120.123,110.086 120.127,110.086 120.127,111.405 120.182,111.405 120.182,112.725 121.041,112.725 121.041,114.045 121.335,114.045 \n",
       "  121.335,112.725 121.347,112.725 121.347,111.405 121.35,111.405 121.35,112.725 121.619,112.725 121.619,114.045 121.824,114.045 121.824,115.364 122.113,115.364 \n",
       "  122.113,116.684 122.254,116.684 122.254,118.004 122.438,118.004 122.438,119.323 122.507,119.323 122.507,120.643 122.741,120.643 122.741,121.963 122.987,121.963 \n",
       "  122.987,123.282 123.447,123.282 123.447,124.602 123.607,124.602 123.607,125.922 124.059,125.922 124.059,127.241 124.651,127.241 124.651,128.561 124.895,128.561 \n",
       "  124.895,129.881 125.047,129.881 125.047,131.2 125.06,131.2 125.06,132.52 125.35,132.52 125.35,133.839 125.52,133.839 125.52,135.159 125.524,135.159 \n",
       "  125.524,136.479 126.52,136.479 126.52,137.798 126.753,137.798 126.753,139.118 127.369,139.118 127.369,140.438 127.388,140.438 127.388,141.757 128.161,141.757 \n",
       "  128.161,143.077 128.625,143.077 128.625,144.397 128.895,144.397 128.895,145.716 129.606,145.716 129.606,147.036 130.018,147.036 130.018,148.356 130.652,148.356 \n",
       "  130.652,149.675 130.766,149.675 130.766,150.995 130.773,150.995 130.773,152.315 131.245,152.315 131.245,153.634 131.596,153.634 131.596,154.954 131.84,154.954 \n",
       "  131.84,156.274 132.107,156.274 132.107,157.593 133.028,157.593 133.028,158.913 133.054,158.913 133.054,160.233 133.4,160.233 133.4,161.552 133.587,161.552 \n",
       "  133.587,162.872 134.157,162.872 134.157,164.192 134.745,164.192 134.745,165.511 135.099,165.511 135.099,166.831 135.569,166.831 135.569,168.151 135.938,168.151 \n",
       "  135.938,169.47 136.189,169.47 136.189,170.79 137.048,170.79 137.048,172.109 137.862,172.109 137.862,173.429 138.053,173.429 138.053,174.749 138.131,174.749 \n",
       "  138.131,176.068 138.923,176.068 138.923,177.388 140.314,177.388 140.314,178.708 141.281,178.708 141.281,180.027 141.507,180.027 141.507,181.347 141.903,181.347 \n",
       "  141.903,180.027 142.766,180.027 142.766,181.347 143.054,181.347 143.054,182.667 143.159,182.667 143.159,183.986 143.247,183.986 143.247,185.306 143.618,185.306 \n",
       "  143.618,186.626 143.673,186.626 143.673,187.945 144.134,187.945 144.134,189.265 144.156,189.265 144.156,190.585 144.367,190.585 144.367,191.904 144.534,191.904 \n",
       "  144.534,193.224 144.723,193.224 144.723,194.544 146.164,194.544 146.164,195.863 148.131,195.863 148.131,197.183 148.457,197.183 148.457,198.503 148.689,198.503 \n",
       "  148.689,199.822 149.518,199.822 149.518,201.142 150.011,201.142 150.011,202.462 150.325,202.462 150.325,203.781 150.615,203.781 150.615,205.101 150.678,205.101 \n",
       "  150.678,206.42 151.437,206.42 151.437,207.74 151.468,207.74 151.468,209.06 153.265,209.06 153.265,210.379 153.908,210.379 153.908,211.699 154.887,211.699 \n",
       "  154.887,213.019 155.135,213.019 155.135,214.338 155.397,214.338 155.397,215.658 156.144,215.658 156.144,216.978 156.286,216.978 156.286,218.297 158.472,218.297 \n",
       "  158.472,219.617 158.565,219.617 158.565,220.937 158.598,220.937 158.598,222.256 158.784,222.256 158.784,223.576 158.816,223.576 158.816,224.896 159.341,224.896 \n",
       "  159.341,226.215 159.343,226.215 159.343,227.535 159.584,227.535 159.584,228.855 160.038,228.855 160.038,230.174 161.281,230.174 161.281,231.494 161.98,231.494 \n",
       "  161.98,232.814 162.872,232.814 162.872,234.133 163.253,234.133 163.253,235.453 163.795,235.453 163.795,236.773 165.008,236.773 165.008,238.092 165.681,238.092 \n",
       "  165.681,239.412 165.745,239.412 165.745,240.732 166.308,240.732 166.308,242.051 167.199,242.051 167.199,243.371 168.158,243.371 168.158,244.69 168.462,244.69 \n",
       "  168.462,246.01 170.35,246.01 170.35,247.33 172.338,247.33 172.338,248.649 172.782,248.649 172.782,249.969 174.655,249.969 174.655,251.289 174.924,251.289 \n",
       "  174.924,252.608 175.381,252.608 175.381,253.928 176.849,253.928 176.849,255.248 177.155,255.248 177.155,256.567 177.634,256.567 177.634,257.887 178.085,257.887 \n",
       "  178.085,259.207 178.202,259.207 178.202,260.526 179.094,260.526 179.094,261.846 179.155,261.846 179.155,263.166 179.206,263.166 179.206,264.485 179.472,264.485 \n",
       "  179.472,265.805 181.282,265.805 181.282,267.125 182.236,267.125 182.236,268.444 182.286,268.444 182.286,269.764 184.047,269.764 184.047,271.084 184.847,271.084 \n",
       "  184.847,272.403 187.542,272.403 187.542,273.723 189.023,273.723 189.023,275.043 189.336,275.043 189.336,276.362 190.65,276.362 190.65,277.682 191.446,277.682 \n",
       "  191.446,279.001 191.603,279.001 191.603,280.321 194.126,280.321 194.126,281.641 197.434,281.641 197.434,282.96 197.691,282.96 197.691,284.28 198.636,284.28 \n",
       "  198.636,285.6 199.927,285.6 199.927,286.919 201.445,286.919 201.445,288.239 201.533,288.239 201.533,289.559 202.109,289.559 202.109,290.878 205.583,290.878 \n",
       "  205.583,292.198 206.687,292.198 206.687,293.518 207.943,293.518 207.943,294.837 208.524,294.837 208.524,296.157 209.365,296.157 209.365,297.477 210.349,297.477 \n",
       "  210.349,298.796 211.195,298.796 211.195,300.116 217.457,300.116 217.457,301.436 217.953,301.436 217.953,302.755 218.213,302.755 218.213,304.075 222.113,304.075 \n",
       "  222.113,305.395 222.207,305.395 222.207,306.714 223.206,306.714 223.206,308.034 224.188,308.034 224.188,309.354 226.173,309.354 226.173,310.673 230.903,310.673 \n",
       "  230.903,311.993 231.16,311.993 231.16,313.313 233.157,313.313 233.157,314.632 239.035,314.632 239.035,315.952 243.922,315.952 243.922,317.271 246.264,317.271 \n",
       "  246.264,318.591 246.622,318.591 246.622,319.911 247.965,319.911 247.965,321.23 248.448,321.23 248.448,322.55 249.515,322.55 249.515,323.87 249.665,323.87 \n",
       "  249.665,325.189 251.505,325.189 251.505,326.509 257.006,326.509 257.006,327.829 257.599,327.829 257.599,329.148 259.174,329.148 259.174,330.468 264.43,330.468 \n",
       "  264.43,331.788 268.024,331.788 268.024,333.107 269.901,333.107 269.901,334.427 273.556,334.427 273.556,335.747 273.844,335.747 273.844,337.066 282.207,337.066 \n",
       "  282.207,338.386 285.763,338.386 285.763,339.706 286.382,339.706 286.382,341.025 291.417,341.025 291.417,342.345 295.836,342.345 295.836,343.665 302.076,343.665 \n",
       "  302.076,344.984 319.693,344.984 319.693,346.304 327.426,346.304 327.426,347.624 329.959,347.624 329.959,348.943 382.953,348.943 382.953,350.263 574.577,350.263 \n",
       "  \n",
       "  \"/>\n",
       "<polyline clip-path=\"url(#clip2102)\" style=\"stroke:#90ee90; stroke-width:1; stroke-opacity:1; fill:none\" points=\"\n",
       "  65.1798,350.263 65.8644,350.263 65.8644,348.943 67.8169,348.943 67.8169,347.624 68.5555,347.624 68.5555,346.304 75.0519,346.304 75.0519,344.984 78.3675,344.984 \n",
       "  78.3675,343.665 80.2398,343.665 80.2398,342.345 81.1248,342.345 81.1248,341.025 81.2478,341.025 81.2478,342.345 82.1113,342.345 82.1113,341.025 86.6413,341.025 \n",
       "  86.6413,339.706 88.4117,339.706 88.4117,338.386 88.7633,338.386 88.7633,337.066 90.6669,337.066 90.6669,335.747 91.2343,335.747 91.2343,334.427 91.7791,334.427 \n",
       "  91.7791,333.107 92.3834,333.107 92.3834,331.788 93.501,331.788 93.501,330.468 93.9121,330.468 93.9121,329.148 94.7298,329.148 94.7298,327.829 96.856,327.829 \n",
       "  96.856,326.509 96.8792,326.509 96.8792,325.189 97.0009,325.189 97.0009,323.87 98.1129,323.87 98.1129,322.55 99.0591,322.55 99.0591,321.23 99.3029,321.23 \n",
       "  99.3029,319.911 101.069,319.911 101.069,318.591 101.873,318.591 101.873,317.271 102.958,317.271 102.958,315.952 104.433,315.952 104.433,314.632 105.32,314.632 \n",
       "  105.32,313.313 105.876,313.313 105.876,311.993 107.37,311.993 107.37,313.313 107.935,313.313 107.935,311.993 108.184,311.993 108.184,310.673 108.242,310.673 \n",
       "  108.242,309.354 108.295,309.354 108.295,308.034 108.298,308.034 108.298,306.714 108.317,306.714 108.317,305.395 108.402,305.395 108.402,304.075 108.477,304.075 \n",
       "  108.477,302.755 108.749,302.755 108.749,301.436 108.796,301.436 108.796,300.116 108.921,300.116 108.921,298.796 109.178,298.796 109.178,297.477 109.856,297.477 \n",
       "  109.856,296.157 110.846,296.157 110.846,294.837 111.669,294.837 111.669,293.518 112.137,293.518 112.137,292.198 112.611,292.198 112.611,290.878 112.694,290.878 \n",
       "  112.694,289.559 112.734,289.559 112.734,288.239 113.897,288.239 113.897,286.919 113.932,286.919 113.932,285.6 115.183,285.6 115.183,284.28 115.215,284.28 \n",
       "  115.215,285.6 115.922,285.6 115.922,284.28 116.318,284.28 116.318,282.96 116.339,282.96 116.339,284.28 116.502,284.28 116.502,282.96 116.606,282.96 \n",
       "  116.606,281.641 116.783,281.641 116.783,280.321 117.26,280.321 117.26,279.001 117.309,279.001 117.309,277.682 117.969,277.682 117.969,276.362 117.987,276.362 \n",
       "  117.987,275.043 118.509,275.043 118.509,273.723 118.709,273.723 118.709,272.403 119.178,272.403 119.178,271.084 119.178,271.084 119.178,269.764 119.824,269.764 \n",
       "  119.824,271.084 120.127,271.084 120.127,269.764 120.182,269.764 120.182,268.444 121.041,268.444 121.041,267.125 121.329,267.125 121.329,268.444 121.35,268.444 \n",
       "  121.35,267.125 121.619,267.125 121.619,265.805 121.824,265.805 121.824,264.485 122.113,264.485 122.113,263.166 122.236,263.166 122.236,264.485 122.254,264.485 \n",
       "  122.254,263.166 122.438,263.166 122.438,261.846 122.507,261.846 122.507,260.526 122.741,260.526 122.741,259.207 122.987,259.207 122.987,257.887 123.24,257.887 \n",
       "  123.24,259.207 123.447,259.207 123.447,257.887 123.607,257.887 123.607,256.567 123.716,256.567 123.716,257.887 124.059,257.887 124.059,256.567 124.311,256.567 \n",
       "  124.311,257.887 124.651,257.887 124.651,256.567 124.665,256.567 124.665,257.887 124.895,257.887 124.895,256.567 125.047,256.567 125.047,255.248 125.06,255.248 \n",
       "  125.06,253.928 125.35,253.928 125.35,252.608 125.5,252.608 125.5,253.928 125.52,253.928 125.52,252.608 125.524,252.608 125.524,251.289 125.743,251.289 \n",
       "  125.743,252.608 126.52,252.608 126.52,251.289 126.753,251.289 126.753,249.969 127.369,249.969 127.369,248.649 127.388,248.649 127.388,247.33 127.475,247.33 \n",
       "  127.475,248.649 128.161,248.649 128.161,247.33 128.625,247.33 128.625,246.01 128.895,246.01 128.895,244.69 129.606,244.69 129.606,243.371 130.018,243.371 \n",
       "  130.018,242.051 130.652,242.051 130.652,240.732 130.766,240.732 130.766,239.412 130.773,239.412 130.773,238.092 131.245,238.092 131.245,236.773 131.596,236.773 \n",
       "  131.596,235.453 131.84,235.453 131.84,234.133 132.107,234.133 132.107,232.814 132.289,232.814 132.289,234.133 133.028,234.133 133.028,232.814 133.054,232.814 \n",
       "  133.054,231.494 133.259,231.494 133.259,232.814 133.4,232.814 133.4,231.494 133.587,231.494 133.587,230.174 133.776,230.174 133.776,231.494 133.915,231.494 \n",
       "  133.915,232.814 134.157,232.814 134.157,231.494 134.197,231.494 134.197,232.814 134.745,232.814 134.745,231.494 135.099,231.494 135.099,230.174 135.345,230.174 \n",
       "  135.345,231.494 135.569,231.494 135.569,230.174 135.938,230.174 135.938,228.855 136.189,228.855 136.189,227.535 136.771,227.535 136.771,228.855 137.048,228.855 \n",
       "  137.048,227.535 137.509,227.535 137.509,228.855 137.862,228.855 137.862,227.535 137.882,227.535 137.882,228.855 138.053,228.855 138.053,227.535 138.131,227.535 \n",
       "  138.131,226.215 138.923,226.215 138.923,224.896 139.352,224.896 139.352,226.215 140.314,226.215 140.314,224.896 140.771,224.896 140.771,226.215 141.281,226.215 \n",
       "  141.281,224.896 141.507,224.896 141.507,223.576 141.743,223.576 141.743,224.896 142.48,224.896 142.48,226.215 142.766,226.215 142.766,224.896 143.054,224.896 \n",
       "  143.054,223.576 143.159,223.576 143.159,222.256 143.247,222.256 143.247,220.937 143.618,220.937 143.618,219.617 143.673,219.617 143.673,218.297 144.134,218.297 \n",
       "  144.134,216.978 144.156,216.978 144.156,215.658 144.367,215.658 144.367,214.338 144.534,214.338 144.534,213.019 144.723,213.019 144.723,211.699 144.786,211.699 \n",
       "  144.786,213.019 145.197,213.019 145.197,214.338 146.164,214.338 146.164,213.019 146.738,213.019 146.738,214.338 148.131,214.338 148.131,213.019 148.457,213.019 \n",
       "  148.457,211.699 148.506,211.699 148.506,213.019 148.689,213.019 148.689,211.699 148.832,211.699 148.832,213.019 148.86,213.019 148.86,214.338 149.518,214.338 \n",
       "  149.518,213.019 150.011,213.019 150.011,211.699 150.325,211.699 150.325,210.379 150.615,210.379 150.615,209.06 150.678,209.06 150.678,207.74 150.715,207.74 \n",
       "  150.715,209.06 151.437,209.06 151.437,207.74 151.468,207.74 151.468,206.42 151.674,206.42 151.674,207.74 153.265,207.74 153.265,206.42 153.486,206.42 \n",
       "  153.486,207.74 153.908,207.74 153.908,206.42 154.887,206.42 154.887,205.101 155.135,205.101 155.135,203.781 155.397,203.781 155.397,202.462 155.907,202.462 \n",
       "  155.907,203.781 156.144,203.781 156.144,202.462 156.286,202.462 156.286,201.142 158.403,201.142 158.403,202.462 158.472,202.462 158.472,201.142 158.565,201.142 \n",
       "  158.565,199.822 158.598,199.822 158.598,198.503 158.784,198.503 158.784,197.183 158.816,197.183 158.816,195.863 159.341,195.863 159.341,194.544 159.343,194.544 \n",
       "  159.343,193.224 159.353,193.224 159.353,194.544 159.487,194.544 159.487,195.863 159.584,195.863 159.584,194.544 160.038,194.544 160.038,193.224 160.895,193.224 \n",
       "  160.895,194.544 161.281,194.544 161.281,193.224 161.319,193.224 161.319,194.544 161.98,194.544 161.98,193.224 162.872,193.224 162.872,191.904 162.992,191.904 \n",
       "  162.992,193.224 163.253,193.224 163.253,191.904 163.795,191.904 163.795,190.585 165.008,190.585 165.008,189.265 165.09,189.265 165.09,190.585 165.6,190.585 \n",
       "  165.6,191.904 165.681,191.904 165.681,190.585 165.745,190.585 165.745,189.265 166.308,189.265 166.308,187.945 166.481,187.945 166.481,189.265 167.199,189.265 \n",
       "  167.199,187.945 167.543,187.945 167.543,189.265 168.158,189.265 168.158,187.945 168.462,187.945 168.462,186.626 168.858,186.626 168.858,187.945 170.35,187.945 \n",
       "  170.35,186.626 171.233,186.626 171.233,187.945 171.355,187.945 171.355,189.265 172.338,189.265 172.338,187.945 172.782,187.945 172.782,186.626 172.887,186.626 \n",
       "  172.887,187.945 173.335,187.945 173.335,189.265 173.418,189.265 173.418,190.585 174.655,190.585 174.655,189.265 174.924,189.265 174.924,187.945 175.381,187.945 \n",
       "  175.381,186.626 176.849,186.626 176.849,185.306 177.155,185.306 177.155,183.986 177.173,183.986 177.173,185.306 177.634,185.306 177.634,183.986 178.051,183.986 \n",
       "  178.051,185.306 178.085,185.306 178.085,183.986 178.202,183.986 178.202,182.667 178.621,182.667 178.621,183.986 178.829,183.986 178.829,185.306 178.895,185.306 \n",
       "  178.895,186.626 179.094,186.626 179.094,185.306 179.155,185.306 179.155,183.986 179.206,183.986 179.206,182.667 179.472,182.667 179.472,181.347 180.085,181.347 \n",
       "  180.085,182.667 180.266,182.667 180.266,183.986 180.875,183.986 180.875,185.306 181.282,185.306 181.282,183.986 182.236,183.986 182.236,182.667 182.286,182.667 \n",
       "  182.286,181.347 182.431,181.347 182.431,182.667 182.73,182.667 182.73,183.986 182.987,183.986 182.987,185.306 183.147,185.306 183.147,186.626 184.047,186.626 \n",
       "  184.047,185.306 184.506,185.306 184.506,186.626 184.847,186.626 184.847,185.306 184.953,185.306 184.953,186.626 185.779,186.626 185.779,187.945 185.79,187.945 \n",
       "  185.79,189.265 186.685,189.265 186.685,190.585 187.542,190.585 187.542,189.265 189.023,189.265 189.023,187.945 189.336,187.945 189.336,186.626 190.65,186.626 \n",
       "  190.65,185.306 191.446,185.306 191.446,183.986 191.603,183.986 191.603,182.667 192.741,182.667 192.741,183.986 194.126,183.986 194.126,182.667 194.547,182.667 \n",
       "  194.547,183.986 195.766,183.986 195.766,185.306 196.174,185.306 196.174,186.626 197.328,186.626 197.328,187.945 197.434,187.945 197.434,186.626 197.691,186.626 \n",
       "  197.691,185.306 198.087,185.306 198.087,186.626 198.636,186.626 198.636,185.306 199.617,185.306 199.617,186.626 199.661,186.626 199.661,187.945 199.897,187.945 \n",
       "  199.897,189.265 199.927,189.265 199.927,187.945 201.045,187.945 201.045,189.265 201.329,189.265 201.329,190.585 201.334,190.585 201.334,191.904 201.445,191.904 \n",
       "  201.445,190.585 201.533,190.585 201.533,189.265 202.109,189.265 202.109,187.945 202.213,187.945 202.213,189.265 202.425,189.265 202.425,190.585 202.915,190.585 \n",
       "  202.915,191.904 203.063,191.904 203.063,193.224 203.091,193.224 203.091,194.544 203.261,194.544 203.261,195.863 203.735,195.863 203.735,197.183 204.319,197.183 \n",
       "  204.319,198.503 204.322,198.503 204.322,199.822 204.854,199.822 204.854,201.142 205.583,201.142 205.583,199.822 206.006,199.822 206.006,201.142 206.07,201.142 \n",
       "  206.07,202.462 206.191,202.462 206.191,203.781 206.687,203.781 206.687,202.462 207.943,202.462 207.943,201.142 208.524,201.142 208.524,199.822 208.586,199.822 \n",
       "  208.586,201.142 209.091,201.142 209.091,202.462 209.365,202.462 209.365,201.142 210.082,201.142 210.082,202.462 210.349,202.462 210.349,201.142 210.646,201.142 \n",
       "  210.646,202.462 211.195,202.462 211.195,201.142 212.919,201.142 212.919,202.462 213.732,202.462 213.732,203.781 214.737,203.781 214.737,205.101 215.42,205.101 \n",
       "  215.42,206.42 215.93,206.42 215.93,207.74 217.457,207.74 217.457,206.42 217.953,206.42 217.953,205.101 218.213,205.101 218.213,203.781 218.607,203.781 \n",
       "  218.607,205.101 218.891,205.101 218.891,206.42 219.981,206.42 219.981,207.74 222.113,207.74 222.113,206.42 222.207,206.42 222.207,207.74 222.207,207.74 \n",
       "  222.207,206.42 222.75,206.42 222.75,207.74 223.206,207.74 223.206,206.42 223.659,206.42 223.659,207.74 224.184,207.74 224.184,209.06 224.188,209.06 \n",
       "  224.188,207.74 226.173,207.74 226.173,206.42 227.5,206.42 227.5,207.74 227.634,207.74 227.634,209.06 228.8,209.06 228.8,210.379 229.293,210.379 \n",
       "  229.293,211.699 229.682,211.699 229.682,213.019 230.129,213.019 230.129,214.338 230.903,214.338 230.903,213.019 231.16,213.019 231.16,211.699 232.023,211.699 \n",
       "  232.023,213.019 233.001,213.019 233.001,214.338 233.157,214.338 233.157,213.019 233.626,213.019 233.626,214.338 238.941,214.338 238.941,215.658 239.035,215.658 \n",
       "  239.035,214.338 241.961,214.338 241.961,215.658 242.407,215.658 242.407,216.978 242.924,216.978 242.924,218.297 243.533,218.297 243.533,219.617 243.888,219.617 \n",
       "  243.888,220.937 243.922,220.937 243.922,219.617 244.972,219.617 244.972,220.937 245.733,220.937 245.733,222.256 245.943,222.256 245.943,223.576 246.264,223.576 \n",
       "  246.264,222.256 246.622,222.256 246.622,220.937 246.78,220.937 246.78,222.256 247.965,222.256 247.965,220.937 248.448,220.937 248.448,219.617 249.136,219.617 \n",
       "  249.136,220.937 249.515,220.937 249.515,219.617 249.595,219.617 249.595,220.937 249.601,220.937 249.601,222.256 249.63,222.256 249.63,223.576 249.665,223.576 \n",
       "  249.665,222.256 250.737,222.256 250.737,223.576 251.239,223.576 251.239,224.896 251.505,224.896 251.505,223.576 251.618,223.576 251.618,224.896 252.729,224.896 \n",
       "  252.729,226.215 253.93,226.215 253.93,227.535 257.006,227.535 257.006,226.215 257.387,226.215 257.387,227.535 257.599,227.535 257.599,226.215 258.571,226.215 \n",
       "  258.571,227.535 259.174,227.535 259.174,226.215 260.935,226.215 260.935,227.535 261.552,227.535 261.552,228.855 262.725,228.855 262.725,230.174 263.128,230.174 \n",
       "  263.128,231.494 263.187,231.494 263.187,232.814 263.612,232.814 263.612,234.133 264.292,234.133 264.292,235.453 264.43,235.453 264.43,234.133 265.392,234.133 \n",
       "  265.392,235.453 266.581,235.453 266.581,236.773 268.024,236.773 268.024,235.453 269.901,235.453 269.901,234.133 272.603,234.133 272.603,235.453 272.869,235.453 \n",
       "  272.869,236.773 273.278,236.773 273.278,238.092 273.556,238.092 273.556,236.773 273.589,236.773 273.589,238.092 273.844,238.092 273.844,236.773 274.586,236.773 \n",
       "  274.586,238.092 274.623,238.092 274.623,239.412 274.811,239.412 274.811,240.732 274.868,240.732 274.868,242.051 276.464,242.051 276.464,243.371 278.579,243.371 \n",
       "  278.579,244.69 281.219,244.69 281.219,246.01 282.066,246.01 282.066,247.33 282.207,247.33 282.207,246.01 283.045,246.01 283.045,247.33 285.763,247.33 \n",
       "  285.763,246.01 286.382,246.01 286.382,244.69 288.734,244.69 288.734,246.01 291.417,246.01 291.417,244.69 291.52,244.69 291.52,246.01 295.836,246.01 \n",
       "  295.836,244.69 295.907,244.69 295.907,246.01 297.486,246.01 297.486,247.33 298.192,247.33 298.192,248.649 300.756,248.649 300.756,249.969 302.022,249.969 \n",
       "  302.022,251.289 302.076,251.289 302.076,249.969 302.995,249.969 302.995,251.289 303.653,251.289 303.653,252.608 305.85,252.608 305.85,253.928 305.955,253.928 \n",
       "  305.955,255.248 307.938,255.248 307.938,256.567 309.491,256.567 309.491,257.887 311.158,257.887 311.158,259.207 311.194,259.207 311.194,260.526 312.361,260.526 \n",
       "  312.361,261.846 312.832,261.846 312.832,263.166 314.046,263.166 314.046,264.485 315.464,264.485 315.464,265.805 315.573,265.805 315.573,267.125 316.963,267.125 \n",
       "  316.963,268.444 318.954,268.444 318.954,269.764 319.029,269.764 319.029,271.084 319.693,271.084 319.693,269.764 320.052,269.764 320.052,271.084 320.387,271.084 \n",
       "  320.387,272.403 320.737,272.403 320.737,273.723 322.731,273.723 322.731,275.043 324.16,275.043 324.16,276.362 326.564,276.362 326.564,277.682 327.426,277.682 \n",
       "  327.426,276.362 327.669,276.362 327.669,277.682 329.959,277.682 329.959,276.362 330.873,276.362 330.873,277.682 334.59,277.682 334.59,279.001 336.313,279.001 \n",
       "  336.313,280.321 341.837,280.321 341.837,281.641 348.455,281.641 348.455,282.96 348.912,282.96 348.912,284.28 352.746,284.28 352.746,285.6 353.733,285.6 \n",
       "  353.733,286.919 354.57,286.919 354.57,288.239 355.105,288.239 355.105,289.559 355.141,289.559 355.141,290.878 355.971,290.878 355.971,292.198 358.02,292.198 \n",
       "  358.02,293.518 359.34,293.518 359.34,294.837 370.687,294.837 370.687,296.157 372.806,296.157 372.806,297.477 373.95,297.477 373.95,298.796 375.249,298.796 \n",
       "  375.249,300.116 382.855,300.116 382.855,301.436 382.953,301.436 382.953,300.116 383.995,300.116 383.995,301.436 385.972,301.436 385.972,302.755 388.152,302.755 \n",
       "  388.152,304.075 392.016,304.075 392.016,305.395 397.315,305.395 397.315,306.714 398.931,306.714 398.931,308.034 401.096,308.034 401.096,309.354 403.495,309.354 \n",
       "  403.495,310.673 407.226,310.673 407.226,311.993 408.273,311.993 408.273,313.313 410.366,313.313 410.366,314.632 413.824,314.632 413.824,315.952 421.337,315.952 \n",
       "  421.337,317.271 421.561,317.271 421.561,318.591 422.957,318.591 422.957,319.911 434.902,319.911 434.902,321.23 437.47,321.23 437.47,322.55 443.516,322.55 \n",
       "  443.516,323.87 448.914,323.87 448.914,325.189 486.445,325.189 486.445,326.509 486.639,326.509 486.639,327.829 496.259,327.829 496.259,329.148 500.49,329.148 \n",
       "  500.49,330.468 516.364,330.468 516.364,331.788 516.723,331.788 516.723,333.107 535.871,333.107 535.871,334.427 544.561,334.427 544.561,335.747 546.671,335.747 \n",
       "  546.671,337.066 574.577,337.066 574.577,338.386 \n",
       "  \"/>\n",
       "<polyline clip-path=\"url(#clip2102)\" style=\"stroke:#ffff00; stroke-width:1; stroke-opacity:1; fill:none\" points=\"\n",
       "  65.1798,350.263 81.2478,350.263 81.2478,348.943 107.37,348.943 107.37,347.624 115.215,347.624 115.215,346.304 116.339,346.304 116.339,344.984 119.824,344.984 \n",
       "  119.824,343.665 121.329,343.665 121.329,342.345 122.236,342.345 122.236,341.025 123.24,341.025 123.24,339.706 123.716,339.706 123.716,338.386 124.311,338.386 \n",
       "  124.311,337.066 124.665,337.066 124.665,335.747 125.5,335.747 125.5,334.427 125.743,334.427 125.743,333.107 127.475,333.107 127.475,331.788 132.289,331.788 \n",
       "  132.289,330.468 133.259,330.468 133.259,329.148 133.776,329.148 133.776,327.829 133.915,327.829 133.915,326.509 134.197,326.509 134.197,325.189 135.345,325.189 \n",
       "  135.345,323.87 136.771,323.87 136.771,322.55 137.509,322.55 137.509,321.23 137.882,321.23 137.882,319.911 139.352,319.911 139.352,318.591 140.771,318.591 \n",
       "  140.771,317.271 141.743,317.271 141.743,315.952 142.48,315.952 142.48,314.632 144.786,314.632 144.786,313.313 145.197,313.313 145.197,311.993 146.738,311.993 \n",
       "  146.738,310.673 148.506,310.673 148.506,309.354 148.832,309.354 148.832,308.034 148.86,308.034 148.86,306.714 150.715,306.714 150.715,305.395 151.674,305.395 \n",
       "  151.674,304.075 153.486,304.075 153.486,302.755 155.907,302.755 155.907,301.436 158.403,301.436 158.403,300.116 159.353,300.116 159.353,298.796 159.487,298.796 \n",
       "  159.487,297.477 160.895,297.477 160.895,296.157 161.319,296.157 161.319,294.837 162.992,294.837 162.992,293.518 165.09,293.518 165.09,292.198 165.6,292.198 \n",
       "  165.6,290.878 166.481,290.878 166.481,289.559 167.543,289.559 167.543,288.239 168.858,288.239 168.858,286.919 171.233,286.919 171.233,285.6 171.355,285.6 \n",
       "  171.355,284.28 172.887,284.28 172.887,282.96 173.335,282.96 173.335,281.641 173.418,281.641 173.418,280.321 177.173,280.321 177.173,279.001 178.051,279.001 \n",
       "  178.051,277.682 178.621,277.682 178.621,276.362 178.829,276.362 178.829,275.043 178.895,275.043 178.895,273.723 180.085,273.723 180.085,272.403 180.266,272.403 \n",
       "  180.266,271.084 180.875,271.084 180.875,269.764 182.431,269.764 182.431,268.444 182.73,268.444 182.73,267.125 182.987,267.125 182.987,265.805 183.147,265.805 \n",
       "  183.147,264.485 184.506,264.485 184.506,263.166 184.953,263.166 184.953,261.846 185.779,261.846 185.779,260.526 185.79,260.526 185.79,259.207 186.685,259.207 \n",
       "  186.685,257.887 192.741,257.887 192.741,256.567 194.547,256.567 194.547,255.248 195.766,255.248 195.766,253.928 196.174,253.928 196.174,252.608 197.328,252.608 \n",
       "  197.328,251.289 198.087,251.289 198.087,249.969 199.617,249.969 199.617,248.649 199.661,248.649 199.661,247.33 199.897,247.33 199.897,246.01 201.045,246.01 \n",
       "  201.045,244.69 201.329,244.69 201.329,243.371 201.334,243.371 201.334,242.051 202.213,242.051 202.213,240.732 202.425,240.732 202.425,239.412 202.915,239.412 \n",
       "  202.915,238.092 203.063,238.092 203.063,236.773 203.091,236.773 203.091,235.453 203.261,235.453 203.261,234.133 203.735,234.133 203.735,232.814 204.319,232.814 \n",
       "  204.319,231.494 204.322,231.494 204.322,230.174 204.854,230.174 204.854,228.855 206.006,228.855 206.006,227.535 206.07,227.535 206.07,226.215 206.191,226.215 \n",
       "  206.191,224.896 208.586,224.896 208.586,223.576 209.091,223.576 209.091,222.256 210.082,222.256 210.082,220.937 210.646,220.937 210.646,219.617 212.919,219.617 \n",
       "  212.919,218.297 213.732,218.297 213.732,216.978 214.737,216.978 214.737,215.658 215.42,215.658 215.42,214.338 215.93,214.338 215.93,213.019 218.607,213.019 \n",
       "  218.607,211.699 218.891,211.699 218.891,210.379 219.981,210.379 219.981,209.06 222.207,209.06 222.207,207.74 222.75,207.74 222.75,206.42 223.659,206.42 \n",
       "  223.659,205.101 224.184,205.101 224.184,203.781 227.5,203.781 227.5,202.462 227.634,202.462 227.634,201.142 228.8,201.142 228.8,199.822 229.293,199.822 \n",
       "  229.293,198.503 229.682,198.503 229.682,197.183 230.129,197.183 230.129,195.863 232.023,195.863 232.023,194.544 233.001,194.544 233.001,193.224 233.626,193.224 \n",
       "  233.626,191.904 238.941,191.904 238.941,190.585 241.961,190.585 241.961,189.265 242.407,189.265 242.407,187.945 242.924,187.945 242.924,186.626 243.533,186.626 \n",
       "  243.533,185.306 243.888,185.306 243.888,183.986 244.972,183.986 244.972,182.667 245.733,182.667 245.733,181.347 245.943,181.347 245.943,180.027 246.78,180.027 \n",
       "  246.78,178.708 249.136,178.708 249.136,177.388 249.595,177.388 249.595,176.068 249.601,176.068 249.601,174.749 249.63,174.749 249.63,173.429 250.737,173.429 \n",
       "  250.737,172.109 251.239,172.109 251.239,170.79 251.618,170.79 251.618,169.47 252.729,169.47 252.729,168.151 253.93,168.151 253.93,166.831 257.387,166.831 \n",
       "  257.387,165.511 258.571,165.511 258.571,164.192 260.935,164.192 260.935,162.872 261.552,162.872 261.552,161.552 262.725,161.552 262.725,160.233 263.128,160.233 \n",
       "  263.128,158.913 263.187,158.913 263.187,157.593 263.612,157.593 263.612,156.274 264.292,156.274 264.292,154.954 265.392,154.954 265.392,153.634 266.581,153.634 \n",
       "  266.581,152.315 272.603,152.315 272.603,150.995 272.869,150.995 272.869,149.675 273.278,149.675 273.278,148.356 273.589,148.356 273.589,147.036 274.586,147.036 \n",
       "  274.586,145.716 274.623,145.716 274.623,144.397 274.811,144.397 274.811,143.077 274.868,143.077 274.868,141.757 276.464,141.757 276.464,140.438 278.579,140.438 \n",
       "  278.579,139.118 281.219,139.118 281.219,137.798 282.066,137.798 282.066,136.479 283.045,136.479 283.045,135.159 288.734,135.159 288.734,133.839 291.52,133.839 \n",
       "  291.52,132.52 295.907,132.52 295.907,131.2 297.486,131.2 297.486,129.881 298.192,129.881 298.192,128.561 300.756,128.561 300.756,127.241 302.022,127.241 \n",
       "  302.022,125.922 302.995,125.922 302.995,124.602 303.653,124.602 303.653,123.282 305.85,123.282 305.85,121.963 305.955,121.963 305.955,120.643 307.938,120.643 \n",
       "  307.938,119.323 309.491,119.323 309.491,118.004 311.158,118.004 311.158,116.684 311.194,116.684 311.194,115.364 312.361,115.364 312.361,114.045 312.832,114.045 \n",
       "  312.832,112.725 314.046,112.725 314.046,111.405 315.464,111.405 315.464,110.086 315.573,110.086 315.573,108.766 316.963,108.766 316.963,107.446 318.954,107.446 \n",
       "  318.954,106.127 319.029,106.127 319.029,104.807 320.052,104.807 320.052,103.487 320.387,103.487 320.387,102.168 320.737,102.168 320.737,100.848 322.731,100.848 \n",
       "  322.731,99.5285 324.16,99.5285 324.16,98.2088 326.564,98.2088 326.564,96.8892 327.669,96.8892 327.669,95.5695 330.873,95.5695 330.873,94.2498 334.59,94.2498 \n",
       "  334.59,92.9302 336.313,92.9302 336.313,91.6105 341.837,91.6105 341.837,90.2909 348.455,90.2909 348.455,88.9712 348.912,88.9712 348.912,87.6516 352.746,87.6516 \n",
       "  352.746,86.3319 353.733,86.3319 353.733,85.0123 354.57,85.0123 354.57,83.6926 355.105,83.6926 355.105,82.373 355.141,82.373 355.141,81.0533 355.971,81.0533 \n",
       "  355.971,79.7336 358.02,79.7336 358.02,78.414 359.34,78.414 359.34,77.0943 370.687,77.0943 370.687,75.7747 372.806,75.7747 372.806,74.455 373.95,74.455 \n",
       "  373.95,73.1354 375.249,73.1354 375.249,71.8157 382.855,71.8157 382.855,70.4961 383.995,70.4961 383.995,69.1764 385.972,69.1764 385.972,67.8568 388.152,67.8568 \n",
       "  388.152,66.5371 392.016,66.5371 392.016,65.2174 397.315,65.2174 397.315,63.8978 398.931,63.8978 398.931,62.5781 401.096,62.5781 401.096,61.2585 403.495,61.2585 \n",
       "  403.495,59.9388 407.226,59.9388 407.226,58.6192 408.273,58.6192 408.273,57.2995 410.366,57.2995 410.366,55.9799 413.824,55.9799 413.824,54.6602 421.337,54.6602 \n",
       "  421.337,53.3406 421.561,53.3406 421.561,52.0209 422.957,52.0209 422.957,50.7012 434.902,50.7012 434.902,49.3816 437.47,49.3816 437.47,48.0619 443.516,48.0619 \n",
       "  443.516,46.7423 448.914,46.7423 448.914,45.4226 486.445,45.4226 486.445,44.103 486.639,44.103 486.639,42.7833 496.259,42.7833 496.259,41.4637 500.49,41.4637 \n",
       "  500.49,40.144 516.364,40.144 516.364,38.8244 516.723,38.8244 516.723,37.5047 535.871,37.5047 535.871,36.185 544.561,36.185 544.561,34.8654 546.671,34.8654 \n",
       "  546.671,33.5457 574.577,33.5457 574.577,32.2261 \n",
       "  \"/>\n",
       "<polygon clip-path=\"url(#clip2100)\" points=\"\n",
       "493.627,108.291 562.315,108.291 562.315,32.691 493.627,32.691 \n",
       "  \" fill=\"#ffffff\" fill-opacity=\"1\"/>\n",
       "<polyline clip-path=\"url(#clip2100)\" style=\"stroke:#000000; stroke-width:1; stroke-opacity:1; fill:none\" points=\"\n",
       "  493.627,108.291 562.315,108.291 562.315,32.691 493.627,32.691 493.627,108.291 \n",
       "  \"/>\n",
       "<polyline clip-path=\"url(#clip2100)\" style=\"stroke:#800080; stroke-width:1; stroke-opacity:1; fill:none\" points=\"\n",
       "  499.627,47.811 535.627,47.811 \n",
       "  \"/>\n",
       "<g clip-path=\"url(#clip2100)\">\n",
       "<text style=\"fill:#000000; fill-opacity:1; font-family:Arial,Helvetica Neue,Helvetica,sans-serif; font-size:12; text-anchor:start;\" transform=\"rotate(0, 541.627, 52.311)\" x=\"541.627\" y=\"52.311\">S</text>\n",
       "</g>\n",
       "<polyline clip-path=\"url(#clip2100)\" style=\"stroke:#68838b; stroke-width:1; stroke-opacity:1; fill:none\" points=\"\n",
       "  499.627,62.931 535.627,62.931 \n",
       "  \"/>\n",
       "<g clip-path=\"url(#clip2100)\">\n",
       "<text style=\"fill:#000000; fill-opacity:1; font-family:Arial,Helvetica Neue,Helvetica,sans-serif; font-size:12; text-anchor:start;\" transform=\"rotate(0, 541.627, 67.431)\" x=\"541.627\" y=\"67.431\">E</text>\n",
       "</g>\n",
       "<polyline clip-path=\"url(#clip2100)\" style=\"stroke:#90ee90; stroke-width:1; stroke-opacity:1; fill:none\" points=\"\n",
       "  499.627,78.051 535.627,78.051 \n",
       "  \"/>\n",
       "<g clip-path=\"url(#clip2100)\">\n",
       "<text style=\"fill:#000000; fill-opacity:1; font-family:Arial,Helvetica Neue,Helvetica,sans-serif; font-size:12; text-anchor:start;\" transform=\"rotate(0, 541.627, 82.551)\" x=\"541.627\" y=\"82.551\">I</text>\n",
       "</g>\n",
       "<polyline clip-path=\"url(#clip2100)\" style=\"stroke:#ffff00; stroke-width:1; stroke-opacity:1; fill:none\" points=\"\n",
       "  499.627,93.171 535.627,93.171 \n",
       "  \"/>\n",
       "<g clip-path=\"url(#clip2100)\">\n",
       "<text style=\"fill:#000000; fill-opacity:1; font-family:Arial,Helvetica Neue,Helvetica,sans-serif; font-size:12; text-anchor:start;\" transform=\"rotate(0, 541.627, 97.671)\" x=\"541.627\" y=\"97.671\">R</text>\n",
       "</g>\n",
       "</svg>\n"
      ]
     },
     "execution_count": 11,
     "metadata": {},
     "output_type": "execute_result"
    }
   ],
   "source": [
    "plot(sim.events)"
   ]
  },
  {
   "cell_type": "markdown",
   "metadata": {},
   "source": [
    "We can also visualize transmission networks through time - below is an animation showing the spread of an epidemic for the first 50 time units."
   ]
  },
  {
   "cell_type": "code",
   "execution_count": 13,
   "metadata": {},
   "outputs": [
    {
     "name": "stderr",
     "output_type": "stream",
     "text": [
      "\u001b[1m\u001b[36mINFO: \u001b[39m\u001b[22m\u001b[36mSaved animation to /Users/justin/.julia/v0.6/Pathogen/examples/01_epidemic_animation.mp4\n",
      "\u001b[39m"
     ]
    },
    {
     "data": {
      "text/html": [
       "<video controls><source src=\"01_epidemic_animation.mp4?0.4751888136971121>\" type=\"video/mp4\"></video>"
      ],
      "text/plain": [
       "Plots.AnimatedGif(\"/Users/justin/.julia/v0.6/Pathogen/examples/01_epidemic_animation.mp4\")"
      ]
     },
     "execution_count": 13,
     "metadata": {},
     "output_type": "execute_result"
    }
   ],
   "source": [
    "epidemic_animation = @animate for t in linspace(10., 25., 100) # From t = 10.0 to t= 20.0 with 100 increments\n",
    "    plot(sim.transmission_network, sim.population, sim.events, t)\n",
    "end\n",
    "mp4(epidemic_animation, Pkg.dir(\"Pathogen\")*\"/examples/01_epidemic_animation.mp4\", fps=10)"
   ]
  },
  {
   "cell_type": "code",
   "execution_count": null,
   "metadata": {},
   "outputs": [],
   "source": []
  }
 ],
 "metadata": {
  "kernelspec": {
   "display_name": "Julia 0.6.3",
   "language": "julia",
   "name": "julia-0.6"
  },
  "language_info": {
   "file_extension": ".jl",
   "mimetype": "application/julia",
   "name": "julia",
   "version": "0.6.3"
  }
 },
 "nbformat": 4,
 "nbformat_minor": 2
}
