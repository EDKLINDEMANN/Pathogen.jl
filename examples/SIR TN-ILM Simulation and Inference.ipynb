{
 "cells": [
  {
   "cell_type": "markdown",
   "metadata": {},
   "source": [
    "# SIR Simulation"
   ]
  },
  {
   "cell_type": "code",
   "execution_count": null,
   "metadata": {},
   "outputs": [],
   "source": [
    "# Required packages\n",
    "using Distances,\n",
    "      Pathogen,\n",
    "      Random,\n",
    "      Plots, \n",
    "      Plots.PlotMeasures,\n",
    "      StatsBase\n",
    "\n",
    "# Set seed\n",
    "Random.seed!(54321)"
   ]
  },
  {
   "cell_type": "code",
   "execution_count": null,
   "metadata": {},
   "outputs": [],
   "source": [
    "# Generate population\n",
    "n = 100\n",
    "risks = DataFrame(x = rand(Uniform(0, 15), n),\n",
    "                  y = rand(Uniform(0, 30), n),\n",
    "                  riskfactor1 = rand(Gamma(), n))\n",
    "\n",
    "# Precalculate distances\n",
    "dists = [euclidean([risks[i, :x];\n",
    "                    risks[i, :y]],\n",
    "                   [risks[j, :x];\n",
    "                    risks[j, :y]]) for i = 1:n, j = 1:n]\n",
    "\n",
    "pop = Population(risks, dists)"
   ]
  },
  {
   "cell_type": "code",
   "execution_count": null,
   "metadata": {},
   "outputs": [],
   "source": [
    "# Define risk functions/TN-ILM structure\n",
    "function _constant(params::Vector{Float64}, pop::Population, i::Int64)\n",
    "  return params[1]\n",
    "end\n",
    "\n",
    "function _one(params::Vector{Float64}, pop::Population, i::Int64)\n",
    "  return 1.0\n",
    "end\n",
    "\n",
    "function _linear(params::Vector{Float64}, pop::Population, i::Int64)\n",
    "  return params[1] * pop.risks[i, :riskfactor1]\n",
    "end\n",
    "\n",
    "function _powerlaw(params::Vector{Float64}, pop::Population, i::Int64, k::Int64)\n",
    "  β = params[1]\n",
    "  d = pop.distances[k, i]\n",
    "  return d^(-β)\n",
    "end\n",
    "\n",
    "rf = RiskFunctions{SIR}(_constant, # sparks function\n",
    "                        _one, # susceptibility function\n",
    "                        _powerlaw, # infectivity function\n",
    "                        _one, # transmissability function\n",
    "                        _linear) # removal function\n",
    "\n",
    "# Parametrize risk functions for simulation\n",
    "rparams = RiskParameters{SIR}([0.0001], # sparks function parameter(s)\n",
    "                              Float64[], # susceptibility function parameter(s)\n",
    "                              [4.0], # infectivity function parameter(s)\n",
    "                              Float64[], # transmissibility function parameter(s)\n",
    "                              [0.1]) # removal function parameter(s)"
   ]
  },
  {
   "cell_type": "code",
   "execution_count": null,
   "metadata": {},
   "outputs": [],
   "source": [
    "# Set starting states in population\n",
    "# Set first individual as infectious, others as susceptible to start\n",
    "starting_states = append!([State_I], fill(State_S, n-1))\n",
    "\n",
    "# Initialize Simulation\n",
    "sim = Simulation(pop, starting_states, rf, rparams)\n",
    "\n",
    "# Simulate!\n",
    "simulate!(sim, tmax=200.0)"
   ]
  },
  {
   "cell_type": "code",
   "execution_count": null,
   "metadata": {},
   "outputs": [],
   "source": [
    "# Simulation plots\n",
    "gr(dpi=200)\n",
    "\n",
    "# Epidemic Curve\n",
    "p1 = plot(sim.events, 0.0, 200.0, legendfont=font(6), xaxis=font(10), bottom_margin=30px)\n",
    "\n",
    "# Population/TransmissionNetwork plots\n",
    "p2=plot(sim.transmission_network, sim.population, sim.events, 0.0, title=\"Time = 0\", titlefontsize = 8)\n",
    "p3=plot(sim.transmission_network, sim.population, sim.events, 50.0, title=\"Time = 50\", titlefontsize = 8)\n",
    "p4=plot(sim.transmission_network, sim.population, sim.events, 100.0, title=\"Time = 100\", titlefontsize = 8)\n",
    "p5=plot(sim.transmission_network, sim.population, sim.events, 150.0, title=\"Time = 150\", titlefontsize = 8)\n",
    "p6=plot(sim.transmission_network, sim.population, sim.events, 200.0, title=\"Time = 200\", titlefontsize = 8)\n",
    "l = @layout [a;\n",
    "             b c d e f]\n",
    "combinedplots1 = plot(p1, p2, p3, p4, p5, p6, layout=l)\n",
    "png(combinedplots1, joinpath(@__DIR__, \"epiplot.png\"))"
   ]
  },
  {
   "cell_type": "markdown",
   "metadata": {},
   "source": [
    "![Epidemic Visualization](epiplot.png)"
   ]
  },
  {
   "cell_type": "code",
   "execution_count": null,
   "metadata": {},
   "outputs": [],
   "source": [
    "# Transmission animation\n",
    "anim = @animate for simtime = range(0.0, 200.0, step=1.0)\n",
    "    p1 = plot(sim.transmission_network, sim.population, sim.events, simtime, markersize=4, legend=:none, xlim=(-2,17))\n",
    "    p2=plot([simtime], [1.0], seriestype=:scatter, markercolor=:black, markersize=4, marker=:dtriangle, legend=:none, xlabel=\"Time\", framestyle=:origin, grid=:none, tick_direction=:out, yaxis=false, xticks=0:25:200, aspect_ratio=4, ylim=(-1,1), xlim=(-10,210), xaxis=font(8))\n",
    "    l = @layout [a{0.975h}; b]   \n",
    "    plot(p1, p2, layout=l)\n",
    "end\n",
    "gif(anim, joinpath(@__DIR__, \"epianimation.gif\"), fps = 20)"
   ]
  },
  {
   "cell_type": "markdown",
   "metadata": {},
   "source": [
    "![Epidemic Animation](epianimation.gif)"
   ]
  },
  {
   "cell_type": "code",
   "execution_count": null,
   "metadata": {},
   "outputs": [],
   "source": [
    "# Generate observations with Uniform(0.5, 2.5) observation delay for infection and removal\n",
    "obs = observe(sim, Uniform(0.5, 2.5), Uniform(0.5, 2.5), force=true)\n",
    "\n",
    "# Optimistically assume we know the functional form of epidemic (i.e. use same risk functions used for simulation purposes)\n",
    "# Specify some priors for the risk parameters of our various risk functions\n",
    "rpriors = RiskPriors{SIR}([Exponential(0.0001)],\n",
    "                          UnivariateDistribution[],\n",
    "                          [Uniform(1.0, 7.0)],\n",
    "                          UnivariateDistribution[],\n",
    "                          [Uniform(0.0, 1.0)])\n",
    "\n",
    "# Set some extents for event data augmentation\n",
    "ee = EventExtents{SIR}(5.0, 5.0)"
   ]
  },
  {
   "cell_type": "code",
   "execution_count": null,
   "metadata": {},
   "outputs": [],
   "source": [
    "# Initialize MCMC\n",
    "mcmc = MCMC(obs, ee, pop, rf, rpriors)\n",
    "start!(mcmc, attempts=50000) # 1 chain, with 50k initialization attempts\n",
    "\n",
    "# Run MCMC\n",
    "iterate!(mcmc, 50000, 1.0, condition_on_network=true, event_batches=5)"
   ]
  },
  {
   "cell_type": "code",
   "execution_count": null,
   "metadata": {},
   "outputs": [],
   "source": [
    "# MCMC and posterior plots\n",
    "p1 = plot(1:20:50001,\n",
    "  mcmc.markov_chains[1].risk_parameters, yscale=:log10, title=\"TN-ILM parameters\", xguidefontsize=8, yguidefontsize=8, xtickfontsize=7, ytickfontsize=7, titlefontsize=11, bottom_margin=30px)\n",
    "\n",
    "p2 = plot(mcmc.markov_chains[1].events[10000], State_S,\n",
    "          linealpha=0.01, title=\"S\", xguidefontsize=8, yguidefontsize=8,\n",
    "          xtickfontsize=7, ytickfontsize=7, titlefontsize=11)\n",
    "for i=10020:20:50000\n",
    "  plot!(p2, mcmc.markov_chains[1].events[i], State_S, linealpha=0.01)\n",
    "end\n",
    "plot!(p2, sim.events, State_S, linecolor=:black, linewidth=1.5)\n",
    "\n",
    "p3 = plot(mcmc.markov_chains[1].events[10000], State_I,\n",
    "          linealpha=0.01, title=\"I\", xguidefontsize=8, yguidefontsize=8, xtickfontsize=7, ytickfontsize=7, titlefontsize=11)\n",
    "for i=10020:20:50000\n",
    "  plot!(p3, mcmc.markov_chains[1].events[i], State_I, linealpha=0.01)\n",
    "end\n",
    "plot!(p3, sim.events, State_I, linecolor=:black, linewidth=1.5)\n",
    "\n",
    "p4 = plot(mcmc.markov_chains[1].events[10000], State_R,\n",
    "          linealpha=0.01, title=\"R\", xguidefontsize=8, yguidefontsize=8, xtickfontsize=7, ytickfontsize=7, titlefontsize=11)\n",
    "for i=10020:20:50000\n",
    "  plot!(p4, mcmc.markov_chains[1].events[i], State_R, linealpha=0.01)\n",
    "end\n",
    "plot!(p4, sim.events, State_R, linecolor=:black, linewidth=1.5)\n",
    "\n",
    "l = @layout [a; [b c d]]\n",
    "combinedplots2 = plot(p1, p2, p3, p4, layout=l)\n",
    "png(combinedplots2, joinpath(@__DIR__, \"posterior.png\"))"
   ]
  },
  {
   "cell_type": "markdown",
   "metadata": {},
   "source": [
    "![Posterior](posterior.png)"
   ]
  },
  {
   "cell_type": "code",
   "execution_count": null,
   "metadata": {},
   "outputs": [],
   "source": [
    "p1 = plot(sim.transmission_network, sim.population, title=\"True Transmission\\nNetwork\", titlefontsize=11, framestyle=:box)\n",
    "\n",
    "tnp = TransmissionNetworkPosterior(mcmc.markov_chains[1].transmission_network[10000:20:50000])\n",
    "p2 = plot(tnp, sim.population, title=\"Transmission Network\\nPosterior Distribution\", titlefontsize=11, framestyle=:box)\n",
    "\n",
    "combinedplots3 = plot(p1, p2, layout=(1, 2))\n",
    "png(combinedplots3, joinpath(@__DIR__, \"posterior_tn.png\"))"
   ]
  },
  {
   "cell_type": "markdown",
   "metadata": {},
   "source": [
    "![Transmission Posterior](posterior_tn.png)"
   ]
  },
  {
   "cell_type": "code",
   "execution_count": null,
   "metadata": {},
   "outputs": [],
   "source": [
    "# Convert Risk Parameter MC into an array to summarize\n",
    "tracedata = convert(Array{Float64, 2}, mcmc.markov_chains[1].risk_parameters)\n",
    "\n",
    "# Posterior mean estimates\n",
    "# 95% credible interval\n",
    "tracesummary = vcat(mean(tracedata[10000:20:50000, :], dims=1), \n",
    "                    [quantile(tracedata[10000:20:50000, i], j) \n",
    "                    for j = [0.025, 0.975], i = 1:3])"
   ]
  }
 ],
 "metadata": {
  "@webio": {
   "lastCommId": null,
   "lastKernelId": null
  },
  "kernelspec": {
   "display_name": "Julia 1.3.1",
   "language": "julia",
   "name": "julia-1.3"
  },
  "language_info": {
   "file_extension": ".jl",
   "mimetype": "application/julia",
   "name": "julia",
   "version": "1.3.1"
  }
 },
 "nbformat": 4,
 "nbformat_minor": 4
}
