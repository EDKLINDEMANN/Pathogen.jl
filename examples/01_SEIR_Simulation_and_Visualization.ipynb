{
 "cells": [
  {
   "cell_type": "markdown",
   "metadata": {},
   "source": [
    "# Introduction to Pathogen.jl"
   ]
  },
  {
   "cell_type": "markdown",
   "metadata": {},
   "source": [
    "## Initialization"
   ]
  },
  {
   "cell_type": "markdown",
   "metadata": {},
   "source": [
    "We start by loading Pathogen.jl in julia 1.0"
   ]
  },
  {
   "cell_type": "code",
   "execution_count": null,
   "metadata": {},
   "outputs": [],
   "source": [
    "using Distributed\n",
    "addprocs(3)\n",
    "@everywhere using Pkg\n",
    "@everywhere Pkg.activate(joinpath(@__DIR__, \"../\"))\n",
    "using CSV, Distributed, DelimitedFiles, Distances, LinearAlgebra, Plots, Random, Distributions, DataFrames\n",
    "@everywhere using Pathogen"
   ]
  },
  {
   "cell_type": "markdown",
   "metadata": {},
   "source": [
    "Additionally we'll use the core Packages:\n",
    "* `Random` for setting the random seed for replicability\n",
    "* `Distances` for various efficienct distance calculation methods\n",
    "* `DataFrames` for storing individual level information\n",
    "* `Distributions` for random generation of individual level information\n",
    "* `Plots` for visualization"
   ]
  },
  {
   "cell_type": "markdown",
   "metadata": {},
   "source": [
    "## Simulation\n",
    "We'll set the seed for random number generation such that our results here are reproducible:"
   ]
  },
  {
   "cell_type": "code",
   "execution_count": null,
   "metadata": {},
   "outputs": [],
   "source": [
    "Random.seed!(5432)"
   ]
  },
  {
   "cell_type": "markdown",
   "metadata": {},
   "source": [
    "We'll define a population consisting of *n* individuals, uniformaly distributed over a 10x10 unit area. For our population we'll assume to have information on a single risk factor, which we'll distribute following a Gamma(1,1) distribution.\n",
    "\n",
    "With Pathogen.jl, the `Population` type contains all population information, it consists of:\n",
    "* `risks` - an optional `DataFrame` with all individual level information (risk factors, location)\n",
    "* `distances` - an optional Array{T<:Any, 2} with precalculated distances\n",
    "* `individuals` - the number of individuals in the population"
   ]
  },
  {
   "cell_type": "code",
   "execution_count": null,
   "metadata": {},
   "outputs": [],
   "source": [
    "n = 100\n",
    "\n",
    "risks = DataFrame(x = rand(Uniform(0, 10), n),\n",
    "                  y = rand(Uniform(0, 10), n),\n",
    "                  riskfactor1 = rand(Gamma(), n))\n",
    "\n",
    "pop = Population(risks)\n",
    "\n",
    "# Will precalculate distances\n",
    "pop.distances = [euclidean([risks[:x][i]; risks[:y][i]], [risks[:x][j]; risks[:y][j]]) for i = 1:pop.individuals, j = 1:pop.individuals]\n"
   ]
  },
  {
   "cell_type": "markdown",
   "metadata": {},
   "source": [
    "Pathogen.jl supports SEIR, SEI, SIR, and SI individual level models. Within each of those model types, the user has full control over the functions describing individual specific transition rates between disease states (*i.e.* form of, and relevant risk factors to, susceptibility, infectivity, transmissability, latency, removal, and sparks functions when applicable). For ease of use, some common forms of these functions are provided in `examples/risk_functions.jl` which can either be loaded and used directly, or serve as examples to help the user construct their own. For this example we will use some of these functions directly in an SEIR individual level model. "
   ]
  },
  {
   "cell_type": "code",
   "execution_count": null,
   "metadata": {},
   "outputs": [],
   "source": [
    "@everywhere include(joinpath(@__DIR__, \"risk_functions.jl\"))\n",
    "\n",
    "rf = RiskFunctions{SEIR}(_constant, # sparks function\n",
    "                         _coefficient, # susceptibility function\n",
    "                         _powerlaw, # transmissability function\n",
    "                         _one, # infectivity function\n",
    "                         _constant, # latency function\n",
    "                         _constant) # removal function"
   ]
  },
  {
   "cell_type": "markdown",
   "metadata": {},
   "source": [
    "Each of these functions is parameterized by a `Vector{Float64}`..."
   ]
  },
  {
   "cell_type": "code",
   "execution_count": null,
   "metadata": {},
   "outputs": [],
   "source": [
    "rparams = RiskParameters{SEIR}([0.001], # sparks function parameter(s)\n",
    "                               [1.0], # susceptibility function parameter(s)\n",
    "                               [1.0, 6.0], # transmissibility function parameter(s)\n",
    "                               Float64[], # infectivity function parameter(s)\n",
    "                               [0.1], # latency function parameter(s)\n",
    "                               [0.05]) # removal function parameter(s)"
   ]
  },
  {
   "cell_type": "markdown",
   "metadata": {},
   "source": [
    "We initialize an Epidemic `Simulation` object by supplying the population `DataFrame` with our individual level model risk functions and their associated parametrizations."
   ]
  },
  {
   "cell_type": "code",
   "execution_count": null,
   "metadata": {},
   "outputs": [],
   "source": [
    "sim = Simulation(pop, rf, rparams)"
   ]
  },
  {
   "cell_type": "markdown",
   "metadata": {},
   "source": [
    "This simulation can now be ran until either a specified stop condition is met (computation time, simulation time, or a maximum number of iterations), or until there are no further possible events."
   ]
  },
  {
   "cell_type": "code",
   "execution_count": null,
   "metadata": {},
   "outputs": [],
   "source": [
    "simulate!(sim, tmax=100.0)"
   ]
  },
  {
   "cell_type": "markdown",
   "metadata": {},
   "source": [
    "## Simulation Visualization\n",
    "Using our preferred plotting backend we can produce several informative plots for a simulated epidemic..."
   ]
  },
  {
   "cell_type": "code",
   "execution_count": null,
   "metadata": {},
   "outputs": [],
   "source": [
    "gr()"
   ]
  },
  {
   "cell_type": "markdown",
   "metadata": {},
   "source": [
    "a `plot()` method is provided for `Events` objects - such as those generated with an epidemic simulation. This will plot an epidemic curve."
   ]
  },
  {
   "cell_type": "code",
   "execution_count": null,
   "metadata": {
    "scrolled": false
   },
   "outputs": [],
   "source": [
    "plot(sim.events)\n",
    "png(joinpath(@__DIR__, \"01_epidemic_curve.png\"))"
   ]
  },
  {
   "cell_type": "markdown",
   "metadata": {},
   "source": [
    "We can also visualize transmission networks through time - below is an animation showing the spread of an epidemic for the first 100 time units."
   ]
  },
  {
   "cell_type": "code",
   "execution_count": null,
   "metadata": {},
   "outputs": [],
   "source": [
    "epidemic_animation = @animate for t in range(0.0, stop=100.0, length=100) # From t = 0.0 to t= 100.0 with 100 increments\n",
    "    plot(sim.transmission_network, sim.population, sim.events, t)\n",
    "end\n",
    "mp4(epidemic_animation, joinpath(@__DIR__, \"01_epidemic_animation.mp4\"), fps=10)"
   ]
  },
  {
   "cell_type": "markdown",
   "metadata": {},
   "source": [
    "## Inference"
   ]
  },
  {
   "cell_type": "code",
   "execution_count": null,
   "metadata": {},
   "outputs": [],
   "source": [
    "# Generate observations with Uniform(0, 2) observation delay for infection and removal\n",
    "obs = observe(sim, Uniform(0.0, 2.0), Uniform(0.0, 2.0))"
   ]
  },
  {
   "cell_type": "code",
   "execution_count": null,
   "metadata": {},
   "outputs": [],
   "source": [
    "# Optimistically assume we know the functional form of epidemic (i.e. use same risk functions used for simulation purposes)\n",
    "# Specify some priors for the risk parameters of our various risk functions\n",
    "# Set some extents for event data augmentation\n",
    "\n",
    "rpriors = RiskPriors{SEIR}([Uniform(0.0, 0.01)],\n",
    "                           [Uniform(0.0, 2.0)],\n",
    "                           [Uniform(0.0, 4.0); Uniform(1.0, 8.0)],\n",
    "                           UnivariateDistribution[],\n",
    "                           [Uniform(0.0, 1.0)],\n",
    "                           [Uniform(0.0, 1.0)])\n",
    "\n",
    "ee = EventExtents{SEIR}(20.0, 5.0, 5.0)"
   ]
  },
  {
   "cell_type": "code",
   "execution_count": null,
   "metadata": {},
   "outputs": [],
   "source": [
    "# Initialize MCMC\n",
    "mcmc = MCMC(obs, ee, pop, rf, rpriors)\n",
    "start!(mcmc, 3, attempts=1000) # 3 chains, 1000 initialization attempts each"
   ]
  },
  {
   "cell_type": "code",
   "execution_count": null,
   "metadata": {},
   "outputs": [],
   "source": [
    "# Run MCMC\n",
    "iterate!(mcmc, 1000, Matrix(Diagonal([5.0e-6; 5.0e-3; 0.01; 5.0e-4; 0.001; 0.005])), 0.5) # 1k iterations per chain"
   ]
  },
  {
   "cell_type": "code",
   "execution_count": null,
   "metadata": {},
   "outputs": [],
   "source": [
    "# Visualization of epidemic curve convergence\n",
    "epidemic_animation = @animate for i = 1:20:9981\n",
    "    plot(mcmc.markov_chains[2].events[i], 0.0, 100.0, ylims=(0, 100), linealpha=0.1)\n",
    "end\n",
    "mp4(epidemic_animation, joinpath(@__DIR__, \"01_epidemic_curve_mcmc.mp4\"), fps=10)"
   ]
  },
  {
   "cell_type": "code",
   "execution_count": null,
   "metadata": {},
   "outputs": [],
   "source": [
    "# Visualization of epidemic curve posterior\n",
    "plot(mcmc.markov_chains[2].events[5000], 0.0, 100.0, ylims=(0, 100), alpha=0.01, legend=false)\n",
    "for i = 5010:5:10000, j=1:3\n",
    "    plot!(mcmc.markov_chains[j].events[i], 0.0, 100.0, ylims=(0, 100), alpha=0.01, legend=false)\n",
    "end\n",
    "png(joinpath(@__DIR__, \"01_epidemic_curve_posterior.png\"))"
   ]
  }
 ],
 "metadata": {
  "kernelspec": {
   "display_name": "Julia 1.0.0",
   "language": "julia",
   "name": "julia-1.0"
  },
  "language_info": {
   "file_extension": ".jl",
   "mimetype": "application/julia",
   "name": "julia",
   "version": "1.0.0"
  }
 },
 "nbformat": 4,
 "nbformat_minor": 2
}
