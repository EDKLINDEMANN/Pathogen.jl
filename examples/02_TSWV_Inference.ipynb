{
 "cells": [
  {
   "cell_type": "markdown",
   "metadata": {},
   "source": [
    "## An SI model to a Tomato Spotted Wilt Virus experiment\n",
    "In this example we will perform SI model inference using data on the spread of Tomato Spotted Wilt Virus (TSWV) in a greenhouse from Hughes et al. (1997). In this experiment, 520 plants regularly spaced in a 10m x 26m greenhouse were examined for pressence of TSWV once every two weeks. Plants were not removed after showing signs of infection by TSWV. The experiment concluded after 14 weeks, which saw a total of 327 individual plants infected.\n",
    "\n",
    "### References\n",
    "* Hughes G, McRoberts N, Madden LV, Nelson SC (1997). “Validating Mathematical Models of Plant-Disease Progress in Space and Time.” Mathematical Medicine and Biology: A Journal of the Institute of Mathematics and Its Applications, 14(2), 85– 112."
   ]
  },
  {
   "cell_type": "markdown",
   "metadata": {},
   "source": [
    "## Initialization\n",
    "Inference with `Pathogen.jl` is able to utilize multiple processors, we will begin by adding processors to julia, and then loading `Pathogen.jl`"
   ]
  },
  {
   "cell_type": "code",
   "execution_count": 1,
   "metadata": {
    "scrolled": true
   },
   "outputs": [
    {
     "name": "stderr",
     "output_type": "stream",
     "text": [
      "\u001b[1m\u001b[36mINFO: \u001b[39m\u001b[22m\u001b[36mRecompiling stale cache file /Users/justin/.julia/lib/v0.6/DataStreams.ji for module DataStreams.\n",
      "\u001b[39m\u001b[1m\u001b[36mINFO: \u001b[39m\u001b[22m\u001b[36mRecompiling stale cache file /Users/justin/.julia/lib/v0.6/Pathogen.ji for module Pathogen.\n",
      "\u001b[39m"
     ]
    }
   ],
   "source": [
    "addprocs(2)\n",
    "using Pathogen"
   ]
  },
  {
   "cell_type": "markdown",
   "metadata": {},
   "source": [
    "Additionally we'll use:\n",
    "* DataFrames.jl for individual level information\n",
    "* Distributions.jl for specification of priors for Bayesian inference\n",
    "* Plot.jl for visualization (using whichever visualization backend your prefer)\n",
    "* CSV.jl for CSV file I/O"
   ]
  },
  {
   "cell_type": "code",
   "execution_count": 2,
   "metadata": {},
   "outputs": [
    {
     "name": "stderr",
     "output_type": "stream",
     "text": [
      "\u001b[1m\u001b[36mINFO: \u001b[39m\u001b[22m\u001b[36mRecompiling stale cache file /Users/justin/.julia/lib/v0.6/Plots.ji for module Plots.\n",
      "\u001b[39m\u001b[1m\u001b[36mINFO: \u001b[39m\u001b[22m\u001b[36mRecompiling stale cache file /Users/justin/.julia/lib/v0.6/CSV.ji for module CSV.\n",
      "\u001b[39m"
     ]
    }
   ],
   "source": [
    "@everywhere using DataFrames, Distributions\n",
    "using Plots, CSV"
   ]
  },
  {
   "cell_type": "markdown",
   "metadata": {},
   "source": [
    "We'll set the seed for random number generation such that our results here are reproducible:"
   ]
  },
  {
   "cell_type": "code",
   "execution_count": 3,
   "metadata": {},
   "outputs": [
    {
     "data": {
      "text/plain": [
       "MersenneTwister(UInt32[0x00001538], Base.dSFMT.DSFMT_state(Int32[-1744756614, 1072761743, -2028083806, 1073624598, -581637934, 1073626379, 327696063, 1073382742, 738168642, 1073600735  …  -595993142, 1072726157, 913087430, 1073114622, 2001550298, -624279679, 872770575, 1763491762, 382, 0]), [1.02439, 1.5414, 1.35383, 1.24987, 1.73905, 1.48576, 1.44361, 1.67668, 1.162, 1.30967  …  1.51968, 1.90295, 1.46019, 1.94635, 1.97917, 1.21626, 1.74589, 1.77603, 1.13019, 1.07442], 382)"
      ]
     },
     "execution_count": 3,
     "metadata": {},
     "output_type": "execute_result"
    }
   ],
   "source": [
    "srand(5432)"
   ]
  },
  {
   "cell_type": "markdown",
   "metadata": {},
   "source": [
    "## TSWV Data\n",
    "We'll import the TSWV, provided as csv files. \n",
    "\n",
    "The first CSV file contains X, Y locations in metres for each individual plant in the study. \n",
    "\n",
    "The second CSV file contains records of the first day in which each individual was observed as being infected by TSWV. `NaN` indicates that no signs of infection were observed within the 14 week study period."
   ]
  },
  {
   "cell_type": "code",
   "execution_count": 4,
   "metadata": {},
   "outputs": [
    {
     "data": {
      "text/plain": [
       "Pathogen.SI model observations (n=520)"
      ]
     },
     "execution_count": 4,
     "metadata": {},
     "output_type": "execute_result"
    }
   ],
   "source": [
    "# Use CSV.jl for DataFrames I/O\n",
    "#\n",
    "# We know the types of the columns, so we'll manually specify those. \n",
    "# * Individual IDs are `Int64`\n",
    "# * X,Y coordinates are `Float64`s\n",
    "pop = CSV.read(Pkg.dir(\"Pathogen\")*\"/examples/02_TSWV_locations.csv\", types=[Int64; Float64; Float64])\n",
    "\n",
    "# Use julia's included CSV interface for simple vector of observation times\n",
    "raw_observations = readcsv(Pkg.dir(\"Pathogen\")*\"/examples/02_TSWV_infection_observations.csv\")[:]\n",
    "\n",
    "# Create an `EventObservations` object with `Pathogen.jl`\n",
    "obs = EventObservations{SI}(raw_observations)"
   ]
  },
  {
   "cell_type": "markdown",
   "metadata": {},
   "source": [
    "We will now formulate our `SI` individual level model. For our example, this model will be quite simple as we have a contained artifical environment which limits exogeneous transmissions, and we do not have individual level risk factors to consider beyond basic location data. We will use some common functions which have been prewritten in our examples folder.\n",
    "\n"
   ]
  },
  {
   "cell_type": "code",
   "execution_count": 5,
   "metadata": {},
   "outputs": [
    {
     "data": {
      "text/plain": [
       "Pathogen.SI model risk functions"
      ]
     },
     "execution_count": 5,
     "metadata": {},
     "output_type": "execute_result"
    }
   ],
   "source": [
    "@everywhere include(Pkg.dir(\"Pathogen\")*\"/examples/risk_functions.jl\")\n",
    "\n",
    "rf = RiskFunctions{SI}(_zero, # sparks function - we will assume no exogenous transmissions and set this to zero\n",
    "                       _one, # susceptibility function - we do not have individual level risk factor information to explore here, so will set to a constant 1\n",
    "                       _powerlaw_w_intercept, # transmissability function - we will use a powerlaw (with intercept) kernel. This provides a spatial and non-spatial component to infection transmissions. This has 3 parameters.\n",
    "                       _one) # infectivity function - we do not have individual level risk factor information to explore here, so will set to a constant 1"
   ]
  },
  {
   "cell_type": "code",
   "execution_count": 6,
   "metadata": {},
   "outputs": [
    {
     "data": {
      "text/plain": [
       "Pathogen.SI model risk function priors"
      ]
     },
     "execution_count": 6,
     "metadata": {},
     "output_type": "execute_result"
    }
   ],
   "source": [
    "rpriors = RiskPriors{SI}(UnivariateDistribution[], # empty `UnivariateDistribution` vector for all parameter-less functions\n",
    "                         UnivariateDistribution[], \n",
    "                         [Gamma(10.0, 10.0); Gamma(10.0, 10.0); Gamma(1.0, 1.0)], # Relatively uninformative priors with appropriate support\n",
    "                         UnivariateDistribution[])"
   ]
  },
  {
   "cell_type": "markdown",
   "metadata": {},
   "source": [
    "We provide some bounds to event times in comparision to observation times. Actual onset of infectiousness in this study could have occurred any time between plant examinations. This means the observation delay could be up to 14.0 days."
   ]
  },
  {
   "cell_type": "code",
   "execution_count": 7,
   "metadata": {},
   "outputs": [
    {
     "data": {
      "text/plain": [
       "Pathogen.SI model event extents"
      ]
     },
     "execution_count": 7,
     "metadata": {},
     "output_type": "execute_result"
    }
   ],
   "source": [
    "ee = EventExtents{SI}(14.0)"
   ]
  },
  {
   "cell_type": "code",
   "execution_count": 8,
   "metadata": {},
   "outputs": [
    {
     "name": "stderr",
     "output_type": "stream",
     "text": [
      "Performing 1000 MCMC initialization attempts (pid = 2)100% Time: 0:03:19\u001b[KPerforming 1000 MCMC initialization attempts (pid = 2) 99%  ETA: 0:00:01\u001b[K\u001b[K\u001b[K\u001b[K\u001b[K\u001b[K\u001b[K\n",
      "Performing 1000 MCMC initialization attempts (pid = 3)100% Time: 0:03:24\u001b[K\n"
     ]
    },
    {
     "data": {
      "text/plain": [
       "Pathogen.SI model MCMC with 2 chains"
      ]
     },
     "execution_count": 8,
     "metadata": {},
     "output_type": "execute_result"
    }
   ],
   "source": [
    "mcmc = MCMC(obs, ee, pop, rf, rpriors)\n",
    "start!(mcmc, 2, attempts = 1000)"
   ]
  },
  {
   "cell_type": "code",
   "execution_count": 9,
   "metadata": {},
   "outputs": [
    {
     "name": "stderr",
     "output_type": "stream",
     "text": [
      "Performing 1000 MCMC iterations (pid = 2)100%|██████████| Time: 15:58:41\u001b[K\u001b[K\u001b[K\u001b[K\u001b[K\u001b[K\u001b[K\u001b[K\u001b[K\u001b[K\u001b[K\u001b[K\n",
      "Performing 1000 MCMC iterations (pid = 3)100%|██████████| Time: 16:30:09\u001b[K\n"
     ]
    },
    {
     "data": {
      "text/plain": [
       "Pathogen.SI model MCMC with 2 chains"
      ]
     },
     "execution_count": 9,
     "metadata": {},
     "output_type": "execute_result"
    }
   ],
   "source": [
    "iterate!(mcmc, 1000, diagm([0.1; 0.1; 0.01]), 1.0)"
   ]
  }
 ],
 "metadata": {
  "kernelspec": {
   "display_name": "Julia 0.6.3",
   "language": "julia",
   "name": "julia-0.6"
  },
  "language_info": {
   "file_extension": ".jl",
   "mimetype": "application/julia",
   "name": "julia",
   "version": "0.6.3"
  }
 },
 "nbformat": 4,
 "nbformat_minor": 2
}
