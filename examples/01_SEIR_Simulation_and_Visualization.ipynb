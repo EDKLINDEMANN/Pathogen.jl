{
 "cells": [
  {
   "cell_type": "markdown",
   "metadata": {},
   "source": [
    "# Introduction to Pathogen.jl"
   ]
  },
  {
   "cell_type": "markdown",
   "metadata": {},
   "source": [
    "## Initialization"
   ]
  },
  {
   "cell_type": "markdown",
   "metadata": {},
   "source": [
    "We start by loading Pathogen.jl in julia"
   ]
  },
  {
   "cell_type": "code",
   "execution_count": 1,
   "metadata": {},
   "outputs": [],
   "source": [
    "using Pathogen"
   ]
  },
  {
   "cell_type": "markdown",
   "metadata": {},
   "source": [
    "Additionally we'll use: \n",
    "* DataFrames.jl for individual level information\n",
    "* Distributions.jl for random generation of individual level information\n",
    "* Plot.jl for visualization (using whichever visualization backend your prefer)"
   ]
  },
  {
   "cell_type": "code",
   "execution_count": 2,
   "metadata": {},
   "outputs": [],
   "source": [
    "using DataFrames, Distributions, Plots"
   ]
  },
  {
   "cell_type": "markdown",
   "metadata": {},
   "source": [
    "## Simulation\n",
    "We'll set the seed for random number generation such that our results here are reproducible:"
   ]
  },
  {
   "cell_type": "code",
   "execution_count": 3,
   "metadata": {},
   "outputs": [
    {
     "data": {
      "text/plain": [
       "MersenneTwister(UInt32[0x00001538], Base.dSFMT.DSFMT_state(Int32[-1744756614, 1072761743, -2028083806, 1073624598, -581637934, 1073626379, 327696063, 1073382742, 738168642, 1073600735  …  -595993142, 1072726157, 913087430, 1073114622, 2001550298, -624279679, 872770575, 1763491762, 382, 0]), [1.36761, 1.00015, 1.98927, 1.78174, 1.72822, 1.18004, 1.90886, 1.69161, 1.10749, 1.15988  …  1.23881, 1.26343, 1.9516, 1.91399, 1.99889, 1.29981, 1.86603, 1.76112, 1.32771, 1.50391], 382)"
      ]
     },
     "execution_count": 3,
     "metadata": {},
     "output_type": "execute_result"
    }
   ],
   "source": [
    "srand(5432)"
   ]
  },
  {
   "cell_type": "markdown",
   "metadata": {},
   "source": [
    "We'll define a population consisting of *n* individuals, uniformaly distributed over a 5x5 unit area. For our population we'll assume to have information on a single risk factor, which we'll distribute following a Gamma(1,1) distribution."
   ]
  },
  {
   "cell_type": "code",
   "execution_count": 4,
   "metadata": {},
   "outputs": [
    {
     "data": {
      "text/plain": [
       "250-element Array{Float64,1}:\n",
       " 0.316139 \n",
       " 1.58715  \n",
       " 2.01711  \n",
       " 0.769778 \n",
       " 4.86302  \n",
       " 0.513204 \n",
       " 2.00259  \n",
       " 1.28672  \n",
       " 0.617716 \n",
       " 1.06868  \n",
       " 1.11697  \n",
       " 4.37915  \n",
       " 1.79654  \n",
       " ⋮        \n",
       " 0.11919  \n",
       " 0.614955 \n",
       " 2.6781   \n",
       " 0.0718771\n",
       " 0.288097 \n",
       " 0.572776 \n",
       " 0.176569 \n",
       " 1.39745  \n",
       " 2.77806  \n",
       " 0.998993 \n",
       " 0.154508 \n",
       " 0.403527 "
      ]
     },
     "execution_count": 4,
     "metadata": {},
     "output_type": "execute_result"
    }
   ],
   "source": [
    "n = 250\n",
    "x_coordinates = rand(Uniform(0, 5), n)\n",
    "y_coordinates = rand(Uniform(0, 5), n)\n",
    "riskfactor1 = rand(Gamma(), n)"
   ]
  },
  {
   "cell_type": "markdown",
   "metadata": {},
   "source": [
    "With Pathogen.jl, `DataFrame`s are used for individual information. We'll organize location and risk factor information into one before proceeding with epidemic simulation."
   ]
  },
  {
   "cell_type": "code",
   "execution_count": 5,
   "metadata": {},
   "outputs": [
    {
     "data": {
      "text/html": [
       "<table class=\"data-frame\"><thead><tr><th></th><th>x</th><th>y</th><th>riskfactor1</th></tr></thead><tbody><tr><th>1</th><td>0.228898</td><td>3.85258</td><td>0.316139</td></tr><tr><th>2</th><td>0.790745</td><td>0.655958</td><td>1.58715</td></tr><tr><th>3</th><td>1.3871</td><td>4.82773</td><td>2.01711</td></tr><tr><th>4</th><td>1.41325</td><td>3.24259</td><td>0.769778</td></tr><tr><th>5</th><td>4.65462</td><td>3.82383</td><td>4.86302</td></tr><tr><th>6</th><td>0.372692</td><td>0.659327</td><td>0.513204</td></tr><tr><th>7</th><td>2.75931</td><td>1.69056</td><td>2.00259</td></tr><tr><th>8</th><td>3.32778</td><td>4.38539</td><td>1.28672</td></tr><tr><th>9</th><td>1.94665</td><td>4.26608</td><td>0.617716</td></tr><tr><th>10</th><td>2.48698</td><td>2.90387</td><td>1.06868</td></tr><tr><th>11</th><td>3.96148</td><td>3.49686</td><td>1.11697</td></tr><tr><th>12</th><td>0.57852</td><td>4.81065</td><td>4.37915</td></tr><tr><th>13</th><td>2.31204</td><td>4.85195</td><td>1.79654</td></tr><tr><th>14</th><td>3.02229</td><td>0.529989</td><td>1.37716</td></tr><tr><th>15</th><td>1.73831</td><td>0.105386</td><td>3.46564</td></tr><tr><th>16</th><td>0.255365</td><td>4.77938</td><td>1.09926</td></tr><tr><th>17</th><td>1.38369</td><td>4.20585</td><td>1.25921</td></tr><tr><th>18</th><td>0.122674</td><td>3.24797</td><td>0.807774</td></tr><tr><th>19</th><td>0.888966</td><td>2.15368</td><td>2.28733</td></tr><tr><th>20</th><td>3.96143</td><td>2.14819</td><td>0.168772</td></tr><tr><th>21</th><td>1.3095</td><td>4.78886</td><td>0.986405</td></tr><tr><th>22</th><td>1.45364</td><td>2.92418</td><td>1.68435</td></tr><tr><th>23</th><td>4.67437</td><td>2.32064</td><td>1.16885</td></tr><tr><th>24</th><td>4.48038</td><td>1.71354</td><td>3.18388</td></tr><tr><th>25</th><td>4.01811</td><td>2.18639</td><td>3.07247</td></tr><tr><th>26</th><td>1.53575</td><td>1.70053</td><td>0.743411</td></tr><tr><th>27</th><td>0.22292</td><td>0.744535</td><td>1.20293</td></tr><tr><th>28</th><td>1.73447</td><td>4.62715</td><td>0.694186</td></tr><tr><th>29</th><td>3.99586</td><td>4.41975</td><td>1.03059</td></tr><tr><th>30</th><td>0.76763</td><td>0.517234</td><td>1.96821</td></tr><tr><th>&vellip;</th><td>&vellip;</td><td>&vellip;</td><td>&vellip;</td></tr></tbody></table>"
      ],
      "text/plain": [
       "250×3 DataFrames.DataFrame\n",
       "│ Row │ x        │ y        │ riskfactor1 │\n",
       "├─────┼──────────┼──────────┼─────────────┤\n",
       "│ 1   │ 0.228898 │ 3.85258  │ 0.316139    │\n",
       "│ 2   │ 0.790745 │ 0.655958 │ 1.58715     │\n",
       "│ 3   │ 1.3871   │ 4.82773  │ 2.01711     │\n",
       "│ 4   │ 1.41325  │ 3.24259  │ 0.769778    │\n",
       "│ 5   │ 4.65462  │ 3.82383  │ 4.86302     │\n",
       "│ 6   │ 0.372692 │ 0.659327 │ 0.513204    │\n",
       "│ 7   │ 2.75931  │ 1.69056  │ 2.00259     │\n",
       "│ 8   │ 3.32778  │ 4.38539  │ 1.28672     │\n",
       "│ 9   │ 1.94665  │ 4.26608  │ 0.617716    │\n",
       "│ 10  │ 2.48698  │ 2.90387  │ 1.06868     │\n",
       "│ 11  │ 3.96148  │ 3.49686  │ 1.11697     │\n",
       "⋮\n",
       "│ 239 │ 3.35969  │ 0.358905 │ 0.11919     │\n",
       "│ 240 │ 1.65597  │ 2.50162  │ 0.614955    │\n",
       "│ 241 │ 3.23744  │ 0.605073 │ 2.6781      │\n",
       "│ 242 │ 4.3219   │ 4.22558  │ 0.0718771   │\n",
       "│ 243 │ 1.23091  │ 1.93405  │ 0.288097    │\n",
       "│ 244 │ 3.48383  │ 3.7922   │ 0.572776    │\n",
       "│ 245 │ 1.14081  │ 2.9169   │ 0.176569    │\n",
       "│ 246 │ 2.93865  │ 1.34337  │ 1.39745     │\n",
       "│ 247 │ 3.03935  │ 1.91714  │ 2.77806     │\n",
       "│ 248 │ 4.20125  │ 2.32942  │ 0.998993    │\n",
       "│ 249 │ 0.527053 │ 1.87527  │ 0.154508    │\n",
       "│ 250 │ 0.288906 │ 4.65977  │ 0.403527    │"
      ]
     },
     "execution_count": 5,
     "metadata": {},
     "output_type": "execute_result"
    }
   ],
   "source": [
    "pop = DataFrame(x = x_coordinates,\n",
    "                y = y_coordinates,\n",
    "                riskfactor1 = riskfactor1)"
   ]
  },
  {
   "cell_type": "markdown",
   "metadata": {},
   "source": [
    "Pathogen.jl supports SEIR, SEI, SIR, and SI individual level models. Within each of those model types, the user has full control over the functions describing individual specific transition rates between disease states (*i.e.* form of, and relevant risk factors to, susceptibility, infectivity, transmissability, latency, removal, and sparks functions when applicable). For ease of use, some common forms of these functions are provided in `examples/risk_functions.jl` which can either be loaded and used directly, or serve as examples to help the user construct their own. For this example we will use some of these functions directly in an SEIR individual level model. "
   ]
  },
  {
   "cell_type": "code",
   "execution_count": 6,
   "metadata": {},
   "outputs": [
    {
     "data": {
      "text/plain": [
       "Pathogen.RiskFunctions{Pathogen.SEIR}(_constant, _coefficient, _powerlaw, _one, _constant, _constant)"
      ]
     },
     "execution_count": 6,
     "metadata": {},
     "output_type": "execute_result"
    }
   ],
   "source": [
    "include(Pkg.dir(\"Pathogen\")*\"/examples/risk_functions.jl\")\n",
    "\n",
    "rf = RiskFunctions{SEIR}(_constant, # sparks function\n",
    "                         _coefficient, # susceptibility function\n",
    "                         _powerlaw, # transmissability function\n",
    "                         _one, # infectivity function\n",
    "                         _constant, # latency function\n",
    "                         _constant) # removal function"
   ]
  },
  {
   "cell_type": "markdown",
   "metadata": {},
   "source": [
    "Each of these functions is parameterized by a `Vector{Float64}`..."
   ]
  },
  {
   "cell_type": "code",
   "execution_count": 7,
   "metadata": {},
   "outputs": [
    {
     "data": {
      "text/plain": [
       "Pathogen.RiskParameters{Pathogen.SEIR}([0.001], [1.0], [2.0, 5.0], Float64[], [0.1], [0.05])"
      ]
     },
     "execution_count": 7,
     "metadata": {},
     "output_type": "execute_result"
    }
   ],
   "source": [
    "rparams = RiskParameters{SEIR}([0.001], # sparks function parameter(s)\n",
    "                               [1.0], # susceptibility function parameter(s)\n",
    "                               [2.0, 5.0], # transmissibility function parameter(s)\n",
    "                               Float64[], # infectivity function parameter(s)\n",
    "                               [0.1], # latency function parameter(s)\n",
    "                               [0.05]) # removal function parameter(s)"
   ]
  },
  {
   "cell_type": "markdown",
   "metadata": {},
   "source": [
    "We initialize an Epidemic `Simulation` object by supplying the population `DataFrame` with our individual level model risk functions and their associated parametrizations."
   ]
  },
  {
   "cell_type": "code",
   "execution_count": 8,
   "metadata": {},
   "outputs": [
    {
     "name": "stdout",
     "output_type": "stream",
     "text": [
      "SSSS"
     ]
    },
    {
     "data": {
      "text/plain": [
       "Pathogen.Simulation{Pathogen.SEIR}(0.0, 0, 250×3 DataFrames.DataFrame\n",
       "│ Row │ x        │ y        │ riskfactor1 │\n",
       "├─────┼──────────┼──────────┼─────────────┤\n",
       "│ 1   │ 0.228898 │ 3.85258  │ 0.316139    │\n",
       "│ 2   │ 0.790745 │ 0.655958 │ 1.58715     │\n",
       "│ 3   │ 1.3871   │ 4.82773  │ 2.01711     │\n",
       "│ 4   │ 1.41325  │ 3.24259  │ 0.769778    │\n",
       "│ 5   │ 4.65462  │ 3.82383  │ 4.86302     │\n",
       "│ 6   │ 0.372692 │ 0.659327 │ 0.513204    │\n",
       "│ 7   │ 2.75931  │ 1.69056  │ 2.00259     │\n",
       "│ 8   │ 3.32778  │ 4.38539  │ 1.28672     │\n",
       "│ 9   │ 1.94665  │ 4.26608  │ 0.617716    │\n",
       "│ 10  │ 2.48698  │ 2.90387  │ 1.06868     │\n",
       "│ 11  │ 3.96148  │ 3.49686  │ 1.11697     │\n",
       "⋮\n",
       "│ 239 │ 3.35969  │ 0.358905 │ 0.11919     │\n",
       "│ 240 │ 1.65597  │ 2.50162  │ 0.614955    │\n",
       "│ 241 │ 3.23744  │ 0.605073 │ 2.6781      │\n",
       "│ 242 │ 4.3219   │ 4.22558  │ 0.0718771   │\n",
       "│ 243 │ 1.23091  │ 1.93405  │ 0.288097    │\n",
       "│ 244 │ 3.48383  │ 3.7922   │ 0.572776    │\n",
       "│ 245 │ 1.14081  │ 2.9169   │ 0.176569    │\n",
       "│ 246 │ 2.93865  │ 1.34337  │ 1.39745     │\n",
       "│ 247 │ 3.03935  │ 1.91714  │ 2.77806     │\n",
       "│ 248 │ 4.20125  │ 2.32942  │ 0.998993    │\n",
       "│ 249 │ 0.527053 │ 1.87527  │ 0.154508    │\n",
       "│ 250 │ 0.288906 │ 4.65977  │ 0.403527    │, Pathogen.RiskFunctions{Pathogen.SEIR}(_constant, _coefficient, _powerlaw, _one, _constant, _constant), Pathogen.RiskParameters{Pathogen.SEIR}([0.001], [1.0], [2.0, 5.0], Float64[], [0.1], [0.05]), Pathogen.DiseaseState[, , , , , , , , ,   …  , , , , , , , , , ], Pathogen.TransmissionRates([0.001, 0.001, 0.001, 0.001, 0.001, 0.001, 0.001, 0.001, 0.001, 0.001  …  0.001, 0.001, 0.001, 0.001, 0.001, 0.001, 0.001, 0.001, 0.001, 0.001], [0.0 0.0 … 0.0 0.0; 0.0 0.0 … 0.0 0.0; … ; 0.0 0.0 … 0.0 0.0; 0.0 0.0 … 0.0 0.0]), Pathogen.EventRates{Pathogen.SEIR}([0.001, 0.001, 0.001, 0.001, 0.001, 0.001, 0.001, 0.001, 0.001, 0.001  …  0.001, 0.001, 0.001, 0.001, 0.001, 0.001, 0.001, 0.001, 0.001, 0.001], [0.0, 0.0, 0.0, 0.0, 0.0, 0.0, 0.0, 0.0, 0.0, 0.0  …  0.0, 0.0, 0.0, 0.0, 0.0, 0.0, 0.0, 0.0, 0.0, 0.0], [0.0, 0.0, 0.0, 0.0, 0.0, 0.0, 0.0, 0.0, 0.0, 0.0  …  0.0, 0.0, 0.0, 0.0, 0.0, 0.0, 0.0, 0.0, 0.0, 0.0], 250), Pathogen.Events{Pathogen.SEIR}([NaN, NaN, NaN, NaN, NaN, NaN, NaN, NaN, NaN, NaN  …  NaN, NaN, NaN, NaN, NaN, NaN, NaN, NaN, NaN, NaN], [NaN, NaN, NaN, NaN, NaN, NaN, NaN, NaN, NaN, NaN  …  NaN, NaN, NaN, NaN, NaN, NaN, NaN, NaN, NaN, NaN], [NaN, NaN, NaN, NaN, NaN, NaN, NaN, NaN, NaN, NaN  …  NaN, NaN, NaN, NaN, NaN, NaN, NaN, NaN, NaN, NaN], 250), TransmissionNetwork with 0 external, and 0\n",
       "             internal transmission(s))"
      ]
     },
     "execution_count": 8,
     "metadata": {},
     "output_type": "execute_result"
    }
   ],
   "source": [
    "sim = Simulation(pop, rf, rparams)"
   ]
  },
  {
   "cell_type": "markdown",
   "metadata": {},
   "source": [
    "This simulation can now be ran until either a specified stop condition is met (computation time, simulation time, or a maximum number of iterations), or until there are no further possible events."
   ]
  },
  {
   "cell_type": "code",
   "execution_count": 9,
   "metadata": {},
   "outputs": [
    {
     "name": "stdout",
     "output_type": "stream",
     "text": [
      "SSSSSSSSSSSSSSSSSimulating until: \n",
      "* a simulation time maximum of 100.0,\n",
      "* an iteration maximum of 1000, or,\n",
      "* a processing time maximum of Inf seconds.\n",
      "\n",
      "Simulation stopped: simulation time maximum reached\n"
     ]
    },
    {
     "data": {
      "text/plain": [
       "Pathogen.Simulation{Pathogen.SEIR}(102.19636671991468, 744, 250×3 DataFrames.DataFrame\n",
       "│ Row │ x        │ y        │ riskfactor1 │\n",
       "├─────┼──────────┼──────────┼─────────────┤\n",
       "│ 1   │ 0.228898 │ 3.85258  │ 0.316139    │\n",
       "│ 2   │ 0.790745 │ 0.655958 │ 1.58715     │\n",
       "│ 3   │ 1.3871   │ 4.82773  │ 2.01711     │\n",
       "│ 4   │ 1.41325  │ 3.24259  │ 0.769778    │\n",
       "│ 5   │ 4.65462  │ 3.82383  │ 4.86302     │\n",
       "│ 6   │ 0.372692 │ 0.659327 │ 0.513204    │\n",
       "│ 7   │ 2.75931  │ 1.69056  │ 2.00259     │\n",
       "│ 8   │ 3.32778  │ 4.38539  │ 1.28672     │\n",
       "│ 9   │ 1.94665  │ 4.26608  │ 0.617716    │\n",
       "│ 10  │ 2.48698  │ 2.90387  │ 1.06868     │\n",
       "│ 11  │ 3.96148  │ 3.49686  │ 1.11697     │\n",
       "⋮\n",
       "│ 239 │ 3.35969  │ 0.358905 │ 0.11919     │\n",
       "│ 240 │ 1.65597  │ 2.50162  │ 0.614955    │\n",
       "│ 241 │ 3.23744  │ 0.605073 │ 2.6781      │\n",
       "│ 242 │ 4.3219   │ 4.22558  │ 0.0718771   │\n",
       "│ 243 │ 1.23091  │ 1.93405  │ 0.288097    │\n",
       "│ 244 │ 3.48383  │ 3.7922   │ 0.572776    │\n",
       "│ 245 │ 1.14081  │ 2.9169   │ 0.176569    │\n",
       "│ 246 │ 2.93865  │ 1.34337  │ 1.39745     │\n",
       "│ 247 │ 3.03935  │ 1.91714  │ 2.77806     │\n",
       "│ 248 │ 4.20125  │ 2.32942  │ 0.998993    │\n",
       "│ 249 │ 0.527053 │ 1.87527  │ 0.154508    │\n",
       "│ 250 │ 0.288906 │ 4.65977  │ 0.403527    │, Pathogen.RiskFunctions{Pathogen.SEIR}(_constant, _coefficient, _powerlaw, _one, _constant, _constant), Pathogen.RiskParameters{Pathogen.SEIR}([0.001], [1.0], [2.0, 5.0], Float64[], [0.1], [0.05]), Pathogen.DiseaseState[, , , , , , , , ,   …  , , , , , , , , , ], Pathogen.TransmissionRates([0.0, 0.0, 0.0, 0.0, 0.0, 0.0, 0.0, 0.0, 0.0, 0.0  …  0.0, 0.0, 0.0, 0.0, 0.0, 0.0, 0.0, 0.0, 0.0, 0.0], [0.0 0.0 … 0.0 0.0; 0.0 0.0 … 0.0 0.0; … ; 0.0 0.0 … 0.0 0.0; 0.0 0.0 … 0.0 0.0]), Pathogen.EventRates{Pathogen.SEIR}([0.0, 0.0, 0.0, 0.0, 0.0, 0.0, 0.0, 0.0, 0.0, 0.0  …  0.0, 0.0, 0.0, 0.0, 0.0, 0.0, 0.0, 0.0, 0.0, 0.0], [0.0, 0.0, 0.0, 0.0, 0.0, 0.0, 0.0, 0.0, 0.0, 0.0  …  0.0, 0.0, 0.0, 0.0, 0.0, 0.0, 0.0, 0.0, 0.0, 0.0], [0.0, 0.0, 0.0, 0.0, 0.0, 0.0, 0.0, 0.0, 0.05, 0.0  …  0.0, 0.0, 0.0, 0.0, 0.0, 0.0, 0.0, 0.0, 0.0, 0.0], 250), Pathogen.Events{Pathogen.SEIR}([12.2089, 12.4618, 12.053, 12.345, 12.9767, 12.7472, 12.4429, 12.9381, 12.5455, 12.393  …  12.4125, 13.9562, 12.3736, 12.9529, 12.1721, 12.4144, 12.3743, 12.7225, 12.3735, 12.3786], [12.602, 24.8375, 15.4507, 25.6275, 17.6651, 16.1355, 29.7314, 17.9161, 34.6033, 49.938  …  13.4112, 16.9196, 22.3941, 20.4654, 42.6033, 30.2177, 21.5491, 19.8753, 22.3239, 13.0566], [54.1373, 39.9017, 41.3218, 47.1714, 19.4662, 20.9702, 41.2911, 54.1175, NaN, 58.568  …  26.608, 70.0133, 27.8903, 35.6214, 49.7959, 52.6423, 25.0035, 40.1116, 64.4847, 55.6684], 250), TransmissionNetwork with 1 external, and 249\n",
       "             internal transmission(s))"
      ]
     },
     "execution_count": 9,
     "metadata": {},
     "output_type": "execute_result"
    }
   ],
   "source": [
    "simulate!(sim, tmax=100.0)"
   ]
  },
  {
   "cell_type": "markdown",
   "metadata": {},
   "source": [
    "### Visualization\n",
    "Using our preferred plotting backend we can produce several informative plots for a simulated epidemic..."
   ]
  },
  {
   "cell_type": "code",
   "execution_count": 10,
   "metadata": {},
   "outputs": [
    {
     "data": {
      "text/plain": [
       "Plots.GRBackend()"
      ]
     },
     "execution_count": 10,
     "metadata": {},
     "output_type": "execute_result"
    }
   ],
   "source": [
    "gr()"
   ]
  },
  {
   "cell_type": "markdown",
   "metadata": {},
   "source": [
    "a `plot()` method is provided for `Events` objects - such as those generated within a simulation. This will create an epidemic plot."
   ]
  },
  {
   "cell_type": "code",
   "execution_count": 11,
   "metadata": {},
   "outputs": [
    {
     "data": {
      "image/svg+xml": [
       "<?xml version=\"1.0\" encoding=\"utf-8\"?>\n",
       "<svg xmlns=\"http://www.w3.org/2000/svg\" xmlns:xlink=\"http://www.w3.org/1999/xlink\" width=\"600\" height=\"400\" viewBox=\"0 0 600 400\">\n",
       "<defs>\n",
       "  <clipPath id=\"clip9700\">\n",
       "    <rect x=\"0\" y=\"0\" width=\"600\" height=\"400\"/>\n",
       "  </clipPath>\n",
       "</defs>\n",
       "<polygon clip-path=\"url(#clip9700)\" points=\"\n",
       "0,400 600,400 600,0 0,0 \n",
       "  \" fill=\"#ffffff\" fill-opacity=\"1\"/>\n",
       "<defs>\n",
       "  <clipPath id=\"clip9701\">\n",
       "    <rect x=\"120\" y=\"0\" width=\"421\" height=\"400\"/>\n",
       "  </clipPath>\n",
       "</defs>\n",
       "<polygon clip-path=\"url(#clip9700)\" points=\"\n",
       "59.4418,360.121 580.315,360.121 580.315,11.811 59.4418,11.811 \n",
       "  \" fill=\"#ffffff\" fill-opacity=\"1\"/>\n",
       "<defs>\n",
       "  <clipPath id=\"clip9702\">\n",
       "    <rect x=\"59\" y=\"11\" width=\"522\" height=\"349\"/>\n",
       "  </clipPath>\n",
       "</defs>\n",
       "<polyline clip-path=\"url(#clip9702)\" style=\"stroke:#000000; stroke-width:0.5; stroke-opacity:0.1; fill:none\" points=\"\n",
       "  111.072,360.121 111.072,11.811 \n",
       "  \"/>\n",
       "<polyline clip-path=\"url(#clip9702)\" style=\"stroke:#000000; stroke-width:0.5; stroke-opacity:0.1; fill:none\" points=\"\n",
       "  223.875,360.121 223.875,11.811 \n",
       "  \"/>\n",
       "<polyline clip-path=\"url(#clip9702)\" style=\"stroke:#000000; stroke-width:0.5; stroke-opacity:0.1; fill:none\" points=\"\n",
       "  336.679,360.121 336.679,11.811 \n",
       "  \"/>\n",
       "<polyline clip-path=\"url(#clip9702)\" style=\"stroke:#000000; stroke-width:0.5; stroke-opacity:0.1; fill:none\" points=\"\n",
       "  449.483,360.121 449.483,11.811 \n",
       "  \"/>\n",
       "<polyline clip-path=\"url(#clip9702)\" style=\"stroke:#000000; stroke-width:0.5; stroke-opacity:0.1; fill:none\" points=\"\n",
       "  562.287,360.121 562.287,11.811 \n",
       "  \"/>\n",
       "<polyline clip-path=\"url(#clip9702)\" style=\"stroke:#000000; stroke-width:0.5; stroke-opacity:0.1; fill:none\" points=\"\n",
       "  59.4418,350.263 580.315,350.263 \n",
       "  \"/>\n",
       "<polyline clip-path=\"url(#clip9702)\" style=\"stroke:#000000; stroke-width:0.5; stroke-opacity:0.1; fill:none\" points=\"\n",
       "  59.4418,284.28 580.315,284.28 \n",
       "  \"/>\n",
       "<polyline clip-path=\"url(#clip9702)\" style=\"stroke:#000000; stroke-width:0.5; stroke-opacity:0.1; fill:none\" points=\"\n",
       "  59.4418,218.297 580.315,218.297 \n",
       "  \"/>\n",
       "<polyline clip-path=\"url(#clip9702)\" style=\"stroke:#000000; stroke-width:0.5; stroke-opacity:0.1; fill:none\" points=\"\n",
       "  59.4418,152.315 580.315,152.315 \n",
       "  \"/>\n",
       "<polyline clip-path=\"url(#clip9702)\" style=\"stroke:#000000; stroke-width:0.5; stroke-opacity:0.1; fill:none\" points=\"\n",
       "  59.4418,86.3319 580.315,86.3319 \n",
       "  \"/>\n",
       "<polyline clip-path=\"url(#clip9702)\" style=\"stroke:#000000; stroke-width:0.5; stroke-opacity:0.1; fill:none\" points=\"\n",
       "  59.4418,20.3492 580.315,20.3492 \n",
       "  \"/>\n",
       "<polyline clip-path=\"url(#clip9700)\" style=\"stroke:#000000; stroke-width:1; stroke-opacity:1; fill:none\" points=\"\n",
       "  59.4418,360.121 580.315,360.121 \n",
       "  \"/>\n",
       "<polyline clip-path=\"url(#clip9700)\" style=\"stroke:#000000; stroke-width:1; stroke-opacity:1; fill:none\" points=\"\n",
       "  59.4418,360.121 59.4418,11.811 \n",
       "  \"/>\n",
       "<polyline clip-path=\"url(#clip9700)\" style=\"stroke:#000000; stroke-width:1; stroke-opacity:1; fill:none\" points=\"\n",
       "  111.072,360.121 111.072,354.896 \n",
       "  \"/>\n",
       "<polyline clip-path=\"url(#clip9700)\" style=\"stroke:#000000; stroke-width:1; stroke-opacity:1; fill:none\" points=\"\n",
       "  223.875,360.121 223.875,354.896 \n",
       "  \"/>\n",
       "<polyline clip-path=\"url(#clip9700)\" style=\"stroke:#000000; stroke-width:1; stroke-opacity:1; fill:none\" points=\"\n",
       "  336.679,360.121 336.679,354.896 \n",
       "  \"/>\n",
       "<polyline clip-path=\"url(#clip9700)\" style=\"stroke:#000000; stroke-width:1; stroke-opacity:1; fill:none\" points=\"\n",
       "  449.483,360.121 449.483,354.896 \n",
       "  \"/>\n",
       "<polyline clip-path=\"url(#clip9700)\" style=\"stroke:#000000; stroke-width:1; stroke-opacity:1; fill:none\" points=\"\n",
       "  562.287,360.121 562.287,354.896 \n",
       "  \"/>\n",
       "<polyline clip-path=\"url(#clip9700)\" style=\"stroke:#000000; stroke-width:1; stroke-opacity:1; fill:none\" points=\"\n",
       "  59.4418,350.263 67.2549,350.263 \n",
       "  \"/>\n",
       "<polyline clip-path=\"url(#clip9700)\" style=\"stroke:#000000; stroke-width:1; stroke-opacity:1; fill:none\" points=\"\n",
       "  59.4418,284.28 67.2549,284.28 \n",
       "  \"/>\n",
       "<polyline clip-path=\"url(#clip9700)\" style=\"stroke:#000000; stroke-width:1; stroke-opacity:1; fill:none\" points=\"\n",
       "  59.4418,218.297 67.2549,218.297 \n",
       "  \"/>\n",
       "<polyline clip-path=\"url(#clip9700)\" style=\"stroke:#000000; stroke-width:1; stroke-opacity:1; fill:none\" points=\"\n",
       "  59.4418,152.315 67.2549,152.315 \n",
       "  \"/>\n",
       "<polyline clip-path=\"url(#clip9700)\" style=\"stroke:#000000; stroke-width:1; stroke-opacity:1; fill:none\" points=\"\n",
       "  59.4418,86.3319 67.2549,86.3319 \n",
       "  \"/>\n",
       "<polyline clip-path=\"url(#clip9700)\" style=\"stroke:#000000; stroke-width:1; stroke-opacity:1; fill:none\" points=\"\n",
       "  59.4418,20.3492 67.2549,20.3492 \n",
       "  \"/>\n",
       "<g clip-path=\"url(#clip9700)\">\n",
       "<text style=\"fill:#000000; fill-opacity:1; font-family:Arial,Helvetica Neue,Helvetica,sans-serif; font-size:12; text-anchor:middle;\" transform=\"rotate(0, 111.072, 373.921)\" x=\"111.072\" y=\"373.921\">20</text>\n",
       "</g>\n",
       "<g clip-path=\"url(#clip9700)\">\n",
       "<text style=\"fill:#000000; fill-opacity:1; font-family:Arial,Helvetica Neue,Helvetica,sans-serif; font-size:12; text-anchor:middle;\" transform=\"rotate(0, 223.875, 373.921)\" x=\"223.875\" y=\"373.921\">40</text>\n",
       "</g>\n",
       "<g clip-path=\"url(#clip9700)\">\n",
       "<text style=\"fill:#000000; fill-opacity:1; font-family:Arial,Helvetica Neue,Helvetica,sans-serif; font-size:12; text-anchor:middle;\" transform=\"rotate(0, 336.679, 373.921)\" x=\"336.679\" y=\"373.921\">60</text>\n",
       "</g>\n",
       "<g clip-path=\"url(#clip9700)\">\n",
       "<text style=\"fill:#000000; fill-opacity:1; font-family:Arial,Helvetica Neue,Helvetica,sans-serif; font-size:12; text-anchor:middle;\" transform=\"rotate(0, 449.483, 373.921)\" x=\"449.483\" y=\"373.921\">80</text>\n",
       "</g>\n",
       "<g clip-path=\"url(#clip9700)\">\n",
       "<text style=\"fill:#000000; fill-opacity:1; font-family:Arial,Helvetica Neue,Helvetica,sans-serif; font-size:12; text-anchor:middle;\" transform=\"rotate(0, 562.287, 373.921)\" x=\"562.287\" y=\"373.921\">100</text>\n",
       "</g>\n",
       "<g clip-path=\"url(#clip9700)\">\n",
       "<text style=\"fill:#000000; fill-opacity:1; font-family:Arial,Helvetica Neue,Helvetica,sans-serif; font-size:12; text-anchor:end;\" transform=\"rotate(0, 53.4418, 354.763)\" x=\"53.4418\" y=\"354.763\">0</text>\n",
       "</g>\n",
       "<g clip-path=\"url(#clip9700)\">\n",
       "<text style=\"fill:#000000; fill-opacity:1; font-family:Arial,Helvetica Neue,Helvetica,sans-serif; font-size:12; text-anchor:end;\" transform=\"rotate(0, 53.4418, 288.78)\" x=\"53.4418\" y=\"288.78\">50</text>\n",
       "</g>\n",
       "<g clip-path=\"url(#clip9700)\">\n",
       "<text style=\"fill:#000000; fill-opacity:1; font-family:Arial,Helvetica Neue,Helvetica,sans-serif; font-size:12; text-anchor:end;\" transform=\"rotate(0, 53.4418, 222.797)\" x=\"53.4418\" y=\"222.797\">100</text>\n",
       "</g>\n",
       "<g clip-path=\"url(#clip9700)\">\n",
       "<text style=\"fill:#000000; fill-opacity:1; font-family:Arial,Helvetica Neue,Helvetica,sans-serif; font-size:12; text-anchor:end;\" transform=\"rotate(0, 53.4418, 156.815)\" x=\"53.4418\" y=\"156.815\">150</text>\n",
       "</g>\n",
       "<g clip-path=\"url(#clip9700)\">\n",
       "<text style=\"fill:#000000; fill-opacity:1; font-family:Arial,Helvetica Neue,Helvetica,sans-serif; font-size:12; text-anchor:end;\" transform=\"rotate(0, 53.4418, 90.8319)\" x=\"53.4418\" y=\"90.8319\">200</text>\n",
       "</g>\n",
       "<g clip-path=\"url(#clip9700)\">\n",
       "<text style=\"fill:#000000; fill-opacity:1; font-family:Arial,Helvetica Neue,Helvetica,sans-serif; font-size:12; text-anchor:end;\" transform=\"rotate(0, 53.4418, 24.8492)\" x=\"53.4418\" y=\"24.8492\">250</text>\n",
       "</g>\n",
       "<g clip-path=\"url(#clip9700)\">\n",
       "<text style=\"fill:#000000; fill-opacity:1; font-family:Arial,Helvetica Neue,Helvetica,sans-serif; font-size:16; text-anchor:middle;\" transform=\"rotate(0, 319.878, 397.6)\" x=\"319.878\" y=\"397.6\">Time</text>\n",
       "</g>\n",
       "<g clip-path=\"url(#clip9700)\">\n",
       "<text style=\"fill:#000000; fill-opacity:1; font-family:Arial,Helvetica Neue,Helvetica,sans-serif; font-size:16; text-anchor:middle;\" transform=\"rotate(-90, 14.4, 185.966)\" x=\"14.4\" y=\"185.966\">N</text>\n",
       "</g>\n",
       "<polyline clip-path=\"url(#clip9702)\" style=\"stroke:#800080; stroke-width:1; stroke-opacity:1; fill:none\" points=\"\n",
       "  65.082,21.6688 65.7549,21.6688 65.7549,22.9885 65.758,22.9885 65.758,24.3082 65.7598,24.3082 65.7598,25.6278 65.775,25.6278 65.775,26.9475 65.7751,26.9475 \n",
       "  65.7751,28.2671 65.7866,28.2671 65.7866,29.5868 65.8007,29.5868 65.8007,30.9064 65.8111,30.9064 65.8111,32.2261 65.8243,32.2261 65.8243,33.5457 65.8363,33.5457 \n",
       "  65.8363,34.8654 66.0386,34.8654 66.0386,36.185 66.1465,36.185 66.1465,37.5047 66.2115,37.5047 66.2115,38.8244 66.2491,38.8244 66.2491,40.144 66.3337,40.144 \n",
       "  66.3337,41.4637 66.3666,41.4637 66.3666,42.7833 66.3717,42.7833 66.3717,44.103 66.4841,44.103 66.4841,45.4226 66.6065,45.4226 66.6065,46.7423 66.7231,46.7423 \n",
       "  66.7231,48.0619 66.7474,48.0619 66.7474,49.3816 66.7596,49.3816 66.7596,50.7012 66.8629,50.7012 66.8629,52.0209 66.9207,52.0209 66.9207,53.3406 66.9431,53.3406 \n",
       "  66.9431,54.6602 67.0495,54.6602 67.0495,55.9799 67.0587,55.9799 67.0587,57.2995 67.1281,57.2995 67.1281,58.6192 67.2255,58.6192 67.2255,59.9388 67.4512,59.9388 \n",
       "  67.4512,61.2585 67.7132,61.2585 67.7132,62.5781 67.7425,62.5781 67.7425,63.8978 67.884,63.8978 67.884,65.2174 67.8961,65.2174 67.8961,66.5371 68.0143,66.5371 \n",
       "  68.0143,67.8568 68.0567,67.8568 68.0567,69.1764 68.0567,69.1764 68.0567,70.4961 68.0567,70.4961 68.0567,71.8157 68.0567,71.8157 68.0567,73.1354 68.0568,73.1354 \n",
       "  68.0568,74.455 68.0568,74.455 68.0568,75.7747 68.0568,75.7747 68.0568,77.0943 68.0568,77.0943 68.0568,78.414 68.0569,78.414 68.0569,79.7336 68.0569,79.7336 \n",
       "  68.0569,81.0533 68.057,81.0533 68.057,82.373 68.057,82.373 68.057,83.6926 68.0571,83.6926 68.0571,85.0123 68.0572,85.0123 68.0572,86.3319 68.0572,86.3319 \n",
       "  68.0572,87.6516 68.0574,87.6516 68.0574,88.9712 68.0576,88.9712 68.0576,90.2909 68.0576,90.2909 68.0576,91.6105 68.0578,91.6105 68.0578,92.9302 68.0579,92.9302 \n",
       "  68.0579,94.2498 68.0583,94.2498 68.0583,95.5695 68.0584,95.5695 68.0584,96.8892 68.0586,96.8892 68.0586,98.2088 68.0588,98.2088 68.0588,99.5285 68.0589,99.5285 \n",
       "  68.0589,100.848 68.0591,100.848 68.0591,102.168 68.0608,102.168 68.0608,103.487 68.061,103.487 68.061,104.807 68.0615,104.807 68.0615,106.127 68.0616,106.127 \n",
       "  68.0616,107.446 68.062,107.446 68.062,108.766 68.0643,108.766 68.0643,110.086 68.0683,110.086 68.0683,111.405 68.0699,111.405 68.0699,112.725 68.071,112.725 \n",
       "  68.071,114.045 68.0723,114.045 68.0723,115.364 68.0813,115.364 68.0813,116.684 68.0837,116.684 68.0837,118.004 68.0845,118.004 68.0845,119.323 68.0853,119.323 \n",
       "  68.0853,120.643 68.099,120.643 68.099,121.963 68.0997,121.963 68.0997,123.282 68.1001,123.282 68.1001,124.602 68.1001,124.602 68.1001,125.922 68.1023,125.922 \n",
       "  68.1023,127.241 68.108,127.241 68.108,128.561 68.1098,128.561 68.1098,129.881 68.1174,129.881 68.1174,131.2 68.1179,131.2 68.1179,132.52 68.1415,132.52 \n",
       "  68.1415,133.839 68.1445,133.839 68.1445,135.159 68.1575,135.159 68.1575,136.479 68.1664,136.479 68.1664,137.798 68.1669,137.798 68.1669,139.118 68.1918,139.118 \n",
       "  68.1918,140.438 68.2002,140.438 68.2002,141.757 68.2029,141.757 68.2029,143.077 68.203,143.077 68.203,144.397 68.219,144.397 68.219,145.716 68.2206,145.716 \n",
       "  68.2206,147.036 68.2251,147.036 68.2251,148.356 68.243,148.356 68.243,149.675 68.2513,149.675 68.2513,150.995 68.2766,150.995 68.2766,152.315 68.2787,152.315 \n",
       "  68.2787,153.634 68.2871,153.634 68.2871,154.954 68.2872,154.954 68.2872,156.274 68.3213,156.274 68.3213,157.593 68.3319,157.593 68.3319,158.913 68.36,158.913 \n",
       "  68.36,160.233 68.3865,160.233 68.3865,161.552 68.3943,161.552 68.3943,162.872 68.4072,162.872 68.4072,164.192 68.4118,164.192 68.4118,165.511 68.412,165.511 \n",
       "  68.412,166.831 68.4197,166.831 68.4197,168.151 68.4478,168.151 68.4478,169.47 68.4612,169.47 68.4612,170.79 68.4654,170.79 68.4654,172.109 68.4661,172.109 \n",
       "  68.4661,173.429 68.4843,173.429 68.4843,174.749 68.4949,174.749 68.4949,176.068 68.5544,176.068 68.5544,177.388 68.5702,177.388 68.5702,178.708 68.5834,178.708 \n",
       "  68.5834,180.027 68.6438,180.027 68.6438,181.347 68.7854,181.347 68.7854,182.667 68.7937,182.667 68.7937,183.986 68.8964,183.986 68.8964,185.306 68.9514,185.306 \n",
       "  68.9514,186.626 68.9767,186.626 68.9767,187.945 69.0071,187.945 69.0071,189.265 69.0265,189.265 69.0265,190.585 69.0563,190.585 69.0563,191.904 69.0626,191.904 \n",
       "  69.0626,193.224 69.2437,193.224 69.2437,194.544 69.2492,194.544 69.2492,195.863 69.258,195.863 69.258,197.183 69.2742,197.183 69.2742,198.503 69.2768,198.503 \n",
       "  69.2768,199.822 69.3208,199.822 69.3208,201.142 69.6438,201.142 69.6438,202.462 69.6864,202.462 69.6864,203.781 69.6947,203.781 69.6947,205.101 69.6947,205.101 \n",
       "  69.6947,206.42 69.696,206.42 69.696,207.74 69.6979,207.74 69.6979,209.06 69.6981,209.06 69.6981,210.379 69.7059,210.379 69.7059,211.699 69.7247,211.699 \n",
       "  69.7247,213.019 69.7371,213.019 69.7371,214.338 69.7477,214.338 69.7477,215.658 69.755,215.658 69.755,216.978 69.7675,216.978 69.7675,218.297 69.797,218.297 \n",
       "  69.797,219.617 69.8273,219.617 69.8273,220.937 69.8341,220.937 69.8341,222.256 69.8346,222.256 69.8346,223.576 69.8403,223.576 69.8403,224.896 69.8529,224.896 \n",
       "  69.8529,226.215 69.909,226.215 69.909,227.535 69.9404,227.535 69.9404,228.855 69.9709,228.855 69.9709,230.174 69.9786,230.174 69.9786,231.494 69.98,231.494 \n",
       "  69.98,232.814 69.9847,232.814 69.9847,234.133 69.9857,234.133 69.9857,235.453 70.0172,235.453 70.0172,236.773 70.0253,236.773 70.0253,238.092 70.0394,238.092 \n",
       "  70.0394,239.412 70.0457,239.412 70.0457,240.732 70.066,240.732 70.066,242.051 70.0727,242.051 70.0727,243.371 70.0856,243.371 70.0856,244.69 70.12,244.69 \n",
       "  70.12,246.01 70.1368,246.01 70.1368,247.33 70.142,247.33 70.142,248.649 70.1646,248.649 70.1646,249.969 70.2583,249.969 70.2583,251.289 70.2886,251.289 \n",
       "  70.2886,252.608 70.3403,252.608 70.3403,253.928 70.3578,253.928 70.3578,255.248 70.3871,255.248 70.3871,256.567 70.489,256.567 70.489,257.887 70.6084,257.887 \n",
       "  70.6084,259.207 70.7909,259.207 70.7909,260.526 70.8161,260.526 70.8161,261.846 70.8592,261.846 70.8592,263.166 71.0411,263.166 71.0411,264.485 71.1116,264.485 \n",
       "  71.1116,265.805 71.1334,265.805 71.1334,267.125 71.1366,267.125 71.1366,268.444 71.1991,268.444 71.1991,269.764 71.2246,269.764 71.2246,271.084 71.2413,271.084 \n",
       "  71.2413,272.403 71.2432,272.403 71.2432,273.723 71.2461,273.723 71.2461,275.043 71.2467,275.043 71.2467,276.362 71.2748,276.362 71.2748,277.682 71.2749,277.682 \n",
       "  71.2749,279.001 71.28,279.001 71.28,280.321 71.2811,280.321 71.2811,281.641 71.2829,281.641 71.2829,282.96 71.29,282.96 71.29,284.28 71.3244,284.28 \n",
       "  71.3244,285.6 71.3335,285.6 71.3335,286.919 71.3426,286.919 71.3426,288.239 71.3753,288.239 71.3753,289.559 71.4585,289.559 71.4585,290.878 71.5449,290.878 \n",
       "  71.5449,292.198 71.5479,292.198 71.5479,293.518 71.9532,293.518 71.9532,294.837 72.0982,294.837 72.0982,296.157 72.1806,296.157 72.1806,297.477 72.1833,297.477 \n",
       "  72.1833,298.796 72.2055,298.796 72.2055,300.116 72.2627,300.116 72.2627,301.436 72.2818,301.436 72.2818,302.755 72.3329,302.755 72.3329,304.075 72.3513,304.075 \n",
       "  72.3513,305.395 72.4475,305.395 72.4475,306.714 72.957,306.714 72.957,308.034 73.0625,308.034 73.0625,309.354 73.1151,309.354 73.1151,310.673 73.1943,310.673 \n",
       "  73.1943,311.993 73.2982,311.993 73.2982,313.313 73.3754,313.313 73.3754,314.632 73.9507,314.632 73.9507,315.952 73.9624,315.952 73.9624,317.271 74.5997,317.271 \n",
       "  74.5997,318.591 74.7249,318.591 74.7249,319.911 74.8498,319.911 74.8498,321.23 74.9112,321.23 74.9112,322.55 74.953,322.55 74.953,323.87 75.3077,323.87 \n",
       "  75.3077,325.189 76.1268,325.189 76.1268,326.509 76.3077,326.509 76.3077,327.829 76.9383,327.829 76.9383,329.148 76.9834,329.148 76.9834,330.468 77.0212,330.468 \n",
       "  77.0212,331.788 77.2764,331.788 77.2764,333.107 77.3777,333.107 77.3777,334.427 77.9535,334.427 77.9535,335.747 78.3294,335.747 78.3294,337.066 78.4966,337.066 \n",
       "  78.4966,338.386 79.0586,338.386 79.0586,339.706 79.3651,339.706 79.3651,341.025 80.3921,341.025 80.3921,342.345 80.7724,342.345 80.7724,343.665 80.773,343.665 \n",
       "  80.773,344.984 80.7772,344.984 80.7772,346.304 80.7782,346.304 80.7782,347.624 80.7809,347.624 80.7809,348.943 80.9172,348.943 80.9172,350.263 574.675,350.263 \n",
       "  \n",
       "  \"/>\n",
       "<polyline clip-path=\"url(#clip9702)\" style=\"stroke:#68838b; stroke-width:1; stroke-opacity:1; fill:none\" points=\"\n",
       "  65.082,348.943 65.7549,348.943 65.7549,350.263 65.7549,350.263 65.7549,348.943 65.758,348.943 65.758,347.624 65.7598,347.624 65.7598,346.304 65.775,346.304 \n",
       "  65.775,344.984 65.7751,344.984 65.7751,343.665 65.7866,343.665 65.7866,342.345 65.8007,342.345 65.8007,341.025 65.8111,341.025 65.8111,339.706 65.8243,339.706 \n",
       "  65.8243,338.386 65.8363,338.386 65.8363,337.066 66.0386,337.066 66.0386,335.747 66.1465,335.747 66.1465,334.427 66.2115,334.427 66.2115,333.107 66.2491,333.107 \n",
       "  66.2491,331.788 66.3337,331.788 66.3337,330.468 66.3666,330.468 66.3666,329.148 66.3717,329.148 66.3717,327.829 66.4841,327.829 66.4841,326.509 66.5476,326.509 \n",
       "  66.5476,327.829 66.6065,327.829 66.6065,326.509 66.7231,326.509 66.7231,325.189 66.7474,325.189 66.7474,323.87 66.7596,323.87 66.7596,322.55 66.8629,322.55 \n",
       "  66.8629,321.23 66.9207,321.23 66.9207,319.911 66.9431,319.911 66.9431,318.591 67.0495,318.591 67.0495,317.271 67.0587,317.271 67.0587,315.952 67.1281,315.952 \n",
       "  67.1281,314.632 67.2255,314.632 67.2255,313.313 67.4512,313.313 67.4512,311.993 67.7132,311.993 67.7132,310.673 67.7425,310.673 67.7425,309.354 67.884,309.354 \n",
       "  67.884,308.034 67.8961,308.034 67.8961,306.714 68.0143,306.714 68.0143,305.395 68.0567,305.395 68.0567,304.075 68.0567,304.075 68.0567,302.755 68.0567,302.755 \n",
       "  68.0567,301.436 68.0567,301.436 68.0567,300.116 68.0568,300.116 68.0568,298.796 68.0568,298.796 68.0568,297.477 68.0568,297.477 68.0568,296.157 68.0568,296.157 \n",
       "  68.0568,294.837 68.0569,294.837 68.0569,293.518 68.0569,293.518 68.0569,292.198 68.057,292.198 68.057,290.878 68.057,290.878 68.057,289.559 68.0571,289.559 \n",
       "  68.0571,288.239 68.0572,288.239 68.0572,286.919 68.0572,286.919 68.0572,285.6 68.0574,285.6 68.0574,284.28 68.0576,284.28 68.0576,282.96 68.0576,282.96 \n",
       "  68.0576,281.641 68.0578,281.641 68.0578,280.321 68.0579,280.321 68.0579,279.001 68.0583,279.001 68.0583,277.682 68.0584,277.682 68.0584,276.362 68.0586,276.362 \n",
       "  68.0586,275.043 68.0588,275.043 68.0588,273.723 68.0589,273.723 68.0589,272.403 68.0591,272.403 68.0591,271.084 68.0608,271.084 68.0608,269.764 68.061,269.764 \n",
       "  68.061,268.444 68.0615,268.444 68.0615,267.125 68.0616,267.125 68.0616,265.805 68.062,265.805 68.062,264.485 68.0643,264.485 68.0643,263.166 68.0683,263.166 \n",
       "  68.0683,261.846 68.0699,261.846 68.0699,260.526 68.071,260.526 68.071,259.207 68.0723,259.207 68.0723,257.887 68.0813,257.887 68.0813,256.567 68.0837,256.567 \n",
       "  68.0837,255.248 68.0845,255.248 68.0845,253.928 68.0853,253.928 68.0853,252.608 68.099,252.608 68.099,251.289 68.0997,251.289 68.0997,249.969 68.1001,249.969 \n",
       "  68.1001,248.649 68.1001,248.649 68.1001,247.33 68.1023,247.33 68.1023,246.01 68.108,246.01 68.108,244.69 68.1098,244.69 68.1098,243.371 68.1174,243.371 \n",
       "  68.1174,242.051 68.1179,242.051 68.1179,240.732 68.1415,240.732 68.1415,239.412 68.1445,239.412 68.1445,238.092 68.1575,238.092 68.1575,236.773 68.1664,236.773 \n",
       "  68.1664,235.453 68.1669,235.453 68.1669,234.133 68.1918,234.133 68.1918,232.814 68.2002,232.814 68.2002,231.494 68.2029,231.494 68.2029,230.174 68.203,230.174 \n",
       "  68.203,228.855 68.219,228.855 68.219,227.535 68.2206,227.535 68.2206,226.215 68.2251,226.215 68.2251,224.896 68.243,224.896 68.243,223.576 68.2513,223.576 \n",
       "  68.2513,222.256 68.2766,222.256 68.2766,220.937 68.2787,220.937 68.2787,219.617 68.2871,219.617 68.2871,218.297 68.2872,218.297 68.2872,216.978 68.3213,216.978 \n",
       "  68.3213,215.658 68.3319,215.658 68.3319,214.338 68.36,214.338 68.36,213.019 68.3865,213.019 68.3865,211.699 68.3943,211.699 68.3943,210.379 68.4072,210.379 \n",
       "  68.4072,209.06 68.4118,209.06 68.4118,207.74 68.412,207.74 68.412,206.42 68.4197,206.42 68.4197,205.101 68.4478,205.101 68.4478,203.781 68.4612,203.781 \n",
       "  68.4612,202.462 68.4654,202.462 68.4654,201.142 68.4661,201.142 68.4661,199.822 68.4843,199.822 68.4843,198.503 68.4949,198.503 68.4949,197.183 68.5544,197.183 \n",
       "  68.5544,195.863 68.5702,195.863 68.5702,194.544 68.5834,194.544 68.5834,193.224 68.6438,193.224 68.6438,191.904 68.7854,191.904 68.7854,190.585 68.7937,190.585 \n",
       "  68.7937,189.265 68.8964,189.265 68.8964,187.945 68.9514,187.945 68.9514,186.626 68.9767,186.626 68.9767,185.306 69.0071,185.306 69.0071,183.986 69.0265,183.986 \n",
       "  69.0265,182.667 69.0563,182.667 69.0563,181.347 69.0626,181.347 69.0626,180.027 69.2437,180.027 69.2437,178.708 69.2492,178.708 69.2492,177.388 69.258,177.388 \n",
       "  69.258,176.068 69.2742,176.068 69.2742,174.749 69.2768,174.749 69.2768,173.429 69.3208,173.429 69.3208,172.109 69.3456,172.109 69.3456,173.429 69.6279,173.429 \n",
       "  69.6279,174.749 69.6438,174.749 69.6438,173.429 69.6864,173.429 69.6864,172.109 69.6947,172.109 69.6947,173.429 69.6947,173.429 69.6947,172.109 69.6947,172.109 \n",
       "  69.6947,170.79 69.696,170.79 69.696,169.47 69.6979,169.47 69.6979,168.151 69.6981,168.151 69.6981,166.831 69.7059,166.831 69.7059,165.511 69.7247,165.511 \n",
       "  69.7247,164.192 69.7371,164.192 69.7371,162.872 69.7444,162.872 69.7444,164.192 69.7477,164.192 69.7477,162.872 69.755,162.872 69.755,161.552 69.7675,161.552 \n",
       "  69.7675,160.233 69.797,160.233 69.797,158.913 69.8273,158.913 69.8273,157.593 69.8336,157.593 69.8336,158.913 69.8341,158.913 69.8341,157.593 69.8346,157.593 \n",
       "  69.8346,156.274 69.8403,156.274 69.8403,154.954 69.8529,154.954 69.8529,153.634 69.909,153.634 69.909,152.315 69.9402,152.315 69.9402,153.634 69.9404,153.634 \n",
       "  69.9404,152.315 69.9709,152.315 69.9709,150.995 69.9786,150.995 69.9786,149.675 69.98,149.675 69.98,148.356 69.9847,148.356 69.9847,147.036 69.9857,147.036 \n",
       "  69.9857,145.716 70.0172,145.716 70.0172,144.397 70.0253,144.397 70.0253,143.077 70.0394,143.077 70.0394,141.757 70.0457,141.757 70.0457,140.438 70.066,140.438 \n",
       "  70.066,139.118 70.0727,139.118 70.0727,137.798 70.0856,137.798 70.0856,136.479 70.12,136.479 70.12,135.159 70.1368,135.159 70.1368,133.839 70.142,133.839 \n",
       "  70.142,132.52 70.1646,132.52 70.1646,131.2 70.2583,131.2 70.2583,129.881 70.2886,129.881 70.2886,128.561 70.3403,128.561 70.3403,127.241 70.3578,127.241 \n",
       "  70.3578,125.922 70.3871,125.922 70.3871,124.602 70.489,124.602 70.489,123.282 70.6084,123.282 70.6084,121.963 70.7909,121.963 70.7909,120.643 70.8161,120.643 \n",
       "  70.8161,119.323 70.8545,119.323 70.8545,120.643 70.8592,120.643 70.8592,119.323 71.0411,119.323 71.0411,118.004 71.1116,118.004 71.1116,116.684 71.1334,116.684 \n",
       "  71.1334,115.364 71.1366,115.364 71.1366,114.045 71.1991,114.045 71.1991,112.725 71.2246,112.725 71.2246,111.405 71.2412,111.405 71.2412,112.725 71.2413,112.725 \n",
       "  71.2413,111.405 71.2432,111.405 71.2432,110.086 71.2461,110.086 71.2461,108.766 71.2467,108.766 71.2467,107.446 71.2748,107.446 71.2748,106.127 71.2749,106.127 \n",
       "  71.2749,104.807 71.28,104.807 71.28,103.487 71.2811,103.487 71.2811,102.168 71.2829,102.168 71.2829,100.848 71.29,100.848 71.29,99.5285 71.3244,99.5285 \n",
       "  71.3244,98.2088 71.3335,98.2088 71.3335,96.8892 71.3426,96.8892 71.3426,95.5695 71.3753,95.5695 71.3753,94.2498 71.4585,94.2498 71.4585,92.9302 71.5449,92.9302 \n",
       "  71.5449,91.6105 71.5479,91.6105 71.5479,90.2909 71.9094,90.2909 71.9094,91.6105 71.9532,91.6105 71.9532,90.2909 72.0982,90.2909 72.0982,88.9712 72.1806,88.9712 \n",
       "  72.1806,90.2909 72.1806,90.2909 72.1806,88.9712 72.1833,88.9712 72.1833,87.6516 72.2055,87.6516 72.2055,86.3319 72.23,86.3319 72.23,87.6516 72.2627,87.6516 \n",
       "  72.2627,86.3319 72.2792,86.3319 72.2792,87.6516 72.2818,87.6516 72.2818,86.3319 72.3194,86.3319 72.3194,87.6516 72.3329,87.6516 72.3329,86.3319 72.3513,86.3319 \n",
       "  72.3513,85.0123 72.4475,85.0123 72.4475,83.6926 72.5578,83.6926 72.5578,85.0123 72.957,85.0123 72.957,83.6926 72.971,83.6926 72.971,85.0123 73.0625,85.0123 \n",
       "  73.0625,83.6926 73.1151,83.6926 73.1151,82.373 73.1943,82.373 73.1943,81.0533 73.2982,81.0533 73.2982,79.7336 73.3754,79.7336 73.3754,78.414 73.4054,78.414 \n",
       "  73.4054,79.7336 73.9097,79.7336 73.9097,81.0533 73.9507,81.0533 73.9507,79.7336 73.9624,79.7336 73.9624,78.414 74.5997,78.414 74.5997,77.0943 74.7249,77.0943 \n",
       "  74.7249,75.7747 74.8024,75.7747 74.8024,77.0943 74.8345,77.0943 74.8345,78.414 74.8498,78.414 74.8498,77.0943 74.9112,77.0943 74.9112,75.7747 74.953,75.7747 \n",
       "  74.953,74.455 74.9566,74.455 74.9566,75.7747 75.1494,75.7747 75.1494,77.0943 75.3077,77.0943 75.3077,75.7747 75.8071,75.7747 75.8071,77.0943 76.1268,77.0943 \n",
       "  76.1268,75.7747 76.159,75.7747 76.159,77.0943 76.2723,77.0943 76.2723,78.414 76.3077,78.414 76.3077,77.0943 76.3946,77.0943 76.3946,78.414 76.4578,78.414 \n",
       "  76.4578,79.7336 76.5361,79.7336 76.5361,81.0533 76.5874,81.0533 76.5874,82.373 76.9383,82.373 76.9383,81.0533 76.9834,81.0533 76.9834,79.7336 77.0212,79.7336 \n",
       "  77.0212,78.414 77.1396,78.414 77.1396,79.7336 77.2764,79.7336 77.2764,78.414 77.3263,78.414 77.3263,79.7336 77.3777,79.7336 77.3777,78.414 77.4878,78.414 \n",
       "  77.4878,79.7336 77.9118,79.7336 77.9118,81.0533 77.9535,81.0533 77.9535,79.7336 78.1477,79.7336 78.1477,81.0533 78.3273,81.0533 78.3273,82.373 78.3294,82.373 \n",
       "  78.3294,81.0533 78.4851,81.0533 78.4851,82.373 78.4966,82.373 78.4966,81.0533 78.8926,81.0533 78.8926,82.373 78.949,82.373 78.949,83.6926 79.0586,83.6926 \n",
       "  79.0586,82.373 79.3651,82.373 79.3651,81.0533 79.5884,81.0533 79.5884,82.373 79.6212,82.373 79.6212,83.6926 79.9738,83.6926 79.9738,85.0123 80.3249,85.0123 \n",
       "  80.3249,86.3319 80.3621,86.3319 80.3621,87.6516 80.3794,87.6516 80.3794,88.9712 80.3921,88.9712 80.3921,87.6516 80.6769,87.6516 80.6769,88.9712 80.7724,88.9712 \n",
       "  80.7724,87.6516 80.773,87.6516 80.773,86.3319 80.7772,86.3319 80.7772,85.0123 80.7782,85.0123 80.7782,83.6926 80.7809,83.6926 80.7809,82.373 80.8459,82.373 \n",
       "  80.8459,83.6926 80.9172,83.6926 80.9172,82.373 80.9966,82.373 80.9966,83.6926 81.001,83.6926 81.001,85.0123 81.1481,85.0123 81.1481,86.3319 81.2477,86.3319 \n",
       "  81.2477,87.6516 81.4782,87.6516 81.4782,88.9712 81.491,88.9712 81.491,90.2909 81.6299,90.2909 81.6299,91.6105 81.6961,91.6105 81.6961,92.9302 82.2589,92.9302 \n",
       "  82.2589,94.2498 82.3963,94.2498 82.3963,95.5695 82.3997,95.5695 82.3997,96.8892 82.5988,96.8892 82.5988,98.2088 82.8201,98.2088 82.8201,99.5285 83.38,99.5285 \n",
       "  83.38,100.848 83.3974,100.848 83.3974,102.168 83.4761,102.168 83.4761,103.487 84.0996,103.487 84.0996,104.807 84.5213,104.807 84.5213,106.127 84.7661,106.127 \n",
       "  84.7661,107.446 85.4125,107.446 85.4125,108.766 85.7859,108.766 85.7859,110.086 85.9534,110.086 85.9534,111.405 86.8254,111.405 86.8254,112.725 86.8314,112.725 \n",
       "  86.8314,114.045 87.2601,114.045 87.2601,115.364 87.5778,115.364 87.5778,116.684 87.7991,116.684 87.7991,118.004 88.0412,118.004 88.0412,119.323 88.206,119.323 \n",
       "  88.206,120.643 88.229,120.643 88.229,121.963 88.9352,121.963 88.9352,123.282 89.1042,123.282 89.1042,124.602 89.2749,124.602 89.2749,125.922 89.4002,125.922 \n",
       "  89.4002,127.241 89.9922,127.241 89.9922,128.561 90.4926,128.561 90.4926,129.881 90.5999,129.881 90.5999,131.2 90.822,131.2 90.822,132.52 91.0227,132.52 \n",
       "  91.0227,133.839 91.3555,133.839 91.3555,135.159 91.8782,135.159 91.8782,136.479 92.2909,136.479 92.2909,137.798 92.6057,137.798 92.6057,139.118 92.9924,139.118 \n",
       "  92.9924,140.438 93.6976,140.438 93.6976,141.757 94.3179,141.757 94.3179,143.077 95.9482,143.077 95.9482,144.397 96.1492,144.397 96.1492,145.716 96.3588,145.716 \n",
       "  96.3588,147.036 96.7529,147.036 96.7529,148.356 97.0054,148.356 97.0054,149.675 97.0974,149.675 97.0974,150.995 97.1751,150.995 97.1751,152.315 97.4999,152.315 \n",
       "  97.4999,153.634 97.9023,153.634 97.9023,154.954 97.9223,154.954 97.9223,156.274 98.0672,156.274 98.0672,157.593 99.318,157.593 99.318,158.913 99.8156,158.913 \n",
       "  99.8156,160.233 100.097,160.233 100.097,161.552 100.228,161.552 100.228,162.872 100.943,162.872 100.943,164.192 101.369,164.192 101.369,165.511 101.632,165.511 \n",
       "  101.632,166.831 101.686,166.831 101.686,168.151 102.018,168.151 102.018,169.47 102.045,169.47 102.045,170.79 103.586,170.79 103.586,172.109 103.947,172.109 \n",
       "  103.947,173.429 104.784,173.429 104.784,174.749 104.995,174.749 104.995,176.068 105.219,176.068 105.219,177.388 105.286,177.388 105.286,178.708 105.426,178.708 \n",
       "  105.426,180.027 107.284,180.027 107.284,181.347 107.311,181.347 107.311,182.667 107.469,182.667 107.469,183.986 107.496,183.986 107.496,185.306 107.94,185.306 \n",
       "  107.94,186.626 108.142,186.626 108.142,187.945 109.271,187.945 109.271,189.265 110.017,189.265 110.017,190.585 110.368,190.585 110.368,191.904 111.485,191.904 \n",
       "  111.485,193.224 112.044,193.224 112.044,194.544 112.167,194.544 112.167,195.863 112.311,195.863 112.311,197.183 112.904,197.183 112.904,198.503 113.696,198.503 \n",
       "  113.696,199.822 114.714,199.822 114.714,201.142 114.906,201.142 114.906,202.462 115.007,202.462 115.007,203.781 115.814,203.781 115.814,205.101 116.178,205.101 \n",
       "  116.178,206.42 117.62,206.42 117.62,207.74 117.992,207.74 117.992,209.06 118.5,209.06 118.5,210.379 118.527,210.379 118.527,211.699 118.862,211.699 \n",
       "  118.862,213.019 119.557,213.019 119.557,214.338 119.598,214.338 119.598,215.658 119.809,215.658 119.809,216.978 120.068,216.978 120.068,218.297 120.79,218.297 \n",
       "  120.79,219.617 120.799,219.617 120.799,220.937 121.121,220.937 121.121,222.256 122.151,222.256 122.151,223.576 122.353,223.576 122.353,224.896 122.478,224.896 \n",
       "  122.478,226.215 123.534,226.215 123.534,227.535 124.179,227.535 124.179,228.855 124.575,228.855 124.575,230.174 125.974,230.174 125.974,231.494 126.642,231.494 \n",
       "  126.642,232.814 128.498,232.814 128.498,234.133 129.889,234.133 129.889,235.453 130.033,235.453 130.033,236.773 130.974,236.773 130.974,238.092 131.288,238.092 \n",
       "  131.288,239.412 132.177,239.412 132.177,240.732 133.902,240.732 133.902,242.051 134.081,242.051 134.081,243.371 134.317,243.371 134.317,244.69 134.953,244.69 \n",
       "  134.953,246.01 134.956,246.01 134.956,247.33 136.522,247.33 136.522,248.649 137.145,248.649 137.145,249.969 137.583,249.969 137.583,251.289 137.694,251.289 \n",
       "  137.694,252.608 137.716,252.608 137.716,253.928 137.842,253.928 137.842,255.248 137.999,255.248 137.999,256.567 138.356,256.567 138.356,257.887 138.794,257.887 \n",
       "  138.794,259.207 138.999,259.207 138.999,260.526 139.296,260.526 139.296,261.846 139.343,261.846 139.343,263.166 139.405,263.166 139.405,264.485 139.832,264.485 \n",
       "  139.832,265.805 140.402,265.805 140.402,267.125 140.72,267.125 140.72,268.444 140.915,268.444 140.915,269.764 140.927,269.764 140.927,271.084 141.326,271.084 \n",
       "  141.326,272.403 142.812,272.403 142.812,273.723 142.9,273.723 142.9,275.043 143.38,275.043 143.38,276.362 143.535,276.362 143.535,277.682 146.139,277.682 \n",
       "  146.139,279.001 146.637,279.001 146.637,280.321 147.326,280.321 147.326,281.641 148.835,281.641 148.835,282.96 149.266,282.96 149.266,284.28 150.103,284.28 \n",
       "  150.103,285.6 150.794,285.6 150.794,286.919 150.884,286.919 150.884,288.239 151.271,288.239 151.271,289.559 151.567,289.559 151.567,290.878 154.75,290.878 \n",
       "  154.75,292.198 154.888,292.198 154.888,293.518 154.91,293.518 154.91,294.837 155.807,294.837 155.807,296.157 157.497,296.157 157.497,297.477 161.729,297.477 \n",
       "  161.729,298.796 162.447,298.796 162.447,300.116 165.53,300.116 165.53,301.436 165.959,301.436 165.959,302.755 166.31,302.755 166.31,304.075 168.702,304.075 \n",
       "  168.702,305.395 168.959,305.395 168.959,306.714 170.627,306.714 170.627,308.034 171.935,308.034 171.935,309.354 171.97,309.354 171.97,310.673 172.75,310.673 \n",
       "  172.75,311.993 173.314,311.993 173.314,313.313 175.592,313.313 175.592,314.632 176.278,314.632 176.278,315.952 177.881,315.952 177.881,317.271 184.967,317.271 \n",
       "  184.967,318.591 185.216,318.591 185.216,319.911 185.821,319.911 185.821,321.23 188.586,321.23 188.586,322.55 193.437,322.55 193.437,323.87 194.968,323.87 \n",
       "  194.968,325.189 200.693,325.189 200.693,326.509 205.849,326.509 205.849,327.829 212.487,327.829 212.487,329.148 217.904,329.148 217.904,330.468 224.806,330.468 \n",
       "  224.806,331.788 225.252,331.788 225.252,333.107 227.578,333.107 227.578,334.427 237.29,334.427 237.29,335.747 237.689,335.747 237.689,337.066 238.559,337.066 \n",
       "  238.559,338.386 255.64,338.386 255.64,339.706 273.07,339.706 273.07,341.025 279.928,341.025 279.928,342.345 282.072,342.345 282.072,343.665 326.892,343.665 \n",
       "  326.892,344.984 357.488,344.984 357.488,346.304 359.218,346.304 359.218,347.624 410.41,347.624 410.41,348.943 437.175,348.943 437.175,350.263 574.675,350.263 \n",
       "  \n",
       "  \"/>\n",
       "<polyline clip-path=\"url(#clip9702)\" style=\"stroke:#90ee90; stroke-width:1; stroke-opacity:1; fill:none\" points=\"\n",
       "  65.082,350.263 65.7549,350.263 65.7549,348.943 66.5476,348.943 66.5476,347.624 68.0567,347.624 68.0567,348.943 69.3456,348.943 69.3456,347.624 69.6279,347.624 \n",
       "  69.6279,346.304 69.6947,346.304 69.6947,344.984 69.7444,344.984 69.7444,343.665 69.8336,343.665 69.8336,342.345 69.9402,342.345 69.9402,341.025 70.8545,341.025 \n",
       "  70.8545,339.706 71.2412,339.706 71.2412,338.386 71.9094,338.386 71.9094,337.066 72.1806,337.066 72.1806,335.747 72.23,335.747 72.23,334.427 72.2792,334.427 \n",
       "  72.2792,333.107 72.3194,333.107 72.3194,331.788 72.5578,331.788 72.5578,330.468 72.971,330.468 72.971,329.148 73.4054,329.148 73.4054,327.829 73.9097,327.829 \n",
       "  73.9097,326.509 74.8024,326.509 74.8024,325.189 74.8345,325.189 74.8345,323.87 74.9566,323.87 74.9566,322.55 75.1494,322.55 75.1494,321.23 75.8071,321.23 \n",
       "  75.8071,319.911 76.159,319.911 76.159,318.591 76.2723,318.591 76.2723,317.271 76.3946,317.271 76.3946,315.952 76.4578,315.952 76.4578,314.632 76.5361,314.632 \n",
       "  76.5361,313.313 76.5874,313.313 76.5874,311.993 77.1396,311.993 77.1396,310.673 77.3263,310.673 77.3263,309.354 77.4878,309.354 77.4878,308.034 77.9118,308.034 \n",
       "  77.9118,306.714 78.1477,306.714 78.1477,305.395 78.3273,305.395 78.3273,304.075 78.4851,304.075 78.4851,302.755 78.8926,302.755 78.8926,301.436 78.949,301.436 \n",
       "  78.949,300.116 79.5884,300.116 79.5884,298.796 79.6212,298.796 79.6212,297.477 79.9738,297.477 79.9738,296.157 80.3249,296.157 80.3249,294.837 80.3621,294.837 \n",
       "  80.3621,293.518 80.3794,293.518 80.3794,292.198 80.6769,292.198 80.6769,290.878 80.7723,290.878 80.7723,292.198 80.8459,292.198 80.8459,290.878 80.9879,290.878 \n",
       "  80.9879,292.198 80.9966,292.198 80.9966,290.878 81.001,290.878 81.001,289.559 81.1481,289.559 81.1481,288.239 81.2477,288.239 81.2477,286.919 81.4782,286.919 \n",
       "  81.4782,285.6 81.491,285.6 81.491,284.28 81.6299,284.28 81.6299,282.96 81.6417,282.96 81.6417,284.28 81.6961,284.28 81.6961,282.96 82.2589,282.96 \n",
       "  82.2589,281.641 82.3963,281.641 82.3963,280.321 82.3997,280.321 82.3997,279.001 82.5988,279.001 82.5988,277.682 82.8111,277.682 82.8111,279.001 82.8201,279.001 \n",
       "  82.8201,277.682 83.38,277.682 83.38,276.362 83.3974,276.362 83.3974,275.043 83.4761,275.043 83.4761,273.723 84.0996,273.723 84.0996,272.403 84.5213,272.403 \n",
       "  84.5213,271.084 84.7661,271.084 84.7661,269.764 85.4125,269.764 85.4125,268.444 85.7859,268.444 85.7859,267.125 85.9534,267.125 85.9534,265.805 86.8254,265.805 \n",
       "  86.8254,264.485 86.8314,264.485 86.8314,263.166 87.2601,263.166 87.2601,261.846 87.5778,261.846 87.5778,260.526 87.7991,260.526 87.7991,259.207 88.0412,259.207 \n",
       "  88.0412,257.887 88.206,257.887 88.206,256.567 88.229,256.567 88.229,255.248 88.4144,255.248 88.4144,256.567 88.9352,256.567 88.9352,255.248 89.1042,255.248 \n",
       "  89.1042,253.928 89.2749,253.928 89.2749,252.608 89.4002,252.608 89.4002,251.289 89.9922,251.289 89.9922,249.969 90.4926,249.969 90.4926,248.649 90.5999,248.649 \n",
       "  90.5999,247.33 90.822,247.33 90.822,246.01 91.0227,246.01 91.0227,244.69 91.3555,244.69 91.3555,243.371 91.8782,243.371 91.8782,242.051 92.2909,242.051 \n",
       "  92.2909,240.732 92.6057,240.732 92.6057,239.412 92.8394,239.412 92.8394,240.732 92.9924,240.732 92.9924,239.412 93.6976,239.412 93.6976,238.092 94.3179,238.092 \n",
       "  94.3179,236.773 95.0882,236.773 95.0882,238.092 95.4945,238.092 95.4945,239.412 95.9482,239.412 95.9482,238.092 96.1492,238.092 96.1492,236.773 96.3588,236.773 \n",
       "  96.3588,235.453 96.5012,235.453 96.5012,236.773 96.7529,236.773 96.7529,235.453 97.0054,235.453 97.0054,234.133 97.0974,234.133 97.0974,232.814 97.1751,232.814 \n",
       "  97.1751,231.494 97.4999,231.494 97.4999,230.174 97.9023,230.174 97.9023,228.855 97.9223,228.855 97.9223,227.535 98.0672,227.535 98.0672,226.215 98.122,226.215 \n",
       "  98.122,227.535 98.4783,227.535 98.4783,228.855 99.318,228.855 99.318,227.535 99.8156,227.535 99.8156,226.215 100.097,226.215 100.097,224.896 100.14,224.896 \n",
       "  100.14,226.215 100.228,226.215 100.228,224.896 100.352,224.896 100.352,226.215 100.375,226.215 100.375,227.535 100.943,227.535 100.943,226.215 101.369,226.215 \n",
       "  101.369,224.896 101.382,224.896 101.382,226.215 101.632,226.215 101.632,224.896 101.686,224.896 101.686,223.576 102.018,223.576 102.018,222.256 102.045,222.256 \n",
       "  102.045,220.937 102.222,220.937 102.222,222.256 103.586,222.256 103.586,220.937 103.947,220.937 103.947,219.617 104.784,219.617 104.784,218.297 104.995,218.297 \n",
       "  104.995,216.978 105.219,216.978 105.219,215.658 105.286,215.658 105.286,214.338 105.426,214.338 105.426,213.019 107.225,213.019 107.225,214.338 107.284,214.338 \n",
       "  107.284,213.019 107.311,213.019 107.311,211.699 107.469,211.699 107.469,210.379 107.496,210.379 107.496,209.06 107.94,209.06 107.94,207.74 107.948,207.74 \n",
       "  107.948,209.06 108.061,209.06 108.061,210.379 108.142,210.379 108.142,209.06 108.861,209.06 108.861,210.379 108.908,210.379 108.908,211.699 108.939,211.699 \n",
       "  108.939,213.019 109.271,213.019 109.271,211.699 110.017,211.699 110.017,210.379 110.368,210.379 110.368,209.06 110.475,209.06 110.475,210.379 111.485,210.379 \n",
       "  111.485,209.06 111.552,209.06 111.552,210.379 111.977,210.379 111.977,211.699 112.044,211.699 112.044,210.379 112.167,210.379 112.167,209.06 112.311,209.06 \n",
       "  112.311,207.74 112.904,207.74 112.904,206.42 113.188,206.42 113.188,207.74 113.696,207.74 113.696,206.42 114.112,206.42 114.112,207.74 114.714,207.74 \n",
       "  114.714,206.42 114.906,206.42 114.906,205.101 115.007,205.101 115.007,203.781 115.814,203.781 115.814,202.462 116.178,202.462 116.178,201.142 116.543,201.142 \n",
       "  116.543,202.462 116.611,202.462 116.611,203.781 117.62,203.781 117.62,202.462 117.992,202.462 117.992,201.142 118.128,201.142 118.128,202.462 118.5,202.462 \n",
       "  118.5,201.142 118.527,201.142 118.527,199.822 118.862,199.822 118.862,198.503 119.265,198.503 119.265,199.822 119.318,199.822 119.318,201.142 119.398,201.142 \n",
       "  119.398,202.462 119.557,202.462 119.557,201.142 119.598,201.142 119.598,199.822 119.809,199.822 119.809,198.503 120.068,198.503 120.068,197.183 120.79,197.183 \n",
       "  120.79,195.863 120.799,195.863 120.799,194.544 121.121,194.544 121.121,193.224 121.876,193.224 121.876,194.544 121.916,194.544 121.916,195.863 122.151,195.863 \n",
       "  122.151,194.544 122.353,194.544 122.353,193.224 122.478,193.224 122.478,191.904 123.186,191.904 123.186,193.224 123.452,193.224 123.452,194.544 123.534,194.544 \n",
       "  123.534,193.224 124.179,193.224 124.179,191.904 124.575,191.904 124.575,190.585 125.61,190.585 125.61,191.904 125.974,191.904 125.974,190.585 126.642,190.585 \n",
       "  126.642,189.265 126.885,189.265 126.885,190.585 127.5,190.585 127.5,191.904 127.621,191.904 127.621,193.224 128.498,193.224 128.498,191.904 129.566,191.904 \n",
       "  129.566,193.224 129.889,193.224 129.889,191.904 130.033,191.904 130.033,190.585 130.974,190.585 130.974,189.265 131.288,189.265 131.288,187.945 132.177,187.945 \n",
       "  132.177,186.626 132.258,186.626 132.258,187.945 132.676,187.945 132.676,189.265 133.868,189.265 133.868,190.585 133.902,190.585 133.902,189.265 134.081,189.265 \n",
       "  134.081,187.945 134.103,187.945 134.103,189.265 134.317,189.265 134.317,187.945 134.953,187.945 134.953,186.626 134.956,186.626 134.956,185.306 135.04,185.306 \n",
       "  135.04,186.626 136.364,186.626 136.364,187.945 136.522,187.945 136.522,186.626 136.778,186.626 136.778,187.945 137.145,187.945 137.145,186.626 137.583,186.626 \n",
       "  137.583,185.306 137.694,185.306 137.694,183.986 137.716,183.986 137.716,182.667 137.842,182.667 137.842,181.347 137.999,181.347 137.999,180.027 138.356,180.027 \n",
       "  138.356,178.708 138.794,178.708 138.794,177.388 138.999,177.388 138.999,176.068 139.292,176.068 139.292,177.388 139.296,177.388 139.296,176.068 139.343,176.068 \n",
       "  139.343,174.749 139.405,174.749 139.405,173.429 139.587,173.429 139.587,174.749 139.832,174.749 139.832,173.429 140.201,173.429 140.201,174.749 140.402,174.749 \n",
       "  140.402,173.429 140.72,173.429 140.72,172.109 140.915,172.109 140.915,170.79 140.927,170.79 140.927,169.47 141.326,169.47 141.326,168.151 141.731,168.151 \n",
       "  141.731,169.47 142.32,169.47 142.32,170.79 142.812,170.79 142.812,169.47 142.9,169.47 142.9,168.151 142.936,168.151 142.936,169.47 143.305,169.47 \n",
       "  143.305,170.79 143.38,170.79 143.38,169.47 143.535,169.47 143.535,168.151 143.634,168.151 143.634,169.47 143.837,169.47 143.837,170.79 144.617,170.79 \n",
       "  144.617,172.109 146.139,172.109 146.139,170.79 146.316,170.79 146.316,172.109 146.637,172.109 146.637,170.79 146.955,170.79 146.955,172.109 147.323,172.109 \n",
       "  147.323,173.429 147.326,173.429 147.326,172.109 148.249,172.109 148.249,173.429 148.342,173.429 148.342,174.749 148.835,174.749 148.835,173.429 149.266,173.429 \n",
       "  149.266,172.109 149.573,172.109 149.573,173.429 150.103,173.429 150.103,172.109 150.689,172.109 150.689,173.429 150.794,173.429 150.794,172.109 150.884,172.109 \n",
       "  150.884,170.79 151.208,170.79 151.208,172.109 151.271,172.109 151.271,170.79 151.567,170.79 151.567,169.47 151.936,169.47 151.936,170.79 152.28,170.79 \n",
       "  152.28,172.109 152.685,172.109 152.685,173.429 152.92,173.429 152.92,174.749 153.609,174.749 153.609,176.068 154.107,176.068 154.107,177.388 154.245,177.388 \n",
       "  154.245,178.708 154.272,178.708 154.272,180.027 154.682,180.027 154.682,181.347 154.732,181.347 154.732,182.667 154.75,182.667 154.75,181.347 154.888,181.347 \n",
       "  154.888,180.027 154.91,180.027 154.91,178.708 155.574,178.708 155.574,180.027 155.807,180.027 155.807,178.708 155.875,178.708 155.875,180.027 156.602,180.027 \n",
       "  156.602,181.347 157.142,181.347 157.142,182.667 157.497,182.667 157.497,181.347 158.529,181.347 158.529,182.667 158.889,182.667 158.889,183.986 159.341,183.986 \n",
       "  159.341,185.306 159.575,185.306 159.575,186.626 159.609,186.626 159.609,187.945 159.997,187.945 159.997,189.265 160.663,189.265 160.663,190.585 161.359,190.585 \n",
       "  161.359,191.904 161.58,191.904 161.58,193.224 161.729,193.224 161.729,191.904 161.806,191.904 161.806,193.224 162.447,193.224 162.447,191.904 162.466,191.904 \n",
       "  162.466,193.224 162.565,193.224 162.565,194.544 163.39,194.544 163.39,195.863 164.478,195.863 164.478,197.183 165.35,197.183 165.35,198.503 165.53,198.503 \n",
       "  165.53,197.183 165.959,197.183 165.959,195.863 166.31,195.863 166.31,194.544 166.637,194.544 166.637,195.863 168.702,195.863 168.702,194.544 168.959,194.544 \n",
       "  168.959,193.224 169.043,193.224 169.043,194.544 169.374,194.544 169.374,195.863 170.572,195.863 170.572,197.183 170.627,197.183 170.627,195.863 171.636,195.863 \n",
       "  171.636,197.183 171.935,197.183 171.935,195.863 171.97,195.863 171.97,194.544 172.75,194.544 172.75,193.224 173.314,193.224 173.314,191.904 174.703,191.904 \n",
       "  174.703,193.224 174.75,193.224 174.75,194.544 175.443,194.544 175.443,195.863 175.459,195.863 175.459,197.183 175.592,197.183 175.592,195.863 175.68,195.863 \n",
       "  175.68,197.183 176.278,197.183 176.278,195.863 177.304,195.863 177.304,197.183 177.881,197.183 177.881,195.863 178.269,195.863 178.269,197.183 178.299,197.183 \n",
       "  178.299,198.503 179.276,198.503 179.276,199.822 179.412,199.822 179.412,201.142 180.182,201.142 180.182,202.462 180.728,202.462 180.728,203.781 181.638,203.781 \n",
       "  181.638,205.101 181.651,205.101 181.651,206.42 181.801,206.42 181.801,207.74 182.402,207.74 182.402,209.06 184.639,209.06 184.639,210.379 184.956,210.379 \n",
       "  184.956,211.699 184.967,211.699 184.967,210.379 185.216,210.379 185.216,209.06 185.821,209.06 185.821,207.74 186.206,207.74 186.206,209.06 186.519,209.06 \n",
       "  186.519,210.379 187.34,210.379 187.34,211.699 188.232,211.699 188.232,213.019 188.586,213.019 188.586,211.699 189.4,211.699 189.4,213.019 190.028,213.019 \n",
       "  190.028,214.338 190.889,214.338 190.889,215.658 191.601,215.658 191.601,216.978 192.211,216.978 192.211,218.297 193.426,218.297 193.426,219.617 193.437,219.617 \n",
       "  193.437,218.297 194.968,218.297 194.968,216.978 195.514,216.978 195.514,218.297 196.402,218.297 196.402,219.617 197.233,219.617 197.233,220.937 199.179,220.937 \n",
       "  199.179,222.256 200.271,222.256 200.271,223.576 200.693,223.576 200.693,222.256 202.545,222.256 202.545,223.576 204.512,223.576 204.512,224.896 205.506,224.896 \n",
       "  205.506,226.215 205.849,226.215 205.849,224.896 207.029,224.896 207.029,226.215 207.308,226.215 207.308,227.535 210.093,227.535 210.093,228.855 211.24,228.855 \n",
       "  211.24,230.174 211.268,230.174 211.268,231.494 211.287,231.494 211.287,232.814 212.298,232.814 212.298,234.133 212.416,234.133 212.416,235.453 212.487,235.453 \n",
       "  212.487,234.133 214.577,234.133 214.577,235.453 214.89,235.453 214.89,236.773 216.517,236.773 216.517,238.092 217.084,238.092 217.084,239.412 217.904,239.412 \n",
       "  217.904,238.092 221.311,238.092 221.311,239.412 222.244,239.412 222.244,240.732 223.321,240.732 223.321,242.051 224.505,242.051 224.505,243.371 224.806,243.371 \n",
       "  224.806,242.051 224.885,242.051 224.885,243.371 224.953,243.371 224.953,244.69 225.252,244.69 225.252,243.371 226.143,243.371 226.143,244.69 226.872,244.69 \n",
       "  226.872,246.01 227.578,246.01 227.578,244.69 231.157,244.69 231.157,246.01 231.33,246.01 231.33,247.33 231.462,247.33 231.462,248.649 231.498,248.649 \n",
       "  231.498,249.969 231.767,249.969 231.767,251.289 232.121,251.289 232.121,252.608 233.566,252.608 233.566,253.928 237.29,253.928 237.29,252.608 237.689,252.608 \n",
       "  237.689,251.289 237.921,251.289 237.921,252.608 238.559,252.608 238.559,251.289 243.17,251.289 243.17,252.608 248.376,252.608 248.376,253.928 255.601,253.928 \n",
       "  255.601,255.248 255.64,255.248 255.64,253.928 258.216,253.928 258.216,255.248 258.967,255.248 258.967,256.567 259.966,256.567 259.966,257.887 261.593,257.887 \n",
       "  261.593,259.207 264.323,259.207 264.323,260.526 264.709,260.526 264.709,261.846 267.009,261.846 267.009,263.166 270.377,263.166 270.377,264.485 271.243,264.485 \n",
       "  271.243,265.805 273.07,265.805 273.07,264.485 273.26,264.485 273.26,265.805 273.522,265.805 273.522,267.125 274.345,267.125 274.345,268.444 277.748,268.444 \n",
       "  277.748,269.764 279.126,269.764 279.126,271.084 279.928,271.084 279.928,269.764 282.072,269.764 282.072,268.444 293.458,268.444 293.458,269.764 295.181,269.764 \n",
       "  295.181,271.084 297.737,271.084 297.737,272.403 299.818,272.403 299.818,273.723 300.208,273.723 300.208,275.043 303.391,275.043 303.391,276.362 303.501,276.362 \n",
       "  303.501,277.682 303.613,277.682 303.613,279.001 303.853,279.001 303.853,280.321 304.723,280.321 304.723,281.641 309.079,281.641 309.079,282.96 311.003,282.96 \n",
       "  311.003,284.28 312.248,284.28 312.248,285.6 314.627,285.6 314.627,286.919 314.73,286.919 314.73,288.239 324.94,288.239 324.94,289.559 326.649,289.559 \n",
       "  326.649,290.878 326.892,290.878 326.892,289.559 328.254,289.559 328.254,290.878 328.602,290.878 328.602,292.198 330.674,292.198 330.674,293.518 338.84,293.518 \n",
       "  338.84,294.837 339.92,294.837 339.92,296.157 340.199,296.157 340.199,297.477 353.619,297.477 353.619,298.796 355.258,298.796 355.258,300.116 356.692,300.116 \n",
       "  356.692,301.436 357.488,301.436 357.488,300.116 359.218,300.116 359.218,298.796 360.741,298.796 360.741,300.116 361.974,300.116 361.974,301.436 366.344,301.436 \n",
       "  366.344,302.755 374.144,302.755 374.144,304.075 374.553,304.075 374.553,305.395 385.675,305.395 385.675,306.714 390.037,306.714 390.037,308.034 390.803,308.034 \n",
       "  390.803,309.354 393.156,309.354 393.156,310.673 393.594,310.673 393.594,311.993 409.894,311.993 409.894,313.313 410.41,313.313 410.41,311.993 412.947,311.993 \n",
       "  412.947,313.313 418.106,313.313 418.106,314.632 430.289,314.632 430.289,315.952 434.052,315.952 434.052,317.271 436.861,317.271 436.861,318.591 437.175,318.591 \n",
       "  437.175,317.271 437.283,317.271 437.283,318.591 439.672,318.591 439.672,319.911 443.158,319.911 443.158,321.23 445.668,321.23 445.668,322.55 448.382,322.55 \n",
       "  448.382,323.87 461.471,323.87 461.471,325.189 471.297,325.189 471.297,326.509 472.056,326.509 472.056,327.829 475.443,327.829 475.443,329.148 494.998,329.148 \n",
       "  494.998,330.468 506.293,330.468 506.293,331.788 509.117,331.788 509.117,333.107 514.49,333.107 514.49,334.427 515.216,334.427 515.216,335.747 521.853,335.747 \n",
       "  521.853,337.066 526.644,337.066 526.644,338.386 550.386,338.386 550.386,339.706 560.075,339.706 560.075,341.025 574.675,341.025 574.675,342.345 \n",
       "  \"/>\n",
       "<polyline clip-path=\"url(#clip9702)\" style=\"stroke:#ffff00; stroke-width:1; stroke-opacity:1; fill:none\" points=\"\n",
       "  65.082,350.263 68.0567,350.263 68.0567,348.943 80.7723,348.943 80.7723,347.624 80.9879,347.624 80.9879,346.304 81.6417,346.304 81.6417,344.984 82.8111,344.984 \n",
       "  82.8111,343.665 88.4144,343.665 88.4144,342.345 92.8394,342.345 92.8394,341.025 95.0882,341.025 95.0882,339.706 95.4945,339.706 95.4945,338.386 96.5012,338.386 \n",
       "  96.5012,337.066 98.122,337.066 98.122,335.747 98.4783,335.747 98.4783,334.427 100.14,334.427 100.14,333.107 100.352,333.107 100.352,331.788 100.375,331.788 \n",
       "  100.375,330.468 101.382,330.468 101.382,329.148 102.222,329.148 102.222,327.829 107.225,327.829 107.225,326.509 107.948,326.509 107.948,325.189 108.061,325.189 \n",
       "  108.061,323.87 108.861,323.87 108.861,322.55 108.908,322.55 108.908,321.23 108.939,321.23 108.939,319.911 110.475,319.911 110.475,318.591 111.552,318.591 \n",
       "  111.552,317.271 111.977,317.271 111.977,315.952 113.188,315.952 113.188,314.632 114.112,314.632 114.112,313.313 116.543,313.313 116.543,311.993 116.611,311.993 \n",
       "  116.611,310.673 118.128,310.673 118.128,309.354 119.265,309.354 119.265,308.034 119.318,308.034 119.318,306.714 119.398,306.714 119.398,305.395 121.876,305.395 \n",
       "  121.876,304.075 121.916,304.075 121.916,302.755 123.186,302.755 123.186,301.436 123.452,301.436 123.452,300.116 125.61,300.116 125.61,298.796 126.885,298.796 \n",
       "  126.885,297.477 127.5,297.477 127.5,296.157 127.621,296.157 127.621,294.837 129.566,294.837 129.566,293.518 132.258,293.518 132.258,292.198 132.676,292.198 \n",
       "  132.676,290.878 133.868,290.878 133.868,289.559 134.103,289.559 134.103,288.239 135.04,288.239 135.04,286.919 136.364,286.919 136.364,285.6 136.778,285.6 \n",
       "  136.778,284.28 139.292,284.28 139.292,282.96 139.587,282.96 139.587,281.641 140.201,281.641 140.201,280.321 141.731,280.321 141.731,279.001 142.32,279.001 \n",
       "  142.32,277.682 142.936,277.682 142.936,276.362 143.305,276.362 143.305,275.043 143.634,275.043 143.634,273.723 143.837,273.723 143.837,272.403 144.617,272.403 \n",
       "  144.617,271.084 146.316,271.084 146.316,269.764 146.955,269.764 146.955,268.444 147.323,268.444 147.323,267.125 148.249,267.125 148.249,265.805 148.342,265.805 \n",
       "  148.342,264.485 149.573,264.485 149.573,263.166 150.689,263.166 150.689,261.846 151.208,261.846 151.208,260.526 151.936,260.526 151.936,259.207 152.28,259.207 \n",
       "  152.28,257.887 152.685,257.887 152.685,256.567 152.92,256.567 152.92,255.248 153.609,255.248 153.609,253.928 154.107,253.928 154.107,252.608 154.245,252.608 \n",
       "  154.245,251.289 154.272,251.289 154.272,249.969 154.682,249.969 154.682,248.649 154.732,248.649 154.732,247.33 155.574,247.33 155.574,246.01 155.875,246.01 \n",
       "  155.875,244.69 156.602,244.69 156.602,243.371 157.142,243.371 157.142,242.051 158.529,242.051 158.529,240.732 158.889,240.732 158.889,239.412 159.341,239.412 \n",
       "  159.341,238.092 159.575,238.092 159.575,236.773 159.609,236.773 159.609,235.453 159.997,235.453 159.997,234.133 160.663,234.133 160.663,232.814 161.359,232.814 \n",
       "  161.359,231.494 161.58,231.494 161.58,230.174 161.806,230.174 161.806,228.855 162.466,228.855 162.466,227.535 162.565,227.535 162.565,226.215 163.39,226.215 \n",
       "  163.39,224.896 164.478,224.896 164.478,223.576 165.35,223.576 165.35,222.256 166.637,222.256 166.637,220.937 169.043,220.937 169.043,219.617 169.374,219.617 \n",
       "  169.374,218.297 170.572,218.297 170.572,216.978 171.636,216.978 171.636,215.658 174.703,215.658 174.703,214.338 174.75,214.338 174.75,213.019 175.443,213.019 \n",
       "  175.443,211.699 175.459,211.699 175.459,210.379 175.68,210.379 175.68,209.06 177.304,209.06 177.304,207.74 178.269,207.74 178.269,206.42 178.299,206.42 \n",
       "  178.299,205.101 179.276,205.101 179.276,203.781 179.412,203.781 179.412,202.462 180.182,202.462 180.182,201.142 180.728,201.142 180.728,199.822 181.638,199.822 \n",
       "  181.638,198.503 181.651,198.503 181.651,197.183 181.801,197.183 181.801,195.863 182.402,195.863 182.402,194.544 184.639,194.544 184.639,193.224 184.956,193.224 \n",
       "  184.956,191.904 186.206,191.904 186.206,190.585 186.519,190.585 186.519,189.265 187.34,189.265 187.34,187.945 188.232,187.945 188.232,186.626 189.4,186.626 \n",
       "  189.4,185.306 190.028,185.306 190.028,183.986 190.889,183.986 190.889,182.667 191.601,182.667 191.601,181.347 192.211,181.347 192.211,180.027 193.426,180.027 \n",
       "  193.426,178.708 195.514,178.708 195.514,177.388 196.402,177.388 196.402,176.068 197.233,176.068 197.233,174.749 199.179,174.749 199.179,173.429 200.271,173.429 \n",
       "  200.271,172.109 202.545,172.109 202.545,170.79 204.512,170.79 204.512,169.47 205.506,169.47 205.506,168.151 207.029,168.151 207.029,166.831 207.308,166.831 \n",
       "  207.308,165.511 210.093,165.511 210.093,164.192 211.24,164.192 211.24,162.872 211.268,162.872 211.268,161.552 211.287,161.552 211.287,160.233 212.298,160.233 \n",
       "  212.298,158.913 212.416,158.913 212.416,157.593 214.577,157.593 214.577,156.274 214.89,156.274 214.89,154.954 216.517,154.954 216.517,153.634 217.084,153.634 \n",
       "  217.084,152.315 221.311,152.315 221.311,150.995 222.244,150.995 222.244,149.675 223.321,149.675 223.321,148.356 224.505,148.356 224.505,147.036 224.885,147.036 \n",
       "  224.885,145.716 224.953,145.716 224.953,144.397 226.143,144.397 226.143,143.077 226.872,143.077 226.872,141.757 231.157,141.757 231.157,140.438 231.33,140.438 \n",
       "  231.33,139.118 231.462,139.118 231.462,137.798 231.498,137.798 231.498,136.479 231.767,136.479 231.767,135.159 232.121,135.159 232.121,133.839 233.566,133.839 \n",
       "  233.566,132.52 237.921,132.52 237.921,131.2 243.17,131.2 243.17,129.881 248.376,129.881 248.376,128.561 255.601,128.561 255.601,127.241 258.216,127.241 \n",
       "  258.216,125.922 258.967,125.922 258.967,124.602 259.966,124.602 259.966,123.282 261.593,123.282 261.593,121.963 264.323,121.963 264.323,120.643 264.709,120.643 \n",
       "  264.709,119.323 267.009,119.323 267.009,118.004 270.377,118.004 270.377,116.684 271.243,116.684 271.243,115.364 273.26,115.364 273.26,114.045 273.522,114.045 \n",
       "  273.522,112.725 274.345,112.725 274.345,111.405 277.748,111.405 277.748,110.086 279.126,110.086 279.126,108.766 293.458,108.766 293.458,107.446 295.181,107.446 \n",
       "  295.181,106.127 297.737,106.127 297.737,104.807 299.818,104.807 299.818,103.487 300.208,103.487 300.208,102.168 303.391,102.168 303.391,100.848 303.501,100.848 \n",
       "  303.501,99.5285 303.613,99.5285 303.613,98.2088 303.853,98.2088 303.853,96.8892 304.723,96.8892 304.723,95.5695 309.079,95.5695 309.079,94.2498 311.003,94.2498 \n",
       "  311.003,92.9302 312.248,92.9302 312.248,91.6105 314.627,91.6105 314.627,90.2909 314.73,90.2909 314.73,88.9712 324.94,88.9712 324.94,87.6516 326.649,87.6516 \n",
       "  326.649,86.3319 328.254,86.3319 328.254,85.0123 328.602,85.0123 328.602,83.6926 330.674,83.6926 330.674,82.373 338.84,82.373 338.84,81.0533 339.92,81.0533 \n",
       "  339.92,79.7336 340.199,79.7336 340.199,78.414 353.619,78.414 353.619,77.0943 355.258,77.0943 355.258,75.7747 356.692,75.7747 356.692,74.455 360.741,74.455 \n",
       "  360.741,73.1354 361.974,73.1354 361.974,71.8157 366.344,71.8157 366.344,70.4961 374.144,70.4961 374.144,69.1764 374.553,69.1764 374.553,67.8568 385.675,67.8568 \n",
       "  385.675,66.5371 390.037,66.5371 390.037,65.2174 390.803,65.2174 390.803,63.8978 393.156,63.8978 393.156,62.5781 393.594,62.5781 393.594,61.2585 409.894,61.2585 \n",
       "  409.894,59.9388 412.947,59.9388 412.947,58.6192 418.106,58.6192 418.106,57.2995 430.289,57.2995 430.289,55.9799 434.052,55.9799 434.052,54.6602 436.861,54.6602 \n",
       "  436.861,53.3406 437.283,53.3406 437.283,52.0209 439.672,52.0209 439.672,50.7012 443.158,50.7012 443.158,49.3816 445.668,49.3816 445.668,48.0619 448.382,48.0619 \n",
       "  448.382,46.7423 461.471,46.7423 461.471,45.4226 471.297,45.4226 471.297,44.103 472.056,44.103 472.056,42.7833 475.443,42.7833 475.443,41.4637 494.998,41.4637 \n",
       "  494.998,40.144 506.293,40.144 506.293,38.8244 509.117,38.8244 509.117,37.5047 514.49,37.5047 514.49,36.185 515.216,36.185 515.216,34.8654 521.853,34.8654 \n",
       "  521.853,33.5457 526.644,33.5457 526.644,32.2261 550.386,32.2261 550.386,30.9064 560.075,30.9064 560.075,29.5868 574.675,29.5868 574.675,28.2671 \n",
       "  \"/>\n",
       "<polygon clip-path=\"url(#clip9700)\" points=\"\n",
       "493.627,108.291 562.315,108.291 562.315,32.691 493.627,32.691 \n",
       "  \" fill=\"#ffffff\" fill-opacity=\"1\"/>\n",
       "<polyline clip-path=\"url(#clip9700)\" style=\"stroke:#000000; stroke-width:1; stroke-opacity:1; fill:none\" points=\"\n",
       "  493.627,108.291 562.315,108.291 562.315,32.691 493.627,32.691 493.627,108.291 \n",
       "  \"/>\n",
       "<polyline clip-path=\"url(#clip9700)\" style=\"stroke:#800080; stroke-width:1; stroke-opacity:1; fill:none\" points=\"\n",
       "  499.627,47.811 535.627,47.811 \n",
       "  \"/>\n",
       "<g clip-path=\"url(#clip9700)\">\n",
       "<text style=\"fill:#000000; fill-opacity:1; font-family:Arial,Helvetica Neue,Helvetica,sans-serif; font-size:12; text-anchor:start;\" transform=\"rotate(0, 541.627, 52.311)\" x=\"541.627\" y=\"52.311\">S</text>\n",
       "</g>\n",
       "<polyline clip-path=\"url(#clip9700)\" style=\"stroke:#68838b; stroke-width:1; stroke-opacity:1; fill:none\" points=\"\n",
       "  499.627,62.931 535.627,62.931 \n",
       "  \"/>\n",
       "<g clip-path=\"url(#clip9700)\">\n",
       "<text style=\"fill:#000000; fill-opacity:1; font-family:Arial,Helvetica Neue,Helvetica,sans-serif; font-size:12; text-anchor:start;\" transform=\"rotate(0, 541.627, 67.431)\" x=\"541.627\" y=\"67.431\">E</text>\n",
       "</g>\n",
       "<polyline clip-path=\"url(#clip9700)\" style=\"stroke:#90ee90; stroke-width:1; stroke-opacity:1; fill:none\" points=\"\n",
       "  499.627,78.051 535.627,78.051 \n",
       "  \"/>\n",
       "<g clip-path=\"url(#clip9700)\">\n",
       "<text style=\"fill:#000000; fill-opacity:1; font-family:Arial,Helvetica Neue,Helvetica,sans-serif; font-size:12; text-anchor:start;\" transform=\"rotate(0, 541.627, 82.551)\" x=\"541.627\" y=\"82.551\">I</text>\n",
       "</g>\n",
       "<polyline clip-path=\"url(#clip9700)\" style=\"stroke:#ffff00; stroke-width:1; stroke-opacity:1; fill:none\" points=\"\n",
       "  499.627,93.171 535.627,93.171 \n",
       "  \"/>\n",
       "<g clip-path=\"url(#clip9700)\">\n",
       "<text style=\"fill:#000000; fill-opacity:1; font-family:Arial,Helvetica Neue,Helvetica,sans-serif; font-size:12; text-anchor:start;\" transform=\"rotate(0, 541.627, 97.671)\" x=\"541.627\" y=\"97.671\">R</text>\n",
       "</g>\n",
       "</svg>\n"
      ]
     },
     "execution_count": 11,
     "metadata": {},
     "output_type": "execute_result"
    }
   ],
   "source": [
    "plot(sim.events)"
   ]
  },
  {
   "cell_type": "markdown",
   "metadata": {},
   "source": [
    "We can also visualize transmission networks through time - below is an animation showing the spread of an epidemic for the first 50 time units."
   ]
  },
  {
   "cell_type": "code",
   "execution_count": 12,
   "metadata": {},
   "outputs": [
    {
     "name": "stderr",
     "output_type": "stream",
     "text": [
      "\u001b[1m\u001b[36mINFO: \u001b[39m\u001b[22m\u001b[36mSaved animation to /Users/justin/.julia/v0.6/Pathogen/examples/01_epidemic_animation.mp4\n",
      "\u001b[39m"
     ]
    },
    {
     "data": {
      "text/html": [
       "<video controls><source src=\"01_epidemic_animation.mp4?0.2437401187749033>\" type=\"video/mp4\"></video>"
      ],
      "text/plain": [
       "Plots.AnimatedGif(\"/Users/justin/.julia/v0.6/Pathogen/examples/01_epidemic_animation.mp4\")"
      ]
     },
     "execution_count": 12,
     "metadata": {},
     "output_type": "execute_result"
    }
   ],
   "source": [
    "epidemic_animation = @animate for t in linspace(0., 50., 100) # From t = 0.0 to t= 50.0 with 100 increments\n",
    "    plot(sim.transmission_network, sim.population, sim.events, t)\n",
    "end\n",
    "mp4(epidemic_animation, Pkg.dir(\"Pathogen\")*\"/examples/01_epidemic_animation.mp4\", fps=5)"
   ]
  }
 ],
 "metadata": {
  "kernelspec": {
   "display_name": "Julia 0.6.3",
   "language": "julia",
   "name": "julia-0.6"
  },
  "language_info": {
   "file_extension": ".jl",
   "mimetype": "application/julia",
   "name": "julia",
   "version": "0.6.3"
  }
 },
 "nbformat": 4,
 "nbformat_minor": 2
}
