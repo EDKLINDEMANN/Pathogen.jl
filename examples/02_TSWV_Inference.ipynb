{
 "cells": [
  {
   "cell_type": "markdown",
   "metadata": {},
   "source": [
    "## An SI model to a Tomato Spotted Wilt Virus experiment\n",
    "In this example we will perform SI model inference using data on the spread of Tomato Spotted Wilt Virus (TSWV) in a greenhouse from Hughes et al. (1997). In this experiment, 520 plants regularly spaced in a 10m x 26m greenhouse were examined for pressence of TSWV once every two weeks. Plants were not removed after showing signs of infection by TSWV. The experiment concluded after 14 weeks, which saw a total of 327 individual plants infected.\n",
    "\n",
    "### References\n",
    "* Hughes G, McRoberts N, Madden LV, Nelson SC (1997). “Validating Mathematical Models of Plant-Disease Progress in Space and Time.” Mathematical Medicine and Biology: A Journal of the Institute of Mathematics and Its Applications, 14(2), 85– 112."
   ]
  },
  {
   "cell_type": "markdown",
   "metadata": {},
   "source": [
    "## Initialization\n",
    "Load `Pathogen`, as well as:\n",
    "* `CSV` for extended CSV file I/O functionality,\n",
    "* `Distributed`, `Random`, and `DelimitedFiles` from Julia Base,\n",
    "* `DataFrames` for storing individual level information,\n",
    "* `Distributions` for specification of priors for Bayesian inference,\n",
    "* `Plots` for visualization (using whichever visualization backend your prefer), and\n"
   ]
  },
  {
   "cell_type": "code",
   "execution_count": 1,
   "metadata": {
    "scrolled": true
   },
   "outputs": [
    {
     "name": "stderr",
     "output_type": "stream",
     "text": [
      "┌ Info: Recompiling stale cache file /Users/justin/.julia/compiled/v1.0/CSV/HHBkp.ji for CSV [336ed68f-0bac-5ca0-87d4-7b16caf5d00b]\n",
      "└ @ Base loading.jl:1187\n",
      "┌ Info: Recompiling stale cache file /Users/justin/.julia/compiled/v1.0/Plots/ld3vC.ji for Plots [91a5bcdd-55d7-5caf-9e0b-520d859cae80]\n",
      "└ @ Base loading.jl:1187\n",
      "┌ Info: Recompiling stale cache file /Users/justin/.julia/compiled/v1.0/Distributions/xILW0.ji for Distributions [31c24e10-a181-5473-b8eb-7969acd0382f]\n",
      "└ @ Base loading.jl:1187\n",
      "┌ Info: Recompiling stale cache file /Users/justin/.julia/compiled/v1.0/Pathogen/08VJn.ji for Pathogen [58f1fdb4-9bff-11e8-2091-99b816fb7d3c]\n",
      "└ @ Base loading.jl:1187\n"
     ]
    }
   ],
   "source": [
    "using CSV, Distributed, DelimitedFiles, Distances, LinearAlgebra, Plots, Random, DataFrames, Distributions, Pathogen\n",
    "addprocs(3)\n",
    "@everywhere using DataFrames, Distributions, Pathogen"
   ]
  },
  {
   "cell_type": "markdown",
   "metadata": {},
   "source": [
    "We'll set the seed for random number generation such that our results here are reproducible:"
   ]
  },
  {
   "cell_type": "code",
   "execution_count": 2,
   "metadata": {},
   "outputs": [
    {
     "data": {
      "text/plain": [
       "MersenneTwister(UInt32[0x00001538], Random.DSFMT.DSFMT_state(Int32[-1744756614, 1072761743, -2028083806, 1073624598, -581637934, 1073626379, 327696063, 1073382742, 738168642, 1073600735  …  -595993142, 1072726157, 913087430, 1073114622, 2001550298, -624279679, 872770575, 1763491762, 382, 0]), [0.0, 0.0, 0.0, 0.0, 0.0, 0.0, 0.0, 0.0, 0.0, 0.0  …  0.0, 0.0, 0.0, 0.0, 0.0, 0.0, 0.0, 0.0, 0.0, 0.0], UInt128[0x00000000000000000000000000000000, 0x00000000000000000000000000000000, 0x00000000000000000000000000000000, 0x00000000000000000000000000000000, 0x00000000000000000000000000000000, 0x00000000000000000000000000000000, 0x00000000000000000000000000000000, 0x00000000000000000000000000000000, 0x00000000000000000000000000000000, 0x00000000000000000000000000000000  …  0x00000000000000000000000000000000, 0x00000000000000000000000000000000, 0x00000000000000000000000000000000, 0x00000000000000000000000000000000, 0x00000000000000000000000000000000, 0x00000000000000000000000000000000, 0x00000000000000000000000000000000, 0x00000000000000000000000000000000, 0x00000000000000000000000000000000, 0x00000000000000000000000000000000], 1002, 0)"
      ]
     },
     "execution_count": 2,
     "metadata": {},
     "output_type": "execute_result"
    }
   ],
   "source": [
    "Random.seed!(5432)"
   ]
  },
  {
   "cell_type": "markdown",
   "metadata": {},
   "source": [
    "## TSWV Data\n",
    "We'll import the TSWV, provided as csv files. \n",
    "\n",
    "The first CSV file contains X, Y locations in metres for each individual plant in the study. \n",
    "\n",
    "The second CSV file contains records of the first day in which each individual was observed as being infected by TSWV. `NaN` indicates that no signs of infection were observed within the 14 week study period."
   ]
  },
  {
   "cell_type": "code",
   "execution_count": 3,
   "metadata": {},
   "outputs": [
    {
     "data": {
      "text/plain": [
       "SI model observations (n=520)"
      ]
     },
     "execution_count": 3,
     "metadata": {},
     "output_type": "execute_result"
    }
   ],
   "source": [
    "# Use CSV.jl for DataFrames I/O\n",
    "#\n",
    "# We know the types of the columns, so we'll manually specify those. \n",
    "# * Individual IDs are `Int64`\n",
    "# * X,Y coordinates are `Float64`s\n",
    "risks = CSV.read(joinpath(@__DIR__, \"02_TSWV_locations.csv\"), types=[Int64; Float64; Float64])\n",
    "pop = Population(risks)\n",
    "\n",
    "# Will precalculate distances\n",
    "pop.distances = [euclidean([risks[:x][i]; risks[:y][i]], [risks[:x][j]; risks[:y][j]]) for i = 1:pop.individuals, j = 1:pop.individuals]\n",
    "\n",
    "# Use julia's included CSV interface for simple vector of observation times\n",
    "raw_observations = readdlm(joinpath(@__DIR__, \"02_TSWV_infection_observations.csv\"))[:]\n",
    "\n",
    "# Create an `EventObservations` object with `Pathogen.jl`\n",
    "obs = EventObservations{SI}(raw_observations)"
   ]
  },
  {
   "cell_type": "code",
   "execution_count": 4,
   "metadata": {},
   "outputs": [
    {
     "data": {
      "text/plain": [
       "13-element view(::Array{Float64,1}, [2, 83, 86, 113, 227, 270, 296, 305, 322, 346, 410, 438, 461]) with eltype Float64:\n",
       " -Inf\n",
       " -Inf\n",
       " -Inf\n",
       " -Inf\n",
       " -Inf\n",
       " -Inf\n",
       " -Inf\n",
       " -Inf\n",
       " -Inf\n",
       " -Inf\n",
       " -Inf\n",
       " -Inf\n",
       " -Inf"
      ]
     },
     "execution_count": 4,
     "metadata": {},
     "output_type": "execute_result"
    }
   ],
   "source": [
    "# For performing inference we are going to set everything at or before t = 42 as being the starting state.\n",
    "starting_states = [obs.infection[i] <= 42.0 ? State_I : State_S for i=1:obs.individuals]\n",
    "# We will also set these observation times to -Inf\n",
    "obs.infection[obs.infection .<= 42.0] .= -Inf\n",
    "# Note: may provide a built in method for this all in the future!"
   ]
  },
  {
   "cell_type": "markdown",
   "metadata": {},
   "source": [
    "We will now formulate our `SEI` individual level model. For our example, this model will be quite simple as we have a contained artifical environment which limits exogeneous transmissions, and we do not have individual level risk factors to consider beyond basic location data. We will use some common functions which have been prewritten in our examples folder.\n",
    "\n"
   ]
  },
  {
   "cell_type": "code",
   "execution_count": 5,
   "metadata": {},
   "outputs": [
    {
     "data": {
      "text/plain": [
       "SI model risk functions"
      ]
     },
     "execution_count": 5,
     "metadata": {},
     "output_type": "execute_result"
    }
   ],
   "source": [
    "include(joinpath(@__DIR__, \"risk_functions.jl\"))\n",
    "\n",
    "rf = RiskFunctions{SI}(_zero, # sparks function - we will assume no exogenous transmissions and set this to zero\n",
    "                       _one, # susceptibility function - we do not have individual level risk factor information to explore here, so will set to a constant 1\n",
    "                       _powerlaw, # transmissability function - we will use a powerlaw kernel. This provides a spatial and non-spatial component to infection transmissions. This has 2 parameters.\n",
    "                       _one) # latency function - we will set this to a constant rate for all individuals to keep simple"
   ]
  },
  {
   "cell_type": "code",
   "execution_count": 6,
   "metadata": {},
   "outputs": [
    {
     "data": {
      "text/plain": [
       "SI model risk function priors"
      ]
     },
     "execution_count": 6,
     "metadata": {},
     "output_type": "execute_result"
    }
   ],
   "source": [
    "rpriors = RiskPriors{SI}(UnivariateDistribution[], # empty `UnivariateDistribution` vector for all parameter-less functions\n",
    "                         UnivariateDistribution[], \n",
    "                         [Gamma(1.0, 0.5); Gamma(1.0, 1.0)], # Relatively uninformative priors with appropriate support\n",
    "                         UnivariateDistribution[])"
   ]
  },
  {
   "cell_type": "markdown",
   "metadata": {},
   "source": [
    "We provide some bounds to event times in comparision to observation times. Actual onset of infectiousness in this study could have occurred any time between plant examinations. This means the observation delay could be up to 14.0 days."
   ]
  },
  {
   "cell_type": "code",
   "execution_count": 7,
   "metadata": {},
   "outputs": [
    {
     "data": {
      "text/plain": [
       "SI model event extents"
      ]
     },
     "execution_count": 7,
     "metadata": {},
     "output_type": "execute_result"
    }
   ],
   "source": [
    "ee = EventExtents{SI}(14.0)"
   ]
  },
  {
   "cell_type": "code",
   "execution_count": 8,
   "metadata": {},
   "outputs": [
    {
     "name": "stderr",
     "output_type": "stream",
     "text": [
      "\u001b[32mInitialization progress100%|████████████████████████████| Time: 0:00:04\u001b[39m:12\u001b[39m\n"
     ]
    },
    {
     "ename": "RemoteException",
     "evalue": "On worker 2:\nUndefVarError: #_zero not defined\ndeserialize_datatype at /Users/osx/buildbot/slave/package_osx64/build/usr/share/julia/stdlib/v1.0/Serialization/src/Serialization.jl:1051\nhandle_deserialize at /Users/osx/buildbot/slave/package_osx64/build/usr/share/julia/stdlib/v1.0/Serialization/src/Serialization.jl:743\ndeserialize at /Users/osx/buildbot/slave/package_osx64/build/usr/share/julia/stdlib/v1.0/Serialization/src/Serialization.jl:703\nhandle_deserialize at /Users/osx/buildbot/slave/package_osx64/build/usr/share/julia/stdlib/v1.0/Serialization/src/Serialization.jl:750\ndeserialize at /Users/osx/buildbot/slave/package_osx64/build/usr/share/julia/stdlib/v1.0/Serialization/src/Serialization.jl:1157\nhandle_deserialize at /Users/osx/buildbot/slave/package_osx64/build/usr/share/julia/stdlib/v1.0/Serialization/src/Serialization.jl:756\ndeserialize at /Users/osx/buildbot/slave/package_osx64/build/usr/share/julia/stdlib/v1.0/Serialization/src/Serialization.jl:1157\nhandle_deserialize at /Users/osx/buildbot/slave/package_osx64/build/usr/share/julia/stdlib/v1.0/Serialization/src/Serialization.jl:756\ndeserialize at /Users/osx/buildbot/slave/package_osx64/build/usr/share/julia/stdlib/v1.0/Serialization/src/Serialization.jl:1157\nhandle_deserialize at /Users/osx/buildbot/slave/package_osx64/build/usr/share/julia/stdlib/v1.0/Serialization/src/Serialization.jl:751\ndeserialize_msg at /Users/osx/buildbot/slave/package_osx64/build/usr/share/julia/stdlib/v1.0/Serialization/src/Serialization.jl:703\n#invokelatest#1 at ./essentials.jl:697 [inlined]\ninvokelatest at ./essentials.jl:696 [inlined]\nmessage_handler_loop at /Users/osx/buildbot/slave/package_osx64/build/usr/share/julia/stdlib/v1.0/Distributed/src/process_messages.jl:160\nprocess_tcp_streams at /Users/osx/buildbot/slave/package_osx64/build/usr/share/julia/stdlib/v1.0/Distributed/src/process_messages.jl:117\n#105 at ./task.jl:259",
     "output_type": "error",
     "traceback": [
      "On worker 2:\nUndefVarError: #_zero not defined\ndeserialize_datatype at /Users/osx/buildbot/slave/package_osx64/build/usr/share/julia/stdlib/v1.0/Serialization/src/Serialization.jl:1051\nhandle_deserialize at /Users/osx/buildbot/slave/package_osx64/build/usr/share/julia/stdlib/v1.0/Serialization/src/Serialization.jl:743\ndeserialize at /Users/osx/buildbot/slave/package_osx64/build/usr/share/julia/stdlib/v1.0/Serialization/src/Serialization.jl:703\nhandle_deserialize at /Users/osx/buildbot/slave/package_osx64/build/usr/share/julia/stdlib/v1.0/Serialization/src/Serialization.jl:750\ndeserialize at /Users/osx/buildbot/slave/package_osx64/build/usr/share/julia/stdlib/v1.0/Serialization/src/Serialization.jl:1157\nhandle_deserialize at /Users/osx/buildbot/slave/package_osx64/build/usr/share/julia/stdlib/v1.0/Serialization/src/Serialization.jl:756\ndeserialize at /Users/osx/buildbot/slave/package_osx64/build/usr/share/julia/stdlib/v1.0/Serialization/src/Serialization.jl:1157\nhandle_deserialize at /Users/osx/buildbot/slave/package_osx64/build/usr/share/julia/stdlib/v1.0/Serialization/src/Serialization.jl:756\ndeserialize at /Users/osx/buildbot/slave/package_osx64/build/usr/share/julia/stdlib/v1.0/Serialization/src/Serialization.jl:1157\nhandle_deserialize at /Users/osx/buildbot/slave/package_osx64/build/usr/share/julia/stdlib/v1.0/Serialization/src/Serialization.jl:751\ndeserialize_msg at /Users/osx/buildbot/slave/package_osx64/build/usr/share/julia/stdlib/v1.0/Serialization/src/Serialization.jl:703\n#invokelatest#1 at ./essentials.jl:697 [inlined]\ninvokelatest at ./essentials.jl:696 [inlined]\nmessage_handler_loop at /Users/osx/buildbot/slave/package_osx64/build/usr/share/julia/stdlib/v1.0/Distributed/src/process_messages.jl:160\nprocess_tcp_streams at /Users/osx/buildbot/slave/package_osx64/build/usr/share/julia/stdlib/v1.0/Distributed/src/process_messages.jl:117\n#105 at ./task.jl:259",
      "",
      "Stacktrace:",
      " [1] #remotecall_fetch#149(::Base.Iterators.Pairs{Union{},Union{},Tuple{},NamedTuple{(),Tuple{}}}, ::Function, ::Function, ::Distributed.Worker, ::Distributed.RRID) at /Users/osx/buildbot/slave/package_osx64/build/usr/share/julia/stdlib/v1.0/Distributed/src/remotecall.jl:379",
      " [2] remotecall_fetch(::Function, ::Distributed.Worker, ::Distributed.RRID, ::Vararg{Any,N} where N) at /Users/osx/buildbot/slave/package_osx64/build/usr/share/julia/stdlib/v1.0/Distributed/src/remotecall.jl:371",
      " [3] #remotecall_fetch#152 at /Users/osx/buildbot/slave/package_osx64/build/usr/share/julia/stdlib/v1.0/Distributed/src/remotecall.jl:406 [inlined]",
      " [4] remotecall_fetch at /Users/osx/buildbot/slave/package_osx64/build/usr/share/julia/stdlib/v1.0/Distributed/src/remotecall.jl:406 [inlined]",
      " [5] call_on_owner at /Users/osx/buildbot/slave/package_osx64/build/usr/share/julia/stdlib/v1.0/Distributed/src/remotecall.jl:479 [inlined]",
      " [6] fetch(::Future) at /Users/osx/buildbot/slave/package_osx64/build/usr/share/julia/stdlib/v1.0/Distributed/src/remotecall.jl:511",
      " [7] iterate at ./generator.jl:47 [inlined]",
      " [8] collect(::Base.Generator{Array{Future,1},typeof(fetch)}) at ./array.jl:619",
      " [9] macro expansion at ./logging.jl:313 [inlined]",
      " [10] #start!#22(::Int64, ::Function, ::MCMC{SI}, ::Int64) at /Users/justin/.julia/dev/Pathogen/src/functions/start!.jl:8",
      " [11] (::getfield(Pathogen, Symbol(\"#kw##start!\")))(::NamedTuple{(:attempts,),Tuple{Int64}}, ::typeof(start!), ::MCMC{SI}, ::Int64) at ./none:0",
      " [12] top-level scope at In[8]:2"
     ]
    }
   ],
   "source": [
    "mcmc = MCMC(obs, ee, pop, starting_states, rf, rpriors)\n",
    "start!(mcmc, 3, attempts = 20000)"
   ]
  },
  {
   "cell_type": "code",
   "execution_count": 9,
   "metadata": {
    "scrolled": false
   },
   "outputs": [
    {
     "data": {
      "text/plain": [
       "SI model MCMC with 0 chains"
      ]
     },
     "execution_count": 9,
     "metadata": {},
     "output_type": "execute_result"
    }
   ],
   "source": [
    "iterate!(mcmc, 5000, 0.5, event_batches = 50)"
   ]
  },
  {
   "cell_type": "code",
   "execution_count": null,
   "metadata": {
    "scrolled": false
   },
   "outputs": [],
   "source": [
    "plot(mcmc.markov_chains[1].risk_parameters)\n",
    "plot!(mcmc.markov_chains[2].risk_parameters)\n",
    "plot!(mcmc.markov_chains[3].risk_parameters)\n",
    "png(joinpath(@__DIR__, \"02_TSWV_trace.png\"))"
   ]
  },
  {
   "cell_type": "code",
   "execution_count": null,
   "metadata": {},
   "outputs": [],
   "source": [
    "# Visualization of transmission network convergence during MCMC\n",
    "epidemic_animation = @animate for i = 1:50:7950\n",
    "    plot(mcmc.markov_chains[1].transmission_network[i], \n",
    "         mcmc.population, \n",
    "         mcmc.markov_chains[1].events[i], \n",
    "         100.0, \n",
    "         aspect_ratio = :equal)\n",
    "end\n",
    "mp4(epidemic_animation, joinpath(@__DIR__, \"02_TSWV_transmission_network_convergence.mp4\"), fps=5)"
   ]
  },
  {
   "cell_type": "code",
   "execution_count": null,
   "metadata": {},
   "outputs": [],
   "source": [
    "# Visualization of a single inferred epidemic sample from MCMC\n",
    "epidemic_animation = @animate for t in range(42.0, stop=100.0, length=100)\n",
    "    plot(mcmc.markov_chains[3].transmission_network[end], \n",
    "         mcmc.population, \n",
    "         mcmc.markov_chains[3].events[end], \n",
    "         t, \n",
    "         aspect_ratio = :equal)\n",
    "end\n",
    "mp4(epidemic_animation, joinpath(@__DIR__, \"02_TSWV_epidemic_plot_time.mp4\"), fps=2)"
   ]
  },
  {
   "cell_type": "code",
   "execution_count": null,
   "metadata": {},
   "outputs": [],
   "source": [
    "# Visualization of epidemic curve convergence\n",
    "epidemic_animation = @animate for i = 1:50:7950\n",
    "    plot(mcmc.markov_chains[1].events[i], 0.0, 100.0)\n",
    "end\n",
    "mp4(epidemic_animation, joinpath(@__DIR__, \"02_TSWV_epidemic_curve_convergence.mp4\"), fps=5)"
   ]
  },
  {
   "cell_type": "code",
   "execution_count": null,
   "metadata": {},
   "outputs": [],
   "source": [
    "# Visualization of epidemic curve posterior\n",
    "plot(mcmc.markov_chains[2].events[3950], 0.0, 100.0, ylims=(0, 525), alpha=0.05, legend=false)\n",
    "for i = 4000:25:8000, j in [1; 3]\n",
    "    plot!(mcmc.markov_chains[j].events[i], 0.0, 100.0, ylims=(0, 525), alpha=0.05, legend=false)\n",
    "end\n",
    "png(joinpath(@__DIR__, \"02_TSWV_epidemic_curve_posterior.png\"))"
   ]
  },
  {
   "cell_type": "code",
   "execution_count": null,
   "metadata": {},
   "outputs": [],
   "source": []
  }
 ],
 "metadata": {
  "kernelspec": {
   "display_name": "Julia 1.0.0",
   "language": "julia",
   "name": "julia-1.0"
  },
  "language_info": {
   "file_extension": ".jl",
   "mimetype": "application/julia",
   "name": "julia",
   "version": "1.0.1"
  }
 },
 "nbformat": 4,
 "nbformat_minor": 2
}
